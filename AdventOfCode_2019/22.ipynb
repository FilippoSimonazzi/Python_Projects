{
 "cells": [
  {
   "cell_type": "code",
   "execution_count": 126,
   "metadata": {},
   "outputs": [],
   "source": [
    "from queue import Queue\n",
    "from collections import deque\n",
    "\n",
    "class Deck():\n",
    "    def __init__(self, tot_cards):\n",
    "        self.stack = Queue()\n",
    "        for i in range(tot_cards):\n",
    "            self.stack.put(i)\n",
    "        self.len_deck = tot_cards\n",
    "        self.table = ['.'] * tot_cards\n",
    "        \n",
    "    def printStack(self):\n",
    "        print(f'Your Stack: {list(self.stack.queue)}\\n')\n",
    "        \n",
    "    def printTable(self):\n",
    "        print(f'Table: {self.table}')\n",
    "        print(f'Current Position: {self.position}')\n",
    "        \n",
    "    def fillNewStack(self):\n",
    "        tmp = []\n",
    "        for i in range(self.stack.qsize()):\n",
    "            el = self.stack.get()\n",
    "            tmp.append(el)\n",
    "        tmp = tmp[::-1]\n",
    "        for i in range(len(tmp)):\n",
    "            self.stack.put(tmp[i])\n",
    "                    \n",
    "    def Cut(self, N, printing=False):\n",
    "        if printing:\n",
    "            self.printDeck()\n",
    "        if N > 0:\n",
    "            for i in range(N):\n",
    "                el = self.stack.get()\n",
    "                self.stack.put(el)\n",
    "                if printing:\n",
    "                    self.printStack()\n",
    "        elif N < 0:\n",
    "            for i in range(self.len_deck + N):\n",
    "                el = self.stack.get()\n",
    "                self.stack.put(el)\n",
    "                if printing:\n",
    "                    self.printStack()\n",
    "                    \n",
    "    def PickUpCards(self):\n",
    "        for i in range(self.len_deck):\n",
    "            el = self.table[i]\n",
    "            self.stack.put(el)\n",
    "                \n",
    "    def Deal(self, N, pick_up=True, printing=False):\n",
    "        self.position = 0\n",
    "        if printing:\n",
    "            self.printTable()\n",
    "        for i in range(self.len_deck):\n",
    "            el = self.stack.get()\n",
    "            self.table[self.position] = el\n",
    "            self.position = (self.position + N) % self.len_deck\n",
    "            if printing:\n",
    "                self.printTable()\n",
    "        if pick_up:\n",
    "            self.PickUpCards()\n",
    "\n",
    "    def getCard(self, pos):\n",
    "        card = self.stack.queue[pos]\n",
    "        print(f'Card in position {pos} is: {card}')"
   ]
  },
  {
   "cell_type": "markdown",
   "metadata": {},
   "source": [
    "*Part 1*"
   ]
  },
  {
   "cell_type": "code",
   "execution_count": 153,
   "metadata": {},
   "outputs": [],
   "source": [
    "data = []\n",
    "with open('22_try.txt') as f:\n",
    "    Lines = f.readlines()\n",
    "    \n",
    "for line in Lines:\n",
    "    data.append(line.strip())"
   ]
  },
  {
   "cell_type": "code",
   "execution_count": 156,
   "metadata": {},
   "outputs": [],
   "source": [
    "def applyInstruction(list_instr, deck):\n",
    "    i = 1\n",
    "    for line in list_instr:\n",
    "        action = line.split(' ')[0]\n",
    "        if action == 'cut':\n",
    "            N = line.split(' ')[1]\n",
    "            print(f'Action {i}: cut {N}')\n",
    "            i += 1\n",
    "            deck.Cut(int(N))\n",
    "        elif action == 'deal':\n",
    "            if line.split(' ')[1] == 'into':\n",
    "                print(f'Action {i}: deal into new stack')\n",
    "                i += 1\n",
    "                deck.fillNewStack()\n",
    "            else:\n",
    "                N = line.split(' ')[-1]\n",
    "                print(f'Action {i}: deal with increment {N}')\n",
    "                i += 1\n",
    "                deck.Deal(int(N))\n",
    "    return deck"
   ]
  },
  {
   "cell_type": "code",
   "execution_count": 157,
   "metadata": {},
   "outputs": [
    {
     "name": "stdout",
     "output_type": "stream",
     "text": [
      "Action 1: deal into new stack\n",
      "Action 2: cut -2732\n",
      "Action 3: deal into new stack\n",
      "Action 4: deal with increment 57\n",
      "Action 5: cut 5974\n",
      "Action 6: deal into new stack\n",
      "Action 7: deal with increment 32\n",
      "Action 8: cut -1725\n",
      "Action 9: deal with increment 24\n",
      "Action 10: cut 6093\n",
      "Action 11: deal with increment 6\n",
      "Action 12: cut -2842\n",
      "Action 13: deal with increment 14\n",
      "Action 14: cut 2609\n",
      "Action 15: deal with increment 12\n",
      "Action 16: cut -6860\n",
      "Action 17: deal with increment 51\n",
      "Action 18: cut -6230\n",
      "Action 19: deal with increment 61\n",
      "Action 20: cut 3152\n",
      "Action 21: deal with increment 28\n",
      "Action 22: cut 2202\n",
      "Action 23: deal into new stack\n",
      "Action 24: deal with increment 60\n",
      "Action 25: cut 433\n",
      "Action 26: deal into new stack\n",
      "Action 27: cut -6256\n",
      "Action 28: deal with increment 13\n",
      "Action 29: deal into new stack\n",
      "Action 30: cut 8379\n",
      "Action 31: deal into new stack\n",
      "Action 32: deal with increment 54\n",
      "Action 33: cut 1120\n",
      "Action 34: deal with increment 16\n",
      "Action 35: cut -5214\n",
      "Action 36: deal with increment 63\n",
      "Action 37: deal into new stack\n",
      "Action 38: cut -8473\n",
      "Action 39: deal with increment 11\n",
      "Action 40: cut 228\n",
      "Action 41: deal with increment 45\n",
      "Action 42: cut -6755\n",
      "Action 43: deal with increment 50\n",
      "Action 44: cut -3391\n",
      "Action 45: deal with increment 44\n",
      "Action 46: cut -1341\n",
      "Action 47: deal with increment 28\n",
      "Action 48: cut -6788\n",
      "Action 49: deal with increment 52\n",
      "Action 50: cut 3062\n",
      "Action 51: deal with increment 41\n",
      "Action 52: cut 4541\n",
      "Action 53: deal with increment 57\n",
      "Action 54: cut -7962\n",
      "Action 55: deal with increment 56\n",
      "Action 56: cut 9621\n",
      "Action 57: deal with increment 57\n",
      "Action 58: cut 3881\n",
      "Action 59: deal with increment 36\n",
      "Action 60: deal into new stack\n",
      "Action 61: deal with increment 45\n",
      "Action 62: cut 522\n",
      "Action 63: deal with increment 9\n",
      "Action 64: deal into new stack\n",
      "Action 65: deal with increment 60\n",
      "Action 66: deal into new stack\n",
      "Action 67: deal with increment 12\n",
      "Action 68: cut -9181\n",
      "Action 69: deal with increment 63\n",
      "Action 70: deal into new stack\n",
      "Action 71: deal with increment 14\n",
      "Action 72: cut -2906\n",
      "Action 73: deal with increment 10\n",
      "Action 74: cut 848\n",
      "Action 75: deal with increment 75\n",
      "Action 76: cut 798\n",
      "Action 77: deal with increment 29\n",
      "Action 78: cut 1412\n",
      "Action 79: deal with increment 10\n",
      "Action 80: deal into new stack\n",
      "Action 81: cut -5295\n",
      "Action 82: deal into new stack\n",
      "Action 83: cut 4432\n",
      "Action 84: deal with increment 72\n",
      "Action 85: cut -7831\n",
      "Action 86: deal into new stack\n",
      "Action 87: cut 6216\n",
      "Action 88: deal into new stack\n",
      "Action 89: deal with increment 7\n",
      "Action 90: cut -1720\n",
      "Action 91: deal into new stack\n",
      "Action 92: cut -5465\n",
      "Action 93: deal with increment 70\n",
      "Action 94: cut -5173\n",
      "Action 95: deal with increment 7\n",
      "Action 96: cut 3874\n",
      "Action 97: deal with increment 65\n",
      "Action 98: cut 921\n",
      "Action 99: deal with increment 8\n",
      "Action 100: cut -3094\n",
      "Card in position 2019 is: 2454\n"
     ]
    }
   ],
   "source": [
    "d = Deck(10007)\n",
    "\n",
    "d = applyInstruction(data, d)\n",
    "d.getCard(2019)"
   ]
  },
  {
   "cell_type": "code",
   "execution_count": 159,
   "metadata": {},
   "outputs": [
    {
     "name": "stdout",
     "output_type": "stream",
     "text": [
      "Card in position 2018 is: 7097\n"
     ]
    }
   ],
   "source": [
    "d.getCard(2018)"
   ]
  },
  {
   "cell_type": "code",
   "execution_count": 160,
   "metadata": {},
   "outputs": [
    {
     "name": "stdout",
     "output_type": "stream",
     "text": [
      "Card in position 2020 is: 7818\n"
     ]
    }
   ],
   "source": [
    "d.getCard(2020)"
   ]
  },
  {
   "cell_type": "code",
   "execution_count": null,
   "metadata": {},
   "outputs": [],
   "source": []
  }
 ],
 "metadata": {
  "kernelspec": {
   "display_name": "Python 3",
   "language": "python",
   "name": "python3"
  },
  "language_info": {
   "codemirror_mode": {
    "name": "ipython",
    "version": 3
   },
   "file_extension": ".py",
   "mimetype": "text/x-python",
   "name": "python",
   "nbconvert_exporter": "python",
   "pygments_lexer": "ipython3",
   "version": "3.8.6"
  }
 },
 "nbformat": 4,
 "nbformat_minor": 4
}
