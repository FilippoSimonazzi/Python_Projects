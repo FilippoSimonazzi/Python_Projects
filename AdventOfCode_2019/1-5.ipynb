{
 "cells": [
  {
   "cell_type": "code",
   "execution_count": 65,
   "metadata": {},
   "outputs": [],
   "source": [
    "%run Load_Data.ipynb"
   ]
  },
  {
   "cell_type": "markdown",
   "metadata": {},
   "source": [
    "# Ex 1"
   ]
  },
  {
   "cell_type": "markdown",
   "metadata": {},
   "source": [
    "*Part 1*"
   ]
  },
  {
   "cell_type": "code",
   "execution_count": 7,
   "metadata": {},
   "outputs": [],
   "source": [
    "data = readData('1.txt')\n",
    "data = [int(num) for num in data]"
   ]
  },
  {
   "cell_type": "code",
   "execution_count": 13,
   "metadata": {},
   "outputs": [],
   "source": [
    "def getFuel(mass):\n",
    "    return int(mass/3) - 2"
   ]
  },
  {
   "cell_type": "code",
   "execution_count": 17,
   "metadata": {},
   "outputs": [
    {
     "name": "stdout",
     "output_type": "stream",
     "text": [
      "Final Score: 3286680\n"
     ]
    }
   ],
   "source": [
    "score = 0\n",
    "for mass in data:\n",
    "    score += getFuel(mass)\n",
    "    \n",
    "print(f'Final Score: {score}')"
   ]
  },
  {
   "cell_type": "markdown",
   "metadata": {},
   "source": [
    "*Part 2*"
   ]
  },
  {
   "cell_type": "code",
   "execution_count": 48,
   "metadata": {},
   "outputs": [
    {
     "name": "stdout",
     "output_type": "stream",
     "text": [
      "Final Score: 4927158\n"
     ]
    }
   ],
   "source": [
    "running_score = 0\n",
    "\n",
    "for mass in data:\n",
    "    score = getFuel(mass)\n",
    "    while score >= 0:\n",
    "        if score > 0:\n",
    "            running_score += score\n",
    "        score = getFuel(score)\n",
    "        \n",
    "    \n",
    "print(f'Final Score: {running_score}')"
   ]
  },
  {
   "cell_type": "markdown",
   "metadata": {},
   "source": [
    "# Ex 2"
   ]
  },
  {
   "cell_type": "markdown",
   "metadata": {},
   "source": [
    "*Part 1*"
   ]
  },
  {
   "cell_type": "code",
   "execution_count": 92,
   "metadata": {},
   "outputs": [],
   "source": [
    "class Intcode():\n",
    "    def __init__(self, initial_pos):\n",
    "        self.intcode = initial_pos\n",
    "        self.current_pos = 0\n",
    "        self.run = True\n",
    "        \n",
    "    def op1(self):\n",
    "        pos_1 = self.intcode[self.current_pos + 1]\n",
    "        pos_2 = self.intcode[self.current_pos + 2]\n",
    "        num_1 = self.intcode[pos_1]\n",
    "        num_2 = self.intcode[pos_2]\n",
    "        replace_pos = self.intcode[self.current_pos + 3]\n",
    "        replace_num = num_1 + num_2\n",
    "        self.intcode[replace_pos] = replace_num\n",
    "        self.getOutput()\n",
    "         \n",
    "    def op2(self):\n",
    "        pos_1 = self.intcode[self.current_pos + 1]\n",
    "        pos_2 = self.intcode[self.current_pos + 2]\n",
    "        num_1 = self.intcode[pos_1]\n",
    "        num_2 = self.intcode[pos_2]\n",
    "        replace_pos = self.intcode[self.current_pos + 3]\n",
    "        replace_num = num_1 * num_2\n",
    "        self.intcode[replace_pos] = replace_num\n",
    "        self.getOutput()\n",
    "    \n",
    "    def op99(self):\n",
    "        # print(f'Final Output: {self.output}')\n",
    "        self.run = False\n",
    "    \n",
    "    def getOutput(self):\n",
    "        self.output = self.intcode[0]\n",
    "    \n",
    "    def nextMove(self):\n",
    "        if self.intcode[self.current_pos] == 1:\n",
    "            self.op1()\n",
    "        elif self.intcode[self.current_pos] == 2:\n",
    "            self.op2()\n",
    "        elif self.intcode[self.current_pos] == 99:\n",
    "            self.op99()\n",
    "        self.current_pos += 4"
   ]
  },
  {
   "cell_type": "code",
   "execution_count": 95,
   "metadata": {},
   "outputs": [
    {
     "name": "stdout",
     "output_type": "stream",
     "text": [
      "Final score: 4023471\n"
     ]
    }
   ],
   "source": [
    "init_list = [1,0,0,3,1,1,2,3,1,3,4,3,1,5,\n",
    "             0,3,2,1,6,19,1,5,19,23,1,23,\n",
    "             6,27,1,5,27,31,1,31,6,35,1,9,\n",
    "             35,39,2,10,39,43,1,43,6,47,2,\n",
    "             6,47,51,1,5,51,55,1,55,13,59,\n",
    "             1,59,10,63,2,10,63,67,1,9,67,\n",
    "             71,2,6,71,75,1,5,75,79,2,79,13,\n",
    "             83,1,83,5,87,1,87,9,91,1,5,91,\n",
    "             95,1,5,95,99,1,99,13,103,1,10,\n",
    "             103,107,1,107,9,111,1,6,111,115,\n",
    "             2,115,13,119,1,10,119,123,2,123,\n",
    "             6,127,1,5,127,131,1,5,131,135,1,\n",
    "             135,6,139,2,139,10,143,2,143,9,147,\n",
    "             1,147,6,151,1,151,13,155,2,155,9,\n",
    "             159,1,6,159,163,1,5,163,167,1,5,167,\n",
    "             171,1,10,171,175,1,13,175,179,1,179,\n",
    "             2,183,1,9,183,0,99,2,14,0,0]\n",
    "\n",
    "init_list[1] = 12\n",
    "init_list[2] = 2\n",
    "\n",
    "I = Intcode(init_list)\n",
    "\n",
    "while I.run:\n",
    "    I.nextMove()\n",
    "    \n",
    "print(f'Final score: {I.output}')"
   ]
  },
  {
   "cell_type": "markdown",
   "metadata": {},
   "source": [
    "*Part 2*"
   ]
  },
  {
   "cell_type": "code",
   "execution_count": 96,
   "metadata": {},
   "outputs": [
    {
     "name": "stdout",
     "output_type": "stream",
     "text": [
      "Noun: 80, Verb: 51, Final Score: 8051\n"
     ]
    }
   ],
   "source": [
    "init_list = [1,0,0,3,1,1,2,3,1,3,4,3,1,5,\n",
    "             0,3,2,1,6,19,1,5,19,23,1,23,\n",
    "             6,27,1,5,27,31,1,31,6,35,1,9,\n",
    "             35,39,2,10,39,43,1,43,6,47,2,\n",
    "             6,47,51,1,5,51,55,1,55,13,59,\n",
    "             1,59,10,63,2,10,63,67,1,9,67,\n",
    "             71,2,6,71,75,1,5,75,79,2,79,13,\n",
    "             83,1,83,5,87,1,87,9,91,1,5,91,\n",
    "             95,1,5,95,99,1,99,13,103,1,10,\n",
    "             103,107,1,107,9,111,1,6,111,115,\n",
    "             2,115,13,119,1,10,119,123,2,123,\n",
    "             6,127,1,5,127,131,1,5,131,135,1,\n",
    "             135,6,139,2,139,10,143,2,143,9,147,\n",
    "             1,147,6,151,1,151,13,155,2,155,9,\n",
    "             159,1,6,159,163,1,5,163,167,1,5,167,\n",
    "             171,1,10,171,175,1,13,175,179,1,179,\n",
    "             2,183,1,9,183,0,99,2,14,0,0]\n",
    "\n",
    "for noun in range(0, 100):\n",
    "    for verb in range(0, 100):\n",
    "        new_list = init_list.copy()\n",
    "        new_list[1] = noun\n",
    "        new_list[2] = verb\n",
    "        I = Intcode(new_list)\n",
    "        while I.run:\n",
    "            I.nextMove()\n",
    "        if I.output == 19690720:\n",
    "            print(f'Noun: {noun}, Verb: {verb}, Final Score: {100 * noun + verb}')\n",
    "            break"
   ]
  },
  {
   "cell_type": "markdown",
   "metadata": {},
   "source": [
    "# Part 3"
   ]
  },
  {
   "cell_type": "code",
   "execution_count": 225,
   "metadata": {},
   "outputs": [],
   "source": [
    "class Wires():\n",
    "    def __init__(self, wire1, wire2):\n",
    "        self.central = (0, 0)\n",
    "        self.instr_1 = wire1\n",
    "        self.instr_2 = wire2\n",
    "        self.wire_1 = []\n",
    "        self.wire_2 = []\n",
    "        self.score = 10**4  # it has to be big\n",
    "        self.steps = 10**9  # it has to be big\n",
    "        \n",
    "    def moveWire_1(self):\n",
    "        self.current_pos = [0, 0]\n",
    "        for instr in self.instr_1:\n",
    "            direction = instr[0]\n",
    "            quantity = int(instr[1:])\n",
    "            if direction == 'R':\n",
    "                for i in range(quantity):\n",
    "                    self.current_pos[0] += 1\n",
    "                    self.wire_1.append((self.current_pos[0], self.current_pos[1]))\n",
    "            elif direction == 'L':\n",
    "                for i in range(quantity):\n",
    "                    self.current_pos[0] -= 1\n",
    "                    self.wire_1.append((self.current_pos[0], self.current_pos[1]))\n",
    "            elif direction == 'U':\n",
    "                for i in range(quantity):\n",
    "                    self.current_pos[1] += 1\n",
    "                    self.wire_1.append((self.current_pos[0], self.current_pos[1]))\n",
    "            elif direction == 'D':\n",
    "                for i in range(quantity):\n",
    "                    self.current_pos[1] -= 1\n",
    "                    self.wire_1.append((self.current_pos[0], self.current_pos[1]))\n",
    "                    \n",
    "    def moveWire_2(self):\n",
    "        self.current_pos = [0, 0]\n",
    "        for instr in self.instr_2:\n",
    "            direction = instr[0]\n",
    "            quantity = int(instr[1:])\n",
    "            if direction == 'R':\n",
    "                for i in range(quantity):\n",
    "                    self.current_pos[0] += 1\n",
    "                    self.wire_2.append((self.current_pos[0], self.current_pos[1]))\n",
    "            elif direction == 'L':\n",
    "                for i in range(quantity):\n",
    "                    self.current_pos[0] -= 1\n",
    "                    self.wire_2.append((self.current_pos[0], self.current_pos[1]))\n",
    "            elif direction == 'U':\n",
    "                for i in range(quantity):\n",
    "                    self.current_pos[1] += 1\n",
    "                    self.wire_2.append((self.current_pos[0], self.current_pos[1]))\n",
    "            elif direction == 'D':\n",
    "                for i in range(quantity):\n",
    "                    self.current_pos[1] -= 1\n",
    "                    self.wire_2.append((self.current_pos[0], self.current_pos[1]))\n",
    "                \n",
    "    def computeScore(self):\n",
    "        for position in self.wire_1:\n",
    "            if position in self.wire_2:\n",
    "                distance = abs(position[0]) + abs(position[1])\n",
    "                if distance < self.score:\n",
    "                    self.score = distance\n",
    "                    \n",
    "    def computeSteps(self):\n",
    "        for position in self.wire_1:\n",
    "            if position in self.wire_2:\n",
    "                steps1 = self.wire_1.index(position)\n",
    "                steps2 = self.wire_2.index(position)\n",
    "                tot_steps = steps1 + steps2 + 2\n",
    "                if tot_steps < self.steps:\n",
    "                    self.steps = tot_steps\n",
    "        "
   ]
  },
  {
   "cell_type": "code",
   "execution_count": 226,
   "metadata": {},
   "outputs": [],
   "source": [
    "data = readData('3.txt')\n",
    "\n",
    "wire1 = data[0].split(',')\n",
    "wire2 = data[1].split(',')"
   ]
  },
  {
   "cell_type": "code",
   "execution_count": 227,
   "metadata": {},
   "outputs": [
    {
     "name": "stdout",
     "output_type": "stream",
     "text": [
      "Final Score: 4981\n",
      "Final Steps: 164012\n"
     ]
    }
   ],
   "source": [
    "W = Wires(wire1, wire2)\n",
    "W.moveWire_1()\n",
    "W.moveWire_2()\n",
    "W.computeSteps()\n",
    "W.computeScore()\n",
    "\n",
    "print(f'Final Score: {W.score}')\n",
    "print(f'Final Steps: {W.steps}')"
   ]
  },
  {
   "cell_type": "markdown",
   "metadata": {},
   "source": [
    "# Ex 4"
   ]
  },
  {
   "cell_type": "code",
   "execution_count": 66,
   "metadata": {},
   "outputs": [],
   "source": [
    "import math\n",
    "\n",
    "def check(n):\n",
    "    str_n = str(n)\n",
    "    # 6 digit-number\n",
    "    if len(str_n) != 6:\n",
    "        return False\n",
    "    \n",
    "    # two of the same\n",
    "#    same = [False] * 5\n",
    "#    for i in range(5):\n",
    "#        if str_n[i] == str_n[i+1]:\n",
    "#            same[i] = True\n",
    "#    if not any(same):\n",
    "#        return False\n",
    "    \n",
    "    list_n = []\n",
    "    for el in str_n:\n",
    "        list_n.append(el)\n",
    "    check_couple = findCouple(list_n)\n",
    "    if len(check_couple) == 0:\n",
    "        return False\n",
    "    \n",
    "    # decreasing\n",
    "    decr = [True] * 5\n",
    "    for i in range(5):\n",
    "        if int(str_n[i]) > int(str_n[i+1]):\n",
    "            decr[i] = False\n",
    "    if not all(decr):\n",
    "        return False\n",
    "\n",
    "    return True\n",
    "\n",
    "\n",
    "def subsets(s):\n",
    "    sets = []\n",
    "    for i in range(len(s)-1):\n",
    "        sets.append([s[i], s[i+1]])\n",
    "    for i in range(1, len(s)-1):\n",
    "        sets.append([s[i-1], s[i], s[i+1]])\n",
    "    return sets\n",
    "\n",
    "def findCouple(s):\n",
    "    subset = subsets(s)\n",
    "    elements = []\n",
    "    for el in subset:\n",
    "        if len(el) == 2:\n",
    "            if len(set(el)) == 1:\n",
    "                elements.append(list(set(el))[0])\n",
    "    return list(set(elements))\n",
    "\n",
    "def findGroup(s, elements):\n",
    "    subset = subsets(s)\n",
    "    check = [False] * len(elements)\n",
    "    i = 0\n",
    "    for el in subset:\n",
    "        if len(el) > 2:\n",
    "            if len(set(el)) == 1:\n",
    "                if list(set(el))[0] in elements:\n",
    "                    check[i] = True\n",
    "                    i += 1\n",
    "    if any(check):\n",
    "        return True\n",
    "    else:\n",
    "        return False\n",
    "\n",
    "def check_2(n):\n",
    "    str_n = str(n)\n",
    "    # 6 digit-number\n",
    "    if len(str_n) != 6:\n",
    "        return False\n",
    "    \n",
    "    # two of the same\n",
    "    list_n = []\n",
    "    for el in str_n:\n",
    "        list_n.append(el)\n",
    "    check_couple = findCouple(list_n)\n",
    "    check_group = findGroup(list_n)\n",
    "    if not check_couple:\n",
    "        return False\n",
    "    if check_group:\n",
    "        return False\n",
    "    \n",
    "    # decreasing\n",
    "    decr = [True] * 5\n",
    "    for i in range(5):\n",
    "        if int(str_n[i]) > int(str_n[i+1]):\n",
    "            decr[i] = False\n",
    "    if not all(decr):\n",
    "        return False\n",
    "    \n",
    "    return True"
   ]
  },
  {
   "cell_type": "code",
   "execution_count": 51,
   "metadata": {},
   "outputs": [
    {
     "name": "stdout",
     "output_type": "stream",
     "text": [
      "Final Score: 1330\n"
     ]
    }
   ],
   "source": [
    "score = 0\n",
    "\n",
    "for n in range(231832, 767346):\n",
    "    if check(n):\n",
    "        score += 1\n",
    "        \n",
    "print(f'Final Score: {score}')"
   ]
  },
  {
   "cell_type": "code",
   "execution_count": 28,
   "metadata": {},
   "outputs": [
    {
     "name": "stdout",
     "output_type": "stream",
     "text": [
      "Final Score: 594\n"
     ]
    }
   ],
   "source": [
    "score_new = 0\n",
    "\n",
    "for n in range(231832, 767346):\n",
    "    if check_2(n):\n",
    "        score_new += 1\n",
    "        \n",
    "print(f'Final Score: {score_new}')\n",
    "## NOT WORKING!"
   ]
  },
  {
   "cell_type": "markdown",
   "metadata": {},
   "source": [
    "# Ex 5"
   ]
  },
  {
   "cell_type": "markdown",
   "metadata": {},
   "source": [
    "*Part 1*"
   ]
  },
  {
   "cell_type": "code",
   "execution_count": 63,
   "metadata": {},
   "outputs": [],
   "source": [
    "class Intcode():\n",
    "    def __init__(self, initial_pos, input_value):\n",
    "        self.intcode = initial_pos\n",
    "        self.input_value = input_value\n",
    "        self.current_pos = 0\n",
    "        self.run = True\n",
    "        self.position_mode = False\n",
    "        self.immediate_mode = False\n",
    "        \n",
    "    def readInstruction(self, instruction):\n",
    "        instruction = str(instruction)\n",
    "        self.op = int(instruction[-2:])\n",
    "        try:\n",
    "            self.param_1_mode = int(instruction[-3])\n",
    "        except:\n",
    "            self.param_1_mode = 0\n",
    "        try:\n",
    "            self.param_2_mode = int(instruction[-4])\n",
    "        except:\n",
    "            self.param_2_mode = 0\n",
    "        try:\n",
    "            self.param_3_mode = int(instruction[-5])\n",
    "        except:\n",
    "            self.param_3_mode = 0\n",
    "        \n",
    "    def getParam(self, op):\n",
    "        if op == 2 or op == 1:\n",
    "            self.param_1 = self.intcode[self.current_pos + 1]\n",
    "            self.param_2 = self.intcode[self.current_pos + 2]\n",
    "            self.param_3 = self.intcode[self.current_pos + 3]\n",
    "        \n",
    "        elif op == 3 or op == 4:\n",
    "            self.param_1 = self.intcode[self.current_pos + 1]\n",
    "            \n",
    "    def op1(self):\n",
    "        if self.param_1_mode == 0:\n",
    "            self.param_1 = self.intcode[self.param_1]\n",
    "        if self.param_2_mode == 0:\n",
    "            self.param_2 = self.intcode[self.param_2]\n",
    "        if self.param_3_mode == 0:\n",
    "            self.param_3 = self.intcode[self.param_3]\n",
    "        replace_num = self.param_1 + self.param_2\n",
    "        self.intcode[self.param_3] = replace_num\n",
    "\n",
    "    def op2(self):\n",
    "        if self.param_1_mode == 0:\n",
    "            self.param_1 = self.intcode[self.param_1]\n",
    "        if self.param_2_mode == 0:\n",
    "            self.param_2 = self.intcode[self.param_2]\n",
    "        if self.param_3_mode == 0:\n",
    "            self.param_3 = self.intcode[self.param_3]\n",
    "        replace_num = self.param_1 * self.param_2\n",
    "        self.intcode[self.param_3] = replace_num\n",
    "    \n",
    "    def op3(self):\n",
    "        if self.param_1_mode == 0:\n",
    "            self.param_1 = self.intcode[self.param_1]\n",
    "        self.intcode[self.param_1] = self.input_value\n",
    "    \n",
    "    def op4(self):\n",
    "        if self.param_1_mode == 0:\n",
    "            self.param_1 = self.intcode[self.param_1]\n",
    "        self.output4 = self.param_1\n",
    "    \n",
    "    def op99(self):\n",
    "        # print(f'Final Output: {self.output}')\n",
    "        self.run = False\n",
    "    \n",
    "    def nextMove(self):\n",
    "        self.readInstruction(self.intcode[self.current_pos])\n",
    "        self.getParam(self.op)\n",
    "        if self.op == 1:\n",
    "            self.op1()\n",
    "            self.current_pos += 4\n",
    "        elif self.op == 2:\n",
    "            self.op2()\n",
    "            self.current_pos += 4\n",
    "        elif self.op == 3:\n",
    "            self.op3()\n",
    "            self.current_pos += 2\n",
    "        elif self.op == 2:\n",
    "            self.op2()\n",
    "            self.current_pos += 2\n",
    "        elif self.op == 99:\n",
    "            self.op99()"
   ]
  },
  {
   "cell_type": "code",
   "execution_count": 71,
   "metadata": {},
   "outputs": [],
   "source": [
    "data = readData('5.txt')\n",
    "data = data[0].split(',')"
   ]
  },
  {
   "cell_type": "code",
   "execution_count": 72,
   "metadata": {},
   "outputs": [
    {
     "ename": "TypeError",
     "evalue": "list indices must be integers or slices, not str",
     "output_type": "error",
     "traceback": [
      "\u001b[0;31m---------------------------------------------------------------------------\u001b[0m",
      "\u001b[0;31mTypeError\u001b[0m                                 Traceback (most recent call last)",
      "\u001b[0;32m<ipython-input-72-c8e08dfe44f4>\u001b[0m in \u001b[0;36m<module>\u001b[0;34m\u001b[0m\n\u001b[1;32m      1\u001b[0m \u001b[0mI\u001b[0m \u001b[0;34m=\u001b[0m \u001b[0mIntcode\u001b[0m\u001b[0;34m(\u001b[0m\u001b[0mdata\u001b[0m\u001b[0;34m,\u001b[0m \u001b[0;36m1\u001b[0m\u001b[0;34m)\u001b[0m\u001b[0;34m\u001b[0m\u001b[0;34m\u001b[0m\u001b[0m\n\u001b[1;32m      2\u001b[0m \u001b[0;34m\u001b[0m\u001b[0m\n\u001b[0;32m----> 3\u001b[0;31m \u001b[0mI\u001b[0m\u001b[0;34m.\u001b[0m\u001b[0mnextMove\u001b[0m\u001b[0;34m(\u001b[0m\u001b[0;34m)\u001b[0m\u001b[0;34m\u001b[0m\u001b[0;34m\u001b[0m\u001b[0m\n\u001b[0m",
      "\u001b[0;32m<ipython-input-63-6344a4d1f6a1>\u001b[0m in \u001b[0;36mnextMove\u001b[0;34m(self)\u001b[0m\n\u001b[1;32m     79\u001b[0m             \u001b[0mself\u001b[0m\u001b[0;34m.\u001b[0m\u001b[0mcurrent_pos\u001b[0m \u001b[0;34m+=\u001b[0m \u001b[0;36m4\u001b[0m\u001b[0;34m\u001b[0m\u001b[0;34m\u001b[0m\u001b[0m\n\u001b[1;32m     80\u001b[0m         \u001b[0;32melif\u001b[0m \u001b[0mself\u001b[0m\u001b[0;34m.\u001b[0m\u001b[0mop\u001b[0m \u001b[0;34m==\u001b[0m \u001b[0;36m3\u001b[0m\u001b[0;34m:\u001b[0m\u001b[0;34m\u001b[0m\u001b[0;34m\u001b[0m\u001b[0m\n\u001b[0;32m---> 81\u001b[0;31m             \u001b[0mself\u001b[0m\u001b[0;34m.\u001b[0m\u001b[0mop3\u001b[0m\u001b[0;34m(\u001b[0m\u001b[0;34m)\u001b[0m\u001b[0;34m\u001b[0m\u001b[0;34m\u001b[0m\u001b[0m\n\u001b[0m\u001b[1;32m     82\u001b[0m             \u001b[0mself\u001b[0m\u001b[0;34m.\u001b[0m\u001b[0mcurrent_pos\u001b[0m \u001b[0;34m+=\u001b[0m \u001b[0;36m2\u001b[0m\u001b[0;34m\u001b[0m\u001b[0;34m\u001b[0m\u001b[0m\n\u001b[1;32m     83\u001b[0m         \u001b[0;32melif\u001b[0m \u001b[0mself\u001b[0m\u001b[0;34m.\u001b[0m\u001b[0mop\u001b[0m \u001b[0;34m==\u001b[0m \u001b[0;36m2\u001b[0m\u001b[0;34m:\u001b[0m\u001b[0;34m\u001b[0m\u001b[0;34m\u001b[0m\u001b[0m\n",
      "\u001b[0;32m<ipython-input-63-6344a4d1f6a1>\u001b[0m in \u001b[0;36mop3\u001b[0;34m(self)\u001b[0m\n\u001b[1;32m     57\u001b[0m     \u001b[0;32mdef\u001b[0m \u001b[0mop3\u001b[0m\u001b[0;34m(\u001b[0m\u001b[0mself\u001b[0m\u001b[0;34m)\u001b[0m\u001b[0;34m:\u001b[0m\u001b[0;34m\u001b[0m\u001b[0;34m\u001b[0m\u001b[0m\n\u001b[1;32m     58\u001b[0m         \u001b[0;32mif\u001b[0m \u001b[0mself\u001b[0m\u001b[0;34m.\u001b[0m\u001b[0mparam_1_mode\u001b[0m \u001b[0;34m==\u001b[0m \u001b[0;36m0\u001b[0m\u001b[0;34m:\u001b[0m\u001b[0;34m\u001b[0m\u001b[0;34m\u001b[0m\u001b[0m\n\u001b[0;32m---> 59\u001b[0;31m             \u001b[0mself\u001b[0m\u001b[0;34m.\u001b[0m\u001b[0mparam_1\u001b[0m \u001b[0;34m=\u001b[0m \u001b[0mself\u001b[0m\u001b[0;34m.\u001b[0m\u001b[0mintcode\u001b[0m\u001b[0;34m[\u001b[0m\u001b[0mself\u001b[0m\u001b[0;34m.\u001b[0m\u001b[0mparam_1\u001b[0m\u001b[0;34m]\u001b[0m\u001b[0;34m\u001b[0m\u001b[0;34m\u001b[0m\u001b[0m\n\u001b[0m\u001b[1;32m     60\u001b[0m         \u001b[0mself\u001b[0m\u001b[0;34m.\u001b[0m\u001b[0mintcode\u001b[0m\u001b[0;34m[\u001b[0m\u001b[0mself\u001b[0m\u001b[0;34m.\u001b[0m\u001b[0mparam_1\u001b[0m\u001b[0;34m]\u001b[0m \u001b[0;34m=\u001b[0m \u001b[0mself\u001b[0m\u001b[0;34m.\u001b[0m\u001b[0minput_value\u001b[0m\u001b[0;34m\u001b[0m\u001b[0;34m\u001b[0m\u001b[0m\n\u001b[1;32m     61\u001b[0m \u001b[0;34m\u001b[0m\u001b[0m\n",
      "\u001b[0;31mTypeError\u001b[0m: list indices must be integers or slices, not str"
     ]
    }
   ],
   "source": [
    "I = Intcode(data, 1)\n",
    "\n",
    "I.nextMove()"
   ]
  },
  {
   "cell_type": "code",
   "execution_count": null,
   "metadata": {},
   "outputs": [],
   "source": []
  }
 ],
 "metadata": {
  "kernelspec": {
   "display_name": "Python 3",
   "language": "python",
   "name": "python3"
  },
  "language_info": {
   "codemirror_mode": {
    "name": "ipython",
    "version": 3
   },
   "file_extension": ".py",
   "mimetype": "text/x-python",
   "name": "python",
   "nbconvert_exporter": "python",
   "pygments_lexer": "ipython3",
   "version": "3.8.6"
  }
 },
 "nbformat": 4,
 "nbformat_minor": 4
}
