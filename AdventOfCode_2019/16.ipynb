{
 "cells": [
  {
   "cell_type": "code",
   "execution_count": null,
   "metadata": {},
   "outputs": [],
   "source": [
    "def computePattern(pattern, position):\n",
    "    new_pattern = []\n",
    "    for x in pattern:\n",
    "        for i in range(position):\n",
    "            new_pattern.append(x)\n",
    "    return new_pattern\n",
    "\n",
    "def computeNumber(signal, pattern):\n",
    "    tot = 0\n",
    "    i = 0\n",
    "    j = 0\n",
    "    while j < len(signal):\n",
    "        if i < len(pattern):\n",
    "            try:\n",
    "               # print(f'i: {i}, step {j}: {int(signal[j])} * {int(pattern[i+1])}')\n",
    "                tot += int(signal[j]) * int(pattern[i+1])\n",
    "            except:\n",
    "               # print(f'i: {i}, step {j}: {int(signal[j])} * {int(pattern[0])}')\n",
    "                tot += int(signal[j]) * int(pattern[0])\n",
    "            i += 1\n",
    "            j += 1\n",
    "        else:\n",
    "            i = 0\n",
    "    return str(tot)[-1]\n",
    "\n",
    "def computeFinal(signal, pattern, tot_phases, printing=False):\n",
    "    t = 1\n",
    "    if printing:\n",
    "        print(f'Input signal: {signal}')\n",
    "    while t <= tot_phases:\n",
    "        data = []\n",
    "        for i in range(len(signal)):\n",
    "            data.append(computeNumber(signal, computePattern(pattern, i+1)))\n",
    "        signal = ''.join(data)\n",
    "        if printing:\n",
    "            print(f'After {t} phases: {signal}')\n",
    "        t += 1\n",
    "    return signal"
   ]
  },
  {
   "cell_type": "code",
   "execution_count": null,
   "metadata": {
    "scrolled": false
   },
   "outputs": [],
   "source": [
    "signal = '59790132880344516900093091154955597199863490073342910249565395038806135885706290664499164028251508292041959926849162473699550018653393834944216172810195882161876866188294352485183178740261279280213486011018791012560046012995409807741782162189252951939029564062935408459914894373210511494699108265315264830173403743547300700976944780004513514866386570658448247527151658945604790687693036691590606045331434271899594734825392560698221510565391059565109571638751133487824774572142934078485772422422132834305704887084146829228294925039109858598295988853017494057928948890390543290199918610303090142501490713145935617325806587528883833726972378426243439037'\n",
    "pattern = [0, 1, 0, -1]\n",
    "computeFinal(signal, pattern, 100)[:8]"
   ]
  },
  {
   "cell_type": "markdown",
   "metadata": {},
   "source": [
    "*Part 2*"
   ]
  },
  {
   "cell_type": "code",
   "execution_count": null,
   "metadata": {},
   "outputs": [],
   "source": [
    "signal = '59790132880344516900093091154955597199863490073342910249565395038806135885706290664499164028251508292041959926849162473699550018653393834944216172810195882161876866188294352485183178740261279280213486011018791012560046012995409807741782162189252951939029564062935408459914894373210511494699108265315264830173403743547300700976944780004513514866386570658448247527151658945604790687693036691590606045331434271899594734825392560698221510565391059565109571638751133487824774572142934078485772422422132834305704887084146829228294925039109858598295988853017494057928948890390543290199918610303090142501490713145935617325806587528883833726972378426243439037'\n",
    "offset = signal[:7]\n",
    "\n",
    "signal = signal*10000\n",
    "pattern = [0, 1, 0, -1]\n",
    "computeFinal(signal, pattern, 100)[offset:offset+8]"
   ]
  },
  {
   "cell_type": "code",
   "execution_count": 2,
   "metadata": {},
   "outputs": [
    {
     "data": {
      "text/plain": [
       "0"
      ]
     },
     "execution_count": 2,
     "metadata": {},
     "output_type": "execute_result"
    }
   ],
   "source": [
    "30%10"
   ]
  },
  {
   "cell_type": "code",
   "execution_count": null,
   "metadata": {},
   "outputs": [],
   "source": []
  }
 ],
 "metadata": {
  "kernelspec": {
   "display_name": "Python 3",
   "language": "python",
   "name": "python3"
  },
  "language_info": {
   "codemirror_mode": {
    "name": "ipython",
    "version": 3
   },
   "file_extension": ".py",
   "mimetype": "text/x-python",
   "name": "python",
   "nbconvert_exporter": "python",
   "pygments_lexer": "ipython3",
   "version": "3.8.6"
  }
 },
 "nbformat": 4,
 "nbformat_minor": 4
}
