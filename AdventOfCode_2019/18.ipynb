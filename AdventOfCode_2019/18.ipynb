{
 "cells": [
  {
   "cell_type": "code",
   "execution_count": 20,
   "metadata": {},
   "outputs": [],
   "source": [
    "class Maze():\n",
    "    def __init__(self, field):\n",
    "        self.field = field\n",
    "        self.steps = 0\n",
    "        self.list_keys = []\n",
    "        self.list_doors = []\n",
    "        self._getKeysDoors()\n",
    "\n",
    "        \n",
    "    def _getKeysDoors(self):\n",
    "        for x in self.field:\n",
    "            if x.islower() and x not in self.list_keys:\n",
    "                self.list_keys.append(x)\n",
    "            elif x.isupper() and x not in self.list_doors:\n",
    "                self.list_doors.append(x)\n",
    "        \n",
    "        "
   ]
  },
  {
   "cell_type": "code",
   "execution_count": 21,
   "metadata": {},
   "outputs": [
    {
     "data": {
      "text/plain": [
       "['a']"
      ]
     },
     "execution_count": 21,
     "metadata": {},
     "output_type": "execute_result"
    }
   ],
   "source": [
    "Maze(['a', '1', 'A', 'a']).list_keys"
   ]
  },
  {
   "cell_type": "code",
   "execution_count": null,
   "metadata": {},
   "outputs": [],
   "source": []
  }
 ],
 "metadata": {
  "kernelspec": {
   "display_name": "Python 3",
   "language": "python",
   "name": "python3"
  },
  "language_info": {
   "codemirror_mode": {
    "name": "ipython",
    "version": 3
   },
   "file_extension": ".py",
   "mimetype": "text/x-python",
   "name": "python",
   "nbconvert_exporter": "python",
   "pygments_lexer": "ipython3",
   "version": "3.8.6"
  }
 },
 "nbformat": 4,
 "nbformat_minor": 4
}
