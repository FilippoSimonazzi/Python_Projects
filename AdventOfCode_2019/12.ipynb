{
 "cells": [
  {
   "cell_type": "code",
   "execution_count": 61,
   "metadata": {},
   "outputs": [],
   "source": [
    "class Galaxy(Moon):\n",
    "    def __init__(self, list_moons, tot_steps):\n",
    "        self.n_moons = len(list_moons)\n",
    "        self.moons = [True] * self.n_moons\n",
    "        self.steps = 0\n",
    "        self.tot_steps = tot_steps\n",
    "        for i in range(self.n_moons):\n",
    "            self.moons[i] = Moon(list_moons[i])\n",
    "            \n",
    "    def Gravity(self):\n",
    "        for i in range(self.n_moons):\n",
    "            for j in range(self.n_moons):\n",
    "                if i != j:\n",
    "                    self.moons[i].compute_gravity(self.moons[j])\n",
    "\n",
    "    def Velocity(self):\n",
    "        for i in range(self.n_moons):\n",
    "            self.moons[i].apply_velocity()\n",
    "        self.steps += 1\n",
    "        \n",
    "    def printGalaxy(self):\n",
    "        print(f'After {self.steps} steps:')\n",
    "        for i in range(self.n_moons):\n",
    "            print(f'pos: <x= {self.moons[i].x}, y={self.moons[i].y}, z={self.moons[i].z}>, vel=<x={self.moons[i].v_x}, y={self.moons[i].v_y}, z= {self.moons[i].v_z}>')\n",
    "        print('')\n",
    "    \n",
    "    def main(self):\n",
    "        while self.steps <= self.tot_steps:\n",
    "            self.printGalaxy()\n",
    "            self.Gravity()\n",
    "            self.Velocity()\n",
    "        \n",
    "class Moon():\n",
    "    def __init__(self, list_coord):\n",
    "        self.x = list_coord[0]\n",
    "        self.y = list_coord[1]\n",
    "        self.z = list_coord[2]\n",
    "        self.v_x = 0\n",
    "        self.v_y = 0\n",
    "        self.v_z = 0\n",
    "        self.t = 0\n",
    "        \n",
    "    def compute_gravity(self, moon):\n",
    "        if self.x > moon.x:\n",
    "            self.v_x += 1\n",
    "        elif self.x < moon.x:\n",
    "            self.v_x -= 1\n",
    "        if self.y > moon.y:\n",
    "            self.v_y += 1\n",
    "        elif self.y < moon.y:\n",
    "            self.v_y -= 1\n",
    "        if self.z > moon.z:\n",
    "            self.v_z += 1\n",
    "        elif self.z < moon.z:\n",
    "            self.v_z -= 1\n",
    "            \n",
    "    def apply_velocity(self):\n",
    "        self.x += self.v_x\n",
    "        self.y += self.v_y\n",
    "        self.z += self.v_z"
   ]
  },
  {
   "cell_type": "code",
   "execution_count": 62,
   "metadata": {},
   "outputs": [
    {
     "name": "stdout",
     "output_type": "stream",
     "text": [
      "After 0 steps:\n",
      "pos: <x= -8, y=-10, z=0>, vel=<x=0, y=0, z= 0>\n",
      "pos: <x= 5, y=5, z=10>, vel=<x=0, y=0, z= 0>\n",
      "pos: <x= 2, y=-7, z=3>, vel=<x=0, y=0, z= 0>\n",
      "pos: <x= 9, y=-8, z=-3>, vel=<x=0, y=0, z= 0>\n",
      "\n",
      "After 1 steps:\n",
      "pos: <x= -11, y=-13, z=-1>, vel=<x=-3, y=-3, z= -1>\n",
      "pos: <x= 6, y=8, z=13>, vel=<x=1, y=3, z= 3>\n",
      "pos: <x= 1, y=-6, z=4>, vel=<x=-1, y=1, z= 1>\n",
      "pos: <x= 12, y=-9, z=-6>, vel=<x=3, y=-1, z= -3>\n",
      "\n",
      "After 2 steps:\n",
      "pos: <x= -17, y=-19, z=-3>, vel=<x=-6, y=-6, z= -2>\n",
      "pos: <x= 8, y=14, z=19>, vel=<x=2, y=6, z= 6>\n",
      "pos: <x= -1, y=-4, z=6>, vel=<x=-2, y=2, z= 2>\n",
      "pos: <x= 18, y=-11, z=-12>, vel=<x=6, y=-2, z= -6>\n",
      "\n",
      "After 3 steps:\n",
      "pos: <x= -26, y=-28, z=-6>, vel=<x=-9, y=-9, z= -3>\n",
      "pos: <x= 11, y=23, z=28>, vel=<x=3, y=9, z= 9>\n",
      "pos: <x= -4, y=-1, z=9>, vel=<x=-3, y=3, z= 3>\n",
      "pos: <x= 27, y=-14, z=-21>, vel=<x=9, y=-3, z= -9>\n",
      "\n",
      "After 4 steps:\n",
      "pos: <x= -38, y=-40, z=-10>, vel=<x=-12, y=-12, z= -4>\n",
      "pos: <x= 15, y=35, z=40>, vel=<x=4, y=12, z= 12>\n",
      "pos: <x= -8, y=3, z=13>, vel=<x=-4, y=4, z= 4>\n",
      "pos: <x= 39, y=-18, z=-33>, vel=<x=12, y=-4, z= -12>\n",
      "\n",
      "After 5 steps:\n",
      "pos: <x= -53, y=-55, z=-15>, vel=<x=-15, y=-15, z= -5>\n",
      "pos: <x= 20, y=50, z=55>, vel=<x=5, y=15, z= 15>\n",
      "pos: <x= -13, y=8, z=18>, vel=<x=-5, y=5, z= 5>\n",
      "pos: <x= 54, y=-23, z=-48>, vel=<x=15, y=-5, z= -15>\n",
      "\n",
      "After 6 steps:\n",
      "pos: <x= -71, y=-73, z=-21>, vel=<x=-18, y=-18, z= -6>\n",
      "pos: <x= 26, y=68, z=73>, vel=<x=6, y=18, z= 18>\n",
      "pos: <x= -19, y=14, z=24>, vel=<x=-6, y=6, z= 6>\n",
      "pos: <x= 72, y=-29, z=-66>, vel=<x=18, y=-6, z= -18>\n",
      "\n",
      "After 7 steps:\n",
      "pos: <x= -92, y=-94, z=-28>, vel=<x=-21, y=-21, z= -7>\n",
      "pos: <x= 33, y=89, z=94>, vel=<x=7, y=21, z= 21>\n",
      "pos: <x= -26, y=21, z=31>, vel=<x=-7, y=7, z= 7>\n",
      "pos: <x= 93, y=-36, z=-87>, vel=<x=21, y=-7, z= -21>\n",
      "\n",
      "After 8 steps:\n",
      "pos: <x= -116, y=-118, z=-36>, vel=<x=-24, y=-24, z= -8>\n",
      "pos: <x= 41, y=113, z=118>, vel=<x=8, y=24, z= 24>\n",
      "pos: <x= -34, y=29, z=39>, vel=<x=-8, y=8, z= 8>\n",
      "pos: <x= 117, y=-44, z=-111>, vel=<x=24, y=-8, z= -24>\n",
      "\n",
      "After 9 steps:\n",
      "pos: <x= -143, y=-145, z=-45>, vel=<x=-27, y=-27, z= -9>\n",
      "pos: <x= 50, y=140, z=145>, vel=<x=9, y=27, z= 27>\n",
      "pos: <x= -43, y=38, z=48>, vel=<x=-9, y=9, z= 9>\n",
      "pos: <x= 144, y=-53, z=-138>, vel=<x=27, y=-9, z= -27>\n",
      "\n",
      "After 10 steps:\n",
      "pos: <x= -173, y=-175, z=-55>, vel=<x=-30, y=-30, z= -10>\n",
      "pos: <x= 60, y=170, z=175>, vel=<x=10, y=30, z= 30>\n",
      "pos: <x= -53, y=48, z=58>, vel=<x=-10, y=10, z= 10>\n",
      "pos: <x= 174, y=-63, z=-168>, vel=<x=30, y=-10, z= -30>\n",
      "\n"
     ]
    }
   ],
   "source": [
    "list_moons = [[9, 13, -8], [-3, 16, -17], \n",
    "              [-4, 11, -10], [0, -2, -2]]\n",
    "\n",
    "list_moons = [[-8, -10, 0], [5, 5, 10], \n",
    "              [2, -7, 3], [9, -8, -3]]\n",
    "\n",
    "G = Galaxy(list_moons, 10)\n",
    "G.main()"
   ]
  },
  {
   "cell_type": "code",
   "execution_count": 38,
   "metadata": {},
   "outputs": [
    {
     "data": {
      "text/plain": [
       "-3"
      ]
     },
     "execution_count": 38,
     "metadata": {},
     "output_type": "execute_result"
    }
   ],
   "source": [
    "G.moons[0].x"
   ]
  },
  {
   "cell_type": "code",
   "execution_count": null,
   "metadata": {},
   "outputs": [],
   "source": []
  }
 ],
 "metadata": {
  "kernelspec": {
   "display_name": "Python 3",
   "language": "python",
   "name": "python3"
  },
  "language_info": {
   "codemirror_mode": {
    "name": "ipython",
    "version": 3
   },
   "file_extension": ".py",
   "mimetype": "text/x-python",
   "name": "python",
   "nbconvert_exporter": "python",
   "pygments_lexer": "ipython3",
   "version": "3.8.6"
  }
 },
 "nbformat": 4,
 "nbformat_minor": 4
}
