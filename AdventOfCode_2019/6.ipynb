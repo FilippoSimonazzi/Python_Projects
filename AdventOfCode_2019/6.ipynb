{
 "cells": [
  {
   "cell_type": "code",
   "execution_count": 1,
   "metadata": {},
   "outputs": [],
   "source": [
    "%run Load_Data.ipynb"
   ]
  },
  {
   "cell_type": "code",
   "execution_count": 4,
   "metadata": {},
   "outputs": [
    {
     "data": {
      "text/plain": [
       "['COM)B', 'B)C', 'C)D', 'D)E', 'E)F', 'B)G', 'G)H', 'D)I', 'E)J', 'J)K', 'K)L']"
      ]
     },
     "execution_count": 4,
     "metadata": {},
     "output_type": "execute_result"
    }
   ],
   "source": [
    "data = readData('6.txt')\n",
    "data"
   ]
  },
  {
   "cell_type": "code",
   "execution_count": 12,
   "metadata": {},
   "outputs": [],
   "source": [
    "direct = {}\n",
    "for el in data:\n",
    "    one, two = el.split(')')\n",
    "    if one in direct.keys():\n",
    "        direct[one].append(two)\n",
    "    else:\n",
    "        direct[one] = [two]\n",
    "        \n",
    "dir_sum = 0\n",
    "for value in direct.values():\n",
    "    dir_sum += len(value)\n",
    "    \n",
    "print(f'Total direct connections: {dir_sum}')"
   ]
  },
  {
   "cell_type": "code",
   "execution_count": 18,
   "metadata": {},
   "outputs": [
    {
     "name": "stdout",
     "output_type": "stream",
     "text": [
      "COM []\n",
      "B ['COM']\n",
      "C ['B']\n",
      "D ['C']\n",
      "E ['D']\n",
      "G ['B']\n",
      "J ['E']\n",
      "K ['J']\n"
     ]
    }
   ],
   "source": [
    "indirect = {}\n",
    "for key in direct.keys():\n",
    "    old_connections = []\n",
    "    for conn, value in direct.items():\n",
    "        if key in value:\n",
    "            old_connections.append(conn)\n",
    "    print(key, old_connections)\n",
    "    \n",
    "    \n",
    "    "
   ]
  },
  {
   "cell_type": "code",
   "execution_count": 16,
   "metadata": {},
   "outputs": [
    {
     "data": {
      "text/plain": [
       "{'COM': ['B'],\n",
       " 'B': ['C', 'G'],\n",
       " 'C': ['D'],\n",
       " 'D': ['E', 'I'],\n",
       " 'E': ['F', 'J'],\n",
       " 'G': ['H'],\n",
       " 'J': ['K'],\n",
       " 'K': ['L']}"
      ]
     },
     "execution_count": 16,
     "metadata": {},
     "output_type": "execute_result"
    }
   ],
   "source": [
    "direct"
   ]
  },
  {
   "cell_type": "code",
   "execution_count": null,
   "metadata": {},
   "outputs": [],
   "source": [
    "    "
   ]
  }
 ],
 "metadata": {
  "kernelspec": {
   "display_name": "Python 3",
   "language": "python",
   "name": "python3"
  },
  "language_info": {
   "codemirror_mode": {
    "name": "ipython",
    "version": 3
   },
   "file_extension": ".py",
   "mimetype": "text/x-python",
   "name": "python",
   "nbconvert_exporter": "python",
   "pygments_lexer": "ipython3",
   "version": "3.8.6"
  }
 },
 "nbformat": 4,
 "nbformat_minor": 4
}
