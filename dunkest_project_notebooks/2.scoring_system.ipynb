{
 "cells": [
  {
   "cell_type": "code",
   "execution_count": 129,
   "metadata": {},
   "outputs": [],
   "source": [
    "import os\n",
    "from datetime import datetime\n",
    "from tqdm import notebook\n",
    "import pickle\n",
    "\n",
    "import pandas as pd\n",
    "import numpy as np\n",
    "import matplotlib.pyplot as plt\n",
    "from matplotlib.ticker import PercentFormatter\n",
    "\n",
    "from constants import DATA_DIR, SEASONS\n",
    "from scoring_utils import PLAYER_SCORE, normal_round\n",
    "\n",
    "from collections import Counter\n",
    "\n",
    "pd.set_option('display.max_columns', 500)"
   ]
  },
  {
   "cell_type": "markdown",
   "metadata": {},
   "source": [
    "# Table of Contents\n",
    "\n",
    "* [Scoring System](#ScoringSystem)\n",
    "    * [Check if scoring matches dunkest dataframe](#SCompare)\n",
    "    * [Generate scores for each year](#SGenerate)\n",
    "   \n",
    "   \n",
    "* [Generate player averages dataset](#PAvg)\n",
    "\n",
    "\n",
    "* [Generate individual players' dataset](#PInd)\n",
    "\n",
    "\n",
    "* [Create single boxscore dataframe](#Boxscore)"
   ]
  },
  {
   "cell_type": "markdown",
   "metadata": {},
   "source": [
    "# Scoring System <a class=\"anchor\" id=\"ScoringSystem\"></a>\n",
    "\n",
    "*EXPLAIN HOW!*"
   ]
  },
  {
   "cell_type": "code",
   "execution_count": 155,
   "metadata": {},
   "outputs": [],
   "source": [
    "def get_player_score(row):\n",
    "    out = 0\n",
    "    for func in PLAYER_SCORE.keys():\n",
    "        out += PLAYER_SCORE[func](row)\n",
    "    return normal_round(out, 1)\n",
    "\n",
    "def get_player_score_nowin(row):\n",
    "    out = 0\n",
    "    for func in PLAYER_SCORE.keys():\n",
    "        if func == 'WIN':\n",
    "            continue\n",
    "        out += PLAYER_SCORE[func](row)\n",
    "    return normal_round(out, 1)"
   ]
  },
  {
   "cell_type": "markdown",
   "metadata": {},
   "source": [
    "## Check if scoring matches dunkest dataframe <a class=\"anchor\" id=\"SCompare\"></a>"
   ]
  },
  {
   "cell_type": "code",
   "execution_count": 156,
   "metadata": {},
   "outputs": [],
   "source": [
    "%%script false --no-raise-error\n",
    "\n",
    "dunkest_df = pd.read_csv(f'{DATA_DIR}/Credits/dunkest.csv', low_memory=False)\n",
    "\n",
    "dunkest_df.drop(['TEAM', 'DATE', 'MP', 'FG_perc', '3P_perc', 'FT_perc', '+/-', 'WEEK', 'CR', 'PLUS'], axis=1, inplace=True)\n",
    "\n",
    "dunkest_df['COMPUTED_PDK'] = dunkest_df.apply(get_player_score_nowin, axis=1)\n",
    "\n",
    "dunkest_df['PDK_WIN'] = dunkest_df.apply(lambda x: x.COMPUTED_PDK + 3, axis=1)\n",
    "dunkest_df['PDK_LOSS'] = dunkest_df.apply(lambda x: x.COMPUTED_PDK - 3, axis=1)\n",
    "\n",
    "dunkest_df['CHECK_WIN'] = dunkest_df.apply(lambda x: x.PDK == x.PDK_WIN, axis=1)\n",
    "dunkest_df['CHECK_LOSS'] = dunkest_df.apply(lambda x: x.PDK == x.PDK_LOSS, axis=1)\n",
    "\n",
    "dunkest_df['CHECK_PDK_with_win_score'] = dunkest_df.apply(lambda x: any([x.CHECK_WIN, x.CHECK_LOSS]), axis=1)\n",
    "dunkest_df['CHECK_PDK_no_win_score'] = dunkest_df.apply(lambda x: x.PDK == x.COMPUTED_PDK, axis=1)\n",
    "dunkest_df['CHECK_any_PDK'] = dunkest_df.apply(lambda x: any([x.CHECK_PDK_with_win_score, x.CHECK_PDK_no_win_score]), axis=1)\n",
    "\n",
    "dunkest_df.to_csv(f'{DATA_DIR}/Credits/dunkest_pdk_analysis.csv', index_label=False)"
   ]
  },
  {
   "cell_type": "code",
   "execution_count": 157,
   "metadata": {},
   "outputs": [],
   "source": [
    "pdk_df = pd.read_csv(f'{DATA_DIR}/Credits/dunkest_pdk_analysis.csv')"
   ]
  },
  {
   "cell_type": "markdown",
   "metadata": {},
   "source": [
    "#### Check if either 'with WIN' or 'without WIN' match the original PDK"
   ]
  },
  {
   "cell_type": "code",
   "execution_count": 158,
   "metadata": {},
   "outputs": [
    {
     "name": "stdout",
     "output_type": "stream",
     "text": [
      "There are 54199 rows for which PDK matches, but also 10840 for which it does not! Why?\n"
     ]
    }
   ],
   "source": [
    "values = pdk_df.CHECK_any_PDK.value_counts()\n",
    "print(f'There are {values[True]} rows for which PDK matches, but also {values[False]} for which it does not! Why?')"
   ]
  },
  {
   "cell_type": "code",
   "execution_count": 159,
   "metadata": {},
   "outputs": [
    {
     "data": {
      "text/plain": [
       "{-13.0: 4,\n",
       " -12.0: 13,\n",
       " -11.0: 12,\n",
       " -8.0: 915,\n",
       " -7.1: 2,\n",
       " -7.0: 1164,\n",
       " -6.1: 5,\n",
       " -6.0: 2468,\n",
       " -5.0: 33,\n",
       " -4.0: 4,\n",
       " -3.1: 758,\n",
       " -3.0: 2243,\n",
       " -2.0: 1499,\n",
       " -1.0: 1531,\n",
       " 3.0: 24,\n",
       " 3.1: 165}"
      ]
     },
     "execution_count": 159,
     "metadata": {},
     "output_type": "execute_result"
    }
   ],
   "source": [
    "wrong_pdk_df = pdk_df.loc[pdk_df.CHECK_any_PDK==False]\n",
    "\n",
    "differences = Counter(round(wrong_pdk_df.PDK - wrong_pdk_df.COMPUTED_PDK, 1))\n",
    "differences = dict(sorted(differences.items(), key=lambda x: x[0]))\n",
    "\n",
    "differences"
   ]
  },
  {
   "cell_type": "markdown",
   "metadata": {},
   "source": [
    "#### Check if it is better to use score with or without win function"
   ]
  },
  {
   "cell_type": "code",
   "execution_count": 160,
   "metadata": {},
   "outputs": [
    {
     "name": "stdout",
     "output_type": "stream",
     "text": [
      "There are 51068 rows for which PDK with WIN matches, but also 3131 for which it does not!\n",
      "\n",
      "There are 3131 rows for which PDK without WIN matches, but also 51068 for which it does not!\n"
     ]
    }
   ],
   "source": [
    "correct_pdk_df = pdk_df.loc[pdk_df.CHECK_any_PDK==True]\n",
    "values_win = correct_pdk_df.CHECK_PDK_with_win_score.value_counts()\n",
    "values_no_win = correct_pdk_df.CHECK_PDK_no_win_score.value_counts()\n",
    "\n",
    "print(f'There are {values_win[True]} rows for which PDK with WIN matches, but also {values_win[False]} for which it does not!\\n')\n",
    "\n",
    "print(f'There are {values_no_win[True]} rows for which PDK without WIN matches, but also {values_no_win[False]} for which it does not!')"
   ]
  },
  {
   "cell_type": "markdown",
   "metadata": {},
   "source": [
    "### For each player, check if it's properly computed or not!"
   ]
  },
  {
   "cell_type": "code",
   "execution_count": 206,
   "metadata": {},
   "outputs": [],
   "source": [
    "%%script false --no-raise-error\n",
    "\n",
    "boxscore_columns = ['NAME', 'POS', 'PDK', 'TEAM', 'W', 'ST', 'PTS', 'TRB', 'AST', 'STL', 'BLK', 'BA',\n",
    "                 'FG', 'FGA', '3P', '3PA', 'FT', 'FTA', 'ORB', 'DRB', 'TOV', 'PF', 'SEASON']\n",
    "\n",
    "dunkest_columns = ['NAME', 'POS', 'PDK', 'ST', 'PTS', 'TRB', 'AST', 'STL', 'BLK', 'BA',\n",
    "                 'FG', 'FGA', '3P', '3PA', 'FT', 'FTA', 'ORB', 'DRB', 'TOV', 'PF', 'SEASON']\n",
    "\n",
    "merge_columns = ['NAME', 'ST', 'PTS', 'TRB', 'AST', 'STL', 'BLK', 'BA',\n",
    "                 'FG', 'FGA', '3P', '3PA', 'FT', 'FTA', 'ORB', 'DRB', 'TOV', 'PF', 'SEASON']\n",
    "\n",
    "dunkest_df = pd.read_csv(f'{DATA_DIR}/Credits/dunkest.csv', low_memory=False)[dunkest_columns]\n",
    "\n",
    "boxscore_df = pd.read_csv(f'{DATA_DIR}/Boxscores/boxscores.csv')[boxscore_columns]\n",
    "filt = boxscore_df.SEASON.isin(list(dunkest_df.SEASON.unique()))\n",
    "boxscore_df = boxscore_df.loc[filt]\n",
    "boxscore_df['PDK'] = boxscore_df.apply(get_player_score, axis=1)"
   ]
  },
  {
   "cell_type": "code",
   "execution_count": 276,
   "metadata": {},
   "outputs": [],
   "source": [
    "def check_PDK_player(player):\n",
    "    temp_box = boxscore_df.loc[boxscore_df.NAME == player].drop('POS', axis=1)\n",
    "    temp_box = temp_box.drop_duplicates(subset=temp_box.columns.difference(['PDK']))\n",
    "    temp_dunkest = dunkest_df.loc[dunkest_df.NAME == player].drop('POS', axis=1)\n",
    "    temp_dunkest = temp_dunkest.drop_duplicates(subset=temp_dunkest.columns.difference(['PDK']))\n",
    "    if temp_box.shape[0] > 0:\n",
    "        temp = temp_box.merge(temp_dunkest, on=merge_columns, suffixes=['_boxscore', '_dunkest'])\n",
    "        try:\n",
    "            same = (temp.PDK_boxscore == temp.PDK_dunkest).value_counts()[True]\n",
    "        except:\n",
    "            same = 0\n",
    "        return [same, temp_box.shape[0] - same]\n",
    "    return False"
   ]
  },
  {
   "cell_type": "code",
   "execution_count": 277,
   "metadata": {},
   "outputs": [],
   "source": [
    "#%%script false --no-raise-error\n",
    "\n",
    "with open(f'{DATA_DIR}/players.pkl', 'rb') as fp:\n",
    "    players = pickle.load(fp)\n",
    "    \n",
    "data_pdk = {}\n",
    "for player in players:\n",
    "    data = check_PDK_player(player)\n",
    "    if data:\n",
    "        data_pdk[player] = data\n",
    "\n",
    "check_pdk_df = pd.DataFrame.from_dict(data_pdk, columns=['SAME_PDK', 'DIFFERENT_PDK'], orient='index').reset_index().rename({'index': 'NAME'}, axis=1)\n",
    "check_pdk_df.to_csv(f'{DATA_DIR}/Credits/dunkest_boxscore_pdk_comparison.csv', index_label=False)"
   ]
  },
  {
   "cell_type": "code",
   "execution_count": 278,
   "metadata": {},
   "outputs": [
    {
     "data": {
      "text/plain": [
       "SAME_PDK         49494\n",
       "DIFFERENT_PDK    22558\n",
       "dtype: int64"
      ]
     },
     "execution_count": 278,
     "metadata": {},
     "output_type": "execute_result"
    }
   ],
   "source": [
    "check_pdk_df = pd.read_csv(f'{DATA_DIR}/Credits/dunkest_boxscore_pdk_comparison.csv')\n",
    "\n",
    "check_pdk_df[['SAME_PDK', 'DIFFERENT_PDK']].sum()"
   ]
  },
  {
   "cell_type": "code",
   "execution_count": 280,
   "metadata": {},
   "outputs": [
    {
     "data": {
      "text/html": [
       "<div>\n",
       "<style scoped>\n",
       "    .dataframe tbody tr th:only-of-type {\n",
       "        vertical-align: middle;\n",
       "    }\n",
       "\n",
       "    .dataframe tbody tr th {\n",
       "        vertical-align: top;\n",
       "    }\n",
       "\n",
       "    .dataframe thead th {\n",
       "        text-align: right;\n",
       "    }\n",
       "</style>\n",
       "<table border=\"1\" class=\"dataframe\">\n",
       "  <thead>\n",
       "    <tr style=\"text-align: right;\">\n",
       "      <th></th>\n",
       "      <th>NAME</th>\n",
       "      <th>SAME_PDK</th>\n",
       "      <th>DIFFERENT_PDK</th>\n",
       "    </tr>\n",
       "  </thead>\n",
       "  <tbody>\n",
       "    <tr>\n",
       "      <th>330</th>\n",
       "      <td>Tim Hardaway_Jr</td>\n",
       "      <td>0</td>\n",
       "      <td>207</td>\n",
       "    </tr>\n",
       "    <tr>\n",
       "      <th>155</th>\n",
       "      <td>Marcus Morris</td>\n",
       "      <td>0</td>\n",
       "      <td>195</td>\n",
       "    </tr>\n",
       "    <tr>\n",
       "      <th>362</th>\n",
       "      <td>J.J. Redick</td>\n",
       "      <td>0</td>\n",
       "      <td>184</td>\n",
       "    </tr>\n",
       "    <tr>\n",
       "      <th>501</th>\n",
       "      <td>Kelly Oubre</td>\n",
       "      <td>0</td>\n",
       "      <td>180</td>\n",
       "    </tr>\n",
       "    <tr>\n",
       "      <th>356</th>\n",
       "      <td>Derrick Jones</td>\n",
       "      <td>0</td>\n",
       "      <td>179</td>\n",
       "    </tr>\n",
       "    <tr>\n",
       "      <th>...</th>\n",
       "      <td>...</td>\n",
       "      <td>...</td>\n",
       "      <td>...</td>\n",
       "    </tr>\n",
       "    <tr>\n",
       "      <th>146</th>\n",
       "      <td>Troy Caupain</td>\n",
       "      <td>4</td>\n",
       "      <td>0</td>\n",
       "    </tr>\n",
       "    <tr>\n",
       "      <th>137</th>\n",
       "      <td>William Howard</td>\n",
       "      <td>2</td>\n",
       "      <td>0</td>\n",
       "    </tr>\n",
       "    <tr>\n",
       "      <th>681</th>\n",
       "      <td>Matt Mooney</td>\n",
       "      <td>4</td>\n",
       "      <td>0</td>\n",
       "    </tr>\n",
       "    <tr>\n",
       "      <th>130</th>\n",
       "      <td>Trevon Duval</td>\n",
       "      <td>3</td>\n",
       "      <td>0</td>\n",
       "    </tr>\n",
       "    <tr>\n",
       "      <th>378</th>\n",
       "      <td>Caleb Swanigan</td>\n",
       "      <td>48</td>\n",
       "      <td>0</td>\n",
       "    </tr>\n",
       "  </tbody>\n",
       "</table>\n",
       "<p>757 rows × 3 columns</p>\n",
       "</div>"
      ],
      "text/plain": [
       "                NAME  SAME_PDK  DIFFERENT_PDK\n",
       "330  Tim Hardaway_Jr         0            207\n",
       "155    Marcus Morris         0            195\n",
       "362      J.J. Redick         0            184\n",
       "501      Kelly Oubre         0            180\n",
       "356    Derrick Jones         0            179\n",
       "..               ...       ...            ...\n",
       "146     Troy Caupain         4              0\n",
       "137   William Howard         2              0\n",
       "681      Matt Mooney         4              0\n",
       "130     Trevon Duval         3              0\n",
       "378   Caleb Swanigan        48              0\n",
       "\n",
       "[757 rows x 3 columns]"
      ]
     },
     "execution_count": 280,
     "metadata": {},
     "output_type": "execute_result"
    }
   ],
   "source": [
    "check_pdk_df.sort_values('DIFFERENT_PDK', ascending=False)"
   ]
  },
  {
   "cell_type": "code",
   "execution_count": 288,
   "metadata": {},
   "outputs": [
    {
     "data": {
      "text/html": [
       "<div>\n",
       "<style scoped>\n",
       "    .dataframe tbody tr th:only-of-type {\n",
       "        vertical-align: middle;\n",
       "    }\n",
       "\n",
       "    .dataframe tbody tr th {\n",
       "        vertical-align: top;\n",
       "    }\n",
       "\n",
       "    .dataframe thead th {\n",
       "        text-align: right;\n",
       "    }\n",
       "</style>\n",
       "<table border=\"1\" class=\"dataframe\">\n",
       "  <thead>\n",
       "    <tr style=\"text-align: right;\">\n",
       "      <th></th>\n",
       "      <th>NAME</th>\n",
       "      <th>SAME_PDK</th>\n",
       "      <th>DIFFERENT_PDK</th>\n",
       "    </tr>\n",
       "  </thead>\n",
       "  <tbody>\n",
       "    <tr>\n",
       "      <th>429</th>\n",
       "      <td>Clint Capela</td>\n",
       "      <td>151</td>\n",
       "      <td>20</td>\n",
       "    </tr>\n",
       "  </tbody>\n",
       "</table>\n",
       "</div>"
      ],
      "text/plain": [
       "             NAME  SAME_PDK  DIFFERENT_PDK\n",
       "429  Clint Capela       151             20"
      ]
     },
     "execution_count": 288,
     "metadata": {},
     "output_type": "execute_result"
    }
   ],
   "source": [
    "check_pdk_df.loc[check_pdk_df.NAME=='Clint Capela']"
   ]
  },
  {
   "cell_type": "markdown",
   "metadata": {},
   "source": [
    "#### Generate scores for each year <a class=\"anchor\" id=\"SGenerate\"></a>"
   ]
  },
  {
   "cell_type": "code",
   "execution_count": 4,
   "metadata": {},
   "outputs": [],
   "source": [
    "def update_boxscore_PDK(season):\n",
    "    df = pd.read_csv(f'{DATA_DIR}/Boxscores/{season}.csv')\n",
    "    \n",
    "    scores = []\n",
    "    for i in range(df.shape[0]):\n",
    "        if any(word in df.iloc[i].MP for word in ['Dress', 'Suspended']):\n",
    "            scores.append(0.0)\n",
    "            scores_no_WIN.append(0.0)\n",
    "        else:\n",
    "            scores.append(get_player_score(df.iloc[i]))\n",
    "    df['PDK'] = scores\n",
    "    \n",
    "    df.to_csv(f'{DATA_DIR}/Boxscores/{season}.csv', index_label=False)"
   ]
  },
  {
   "cell_type": "code",
   "execution_count": 5,
   "metadata": {},
   "outputs": [],
   "source": [
    "%%script false --no-raise-error\n",
    "\n",
    "for season in notebook.tqdm(SEASONS):\n",
    "    update_boxscore_PDK(season)"
   ]
  },
  {
   "cell_type": "markdown",
   "metadata": {},
   "source": [
    "# Generate players' avg dataset <a class=\"anchor\" id=\"PAvg\"></a>"
   ]
  },
  {
   "cell_type": "code",
   "execution_count": 6,
   "metadata": {},
   "outputs": [],
   "source": [
    "def build_players_avg_dataset(season):\n",
    "    df = pd.read_csv(f'{DATA_DIR}/Boxscores/{season}.csv')\n",
    "    players = df.NAME.unique()\n",
    "\n",
    "    if not os.path.exists(f'{DATA_DIR}/PlayersAverages/'):\n",
    "        os.makedirs(f'{DATA_DIR}/PlayersAverages/')\n",
    "    \n",
    "    for player in players:\n",
    "        temp = df.loc[df.NAME == player]\n",
    "\n",
    "        player_df = temp[['FG', 'FGA', '3P', '3PA', 'FT', 'FTA', 'ORB', 'DRB', 'TRB', 'AST', 'STL', 'BLK', 'TOV', 'PF', 'PTS', '+/-', 'BPM', 'BA', 'PDK']].mean().round(1)\n",
    "        player_df['SEASON'] = season\n",
    "        player_df['N_GAMES'] = temp.shape[0]\n",
    "        player_df['TEAMS'] = list(temp.TEAM.unique())\n",
    "        try:\n",
    "            player_df['WINS'] = (temp.W == temp.TEAM).value_counts()[True]\n",
    "        except KeyError:\n",
    "            player_df['WINS'] = int(0)\n",
    "        player_df['LOSSES'] = int(player_df.N_GAMES - player_df.WINS)\n",
    "        \n",
    "        times = []\n",
    "        for d in temp['MP']:\n",
    "            if not any(word in d for word in ['Suspended', 'Dress']):\n",
    "                try:\n",
    "                    times.append(datetime.strptime(d, '%M:%S'))\n",
    "                except ValueError:\n",
    "                    # Some players played more than 60 minutes, ie 1997-11-14 POR-PHO Brian Grant\n",
    "                    # I will approximate it to 60 minutes.\n",
    "                    times.append(datetime.strptime('59:59', '%M:%S'))\n",
    "        if len(times) > 0:\n",
    "            player_df['MP'] = datetime.strftime(datetime.fromtimestamp(sum(map(datetime.timestamp, times))/len(times)),\"%M:%S\")\n",
    "        else:\n",
    "            # the player did not play a single minute!\n",
    "            continue\n",
    "\n",
    "        if player_df.FGA > 0:\n",
    "            player_df['FG_perc'] = round(player_df.FG / player_df.FGA, 3)\n",
    "        else:\n",
    "            player_df['FG_perc'] = 0.0\n",
    "\n",
    "        if player_df['3PA'] > 0:\n",
    "            player_df['3P_perc'] = round(player_df['3P'] / player_df['3PA'], 3)\n",
    "        else:\n",
    "            player_df['3P_perc'] = 0.0\n",
    "\n",
    "        if player_df.FTA > 0:\n",
    "            player_df['FT_perc'] = round(player_df.FT / player_df.FTA, 3)\n",
    "        else:\n",
    "            player_df['FT_perc'] = 0.0\n",
    "\n",
    "        player_df['ST'] = int(temp.ST.sum())\n",
    "\n",
    "        player_df = pd.DataFrame(player_df).transpose()\n",
    "        player_df.index = [player]\n",
    "\n",
    "        cols_order = [x for x in range(19, 25)] + [-1] + [0, 1] + [-4] + \\\n",
    "                    [2, 3] + [-3] + [4, 5] + [-2] + [x for x in range(6, 19)]\n",
    "        cols = player_df.columns.tolist()\n",
    "        cols = [cols[i] for i in cols_order]\n",
    "        player_df = player_df[cols]\n",
    "        \n",
    "        if os.path.exists(f'{DATA_DIR}/PlayersAverages/{player}.csv'):\n",
    "            previous_df = pd.read_csv(f'{DATA_DIR}/PlayersAverages/{player}.csv')\n",
    "            \n",
    "            if season not in list(previous_df.SEASON):\n",
    "                player_df = previous_df.append(player_df)\n",
    "            else:\n",
    "                player_df = previous_df\n",
    "                \n",
    "        player_df = player_df.sort_values('SEASON')\n",
    "        player_df.to_csv(f'{DATA_DIR}/PlayersAverages/{player}.csv', index_label=False)"
   ]
  },
  {
   "cell_type": "code",
   "execution_count": 7,
   "metadata": {},
   "outputs": [],
   "source": [
    "%%script false --no-raise-error\n",
    "\n",
    "for season in notebook.tqdm(SEASONS):\n",
    "    build_players_avg_dataset(season)"
   ]
  },
  {
   "cell_type": "markdown",
   "metadata": {},
   "source": [
    "#### Merge all players' averages together"
   ]
  },
  {
   "cell_type": "code",
   "execution_count": 8,
   "metadata": {},
   "outputs": [],
   "source": [
    "%%script false --no-raise-error\n",
    "\n",
    "_, _, dataframes = next(os.walk(f'{DATA_DIR}/PlayersAverages'))\n",
    "\n",
    "df = pd.read_csv(f'{DATA_DIR}/PlayersAverages/{dataframes[0]}')\n",
    "df.reset_index(inplace=True)\n",
    "df.rename({'index': 'NAME'}, inplace=True, axis=1)\n",
    "\n",
    "for frame in notebook.tqdm(dataframes[1:]):\n",
    "    temp = pd.read_csv(f'{DATA_DIR}/PlayersAverages/{frame}')\n",
    "    temp.reset_index(inplace=True)\n",
    "    temp.rename({'index': 'NAME'}, inplace=True, axis=1)\n",
    "    \n",
    "    df = df.append(temp)\n",
    "    df.reset_index(drop=True, inplace=True)\n",
    "    \n",
    "df.to_csv(f'{DATA_DIR}/PlayersAverages/averages.csv', index_label=False)\n",
    "\n",
    "\n",
    "\"\"\"\n",
    "check if this must be included!\n",
    "df = pd.read_csv(f'{DATA_DIR}/PlayersAverages/averages.csv')\n",
    "\n",
    "digits = ['0', '1', '2', '3', '4', '5', '6', '7', '8', '9', '10']\n",
    "vowels = ['a', 'e', 'i', 'o', 'u']\n",
    "filt_1 = df.NAME.str.contains('|'.join(digits))\n",
    "filt_2 = df.NAME.str.contains('|'.join(vowels))\n",
    "df = df.loc[~(filt_1 & ~filt_2)]\n",
    "\n",
    "df.to_csv(f'{DATA_DIR}/PlayersAverages/averages.csv', index_label=False)\n",
    "\"\"\""
   ]
  },
  {
   "cell_type": "markdown",
   "metadata": {},
   "source": [
    "# Generate players' avg dataset <a class=\"anchor\" id=\"PInd\"></a>"
   ]
  },
  {
   "cell_type": "code",
   "execution_count": 9,
   "metadata": {},
   "outputs": [],
   "source": [
    "def build_players_dataset():\n",
    "    if not os.path.exists(f'{DATA_DIR}/Players'):\n",
    "        os.makedirs(f'{DATA_DIR}/Players')\n",
    "        \n",
    "    with open(f'{DATA_DIR}/players.pkl', 'rb') as fp:\n",
    "        players = pickle.load(fp)\n",
    "    \n",
    "    for player in notebook.tqdm(players):\n",
    "        for season in SEASONS:\n",
    "            df = pd.read_csv(f'{DATA_DIR}/Boxscores/{season}.csv')            \n",
    "            season_names = list(df.NAME)\n",
    "            \n",
    "            if player not in season_names:\n",
    "                continue\n",
    "            try:\n",
    "                player_df = player_df.append(df.loc[df.NAME == player])\n",
    "                player_df = player_df.sort_values('DATE')\n",
    "            except NameError:\n",
    "                player_df = df.loc[df.NAME == player]\n",
    "        player_df.to_csv(f'{DATA_DIR}/Players/{player}.csv', index_label=False)\n",
    "        del player_df"
   ]
  },
  {
   "cell_type": "code",
   "execution_count": 10,
   "metadata": {},
   "outputs": [],
   "source": [
    "%%script false --no-raise-error\n",
    "\n",
    "build_players_dataset()"
   ]
  },
  {
   "cell_type": "markdown",
   "metadata": {},
   "source": [
    "# Create single boxscore dataframe <a class=\"anchor\" id=\"Boxscore\"></a>\n",
    "\n",
    "\n",
    "TODO: Cancel and recreate, add also 'WIN' COLUMN"
   ]
  },
  {
   "cell_type": "code",
   "execution_count": 11,
   "metadata": {},
   "outputs": [],
   "source": [
    "%%script false --no-raise-error\n",
    "\n",
    "_, _, dataframes = next(os.walk(f'{DATA_DIR}/Players'))\n",
    "\n",
    "df = pd.read_csv(f'{DATA_DIR}/Players/{dataframes[0]}')\n",
    "\n",
    "for frame in notebook.tqdm(dataframes[1:]):\n",
    "    temp = pd.read_csv(f'{DATA_DIR}/Players/{frame}')\n",
    "    df = df.append(temp)\n",
    "    df.reset_index(drop=True, inplace=True)\n",
    "    \n",
    "df.to_csv(f'{DATA_DIR}/Boxscores/boxscores.csv', index_label=False)"
   ]
  },
  {
   "cell_type": "code",
   "execution_count": 12,
   "metadata": {},
   "outputs": [],
   "source": [
    "%%script false --no-raise-error\n",
    "\n",
    "def remove_pdk_not_play(row):\n",
    "    if any(word in row.MP for word in ['Dress', 'Suspended']):\n",
    "        row['PDK'] = 0.0\n",
    "    return row\n",
    "\n",
    "df = df.apply(remove_pdk_not_play, axis=1)\n",
    "df.to_csv(f'{DATA_DIR}/Boxscores/boxscores.csv', index_label=False)"
   ]
  },
  {
   "cell_type": "markdown",
   "metadata": {},
   "source": [
    "# TODO:\n",
    "\n",
    "- Merge boxscore with position data\n",
    "\n",
    "- Remove PDK for players that did not play that game \n",
    "\n",
    "- Add season for each row!!\n",
    "\n",
    "- (then recompute averages and rebuild players dataset)"
   ]
  },
  {
   "cell_type": "markdown",
   "metadata": {},
   "source": [
    "# Which ones are the top and worst performances all time?"
   ]
  },
  {
   "cell_type": "code",
   "execution_count": 13,
   "metadata": {},
   "outputs": [],
   "source": [
    "df = pd.read_csv(f'{DATA_DIR}/Boxscores/boxscores.csv')"
   ]
  },
  {
   "cell_type": "code",
   "execution_count": 14,
   "metadata": {},
   "outputs": [],
   "source": [
    "N = 10\n",
    "\n",
    "worst = df.sort_values('PDK').head(N)[dunkest_columns]\n",
    "best = df.sort_values('PDK', ascending=False).head(N)[dunkest_columns]"
   ]
  },
  {
   "cell_type": "code",
   "execution_count": 15,
   "metadata": {},
   "outputs": [
    {
     "data": {
      "image/png": "[encoded data removed]",
      "text/plain": [
       "<Figure size 1008x432 with 1 Axes>"
      ]
     },
     "metadata": {
      "needs_background": "light"
     },
     "output_type": "display_data"
    }
   ],
   "source": [
    "plot = best[['NAME', 'SEASON', 'PDK']].sort_values('PDK')\n",
    "colors = {'Russell Westbrook': 'red', 'James Harden': 'black', 'Nikola Jokic': 'blue', 'Draymond Green': 'green', 'LeBron James': 'orange', 'Vince Carter': 'cyan', 'DeMarcus Cousins': 'purple'}\n",
    "\n",
    "fig, ax = plt.subplots(figsize=(14, 6))\n",
    "ax.scatter(np.arange(10), plot.PDK, c=plot.NAME.map(colors))\n",
    "\n",
    "data = {}\n",
    "idx = 0\n",
    "for i in range(len(plot.SEASON)):\n",
    "    if plot.SEASON.tolist()[i] not in data.keys():\n",
    "        data[plot.SEASON.tolist()[i]] = idx\n",
    "        idx += 1\n",
    "\n",
    "for i in range(10):\n",
    "    if i % 2 != 0:\n",
    "        ax.annotate(f'{plot.NAME.tolist()[i]}\\n{plot.SEASON.tolist()[i]}', (i - 0.4, plot.PDK.tolist()[i] - 1.3), clip_on=False)\n",
    "    else:\n",
    "        ax.annotate(f'{plot.NAME.tolist()[i]}\\n{plot.SEASON.tolist()[i]}', (i - 0.4, plot.PDK.tolist()[i] + 0.5), clip_on=False)\n",
    "        \n",
    "plt.xticks([x for x in range(10)], [f'{10-x}°' for x in range(10)])\n",
    "plt.title('Best 10 Individual Performances')\n",
    "plt.ylabel('PDK', fontsize=12)\n",
    "plt.show()"
   ]
  },
  {
   "cell_type": "code",
   "execution_count": 16,
   "metadata": {},
   "outputs": [
    {
     "data": {
      "image/png": "[encoded data removed]",
      "text/plain": [
       "<Figure size 1008x432 with 1 Axes>"
      ]
     },
     "metadata": {
      "needs_background": "light"
     },
     "output_type": "display_data"
    }
   ],
   "source": [
    "plot = worst[['NAME', 'SEASON', 'PDK']].sort_values('PDK', ascending=False)\n",
    "\n",
    "fig, ax = plt.subplots(figsize=(14, 6))\n",
    "ax.scatter(np.arange(10), plot.PDK)\n",
    "\n",
    "data = {}\n",
    "idx = 0\n",
    "for i in range(len(plot.SEASON)):\n",
    "    if plot.SEASON.tolist()[i] not in data.keys():\n",
    "        data[plot.SEASON.tolist()[i]] = idx\n",
    "        idx += 1\n",
    "\n",
    "for i in range(10):\n",
    "    if i < 5:\n",
    "        if i % 2 == 0:\n",
    "            ax.annotate(f'{plot.NAME.tolist()[i]}\\n{plot.SEASON.tolist()[i]}', (i - 0.3, plot.PDK.tolist()[i] - 0.2), clip_on=False)\n",
    "        else:\n",
    "            ax.annotate(f'{plot.NAME.tolist()[i]}\\n{plot.SEASON.tolist()[i]}', (i - 0.3, plot.PDK.tolist()[i] - 0.4), clip_on=False)\n",
    "    else:\n",
    "        ax.annotate(f'{plot.NAME.tolist()[i]}\\n{plot.SEASON.tolist()[i]}', (i - 0.3, plot.PDK.tolist()[i] + 0.1), clip_on=False)\n",
    "\n",
    "plt.xticks([x for x in range(10)], [f'{10-x}°' for x in range(10)])\n",
    "plt.title('Worst 10 Individual Performances')\n",
    "plt.ylabel('PDK', fontsize=12)\n",
    "plt.show()"
   ]
  },
  {
   "cell_type": "code",
   "execution_count": 17,
   "metadata": {},
   "outputs": [
    {
     "data": {
      "image/png": "[encoded data removed]",
      "text/plain": [
       "<Figure size 1008x432 with 1 Axes>"
      ]
     },
     "metadata": {
      "needs_background": "light"
     },
     "output_type": "display_data"
    }
   ],
   "source": [
    "plot = worst[['NAME', 'SEASON', 'PDK']].sort_values('SEASON')\n",
    "\n",
    "fig, ax = plt.subplots(figsize=(14, 6))\n",
    "ax.scatter(plot.SEASON, plot.PDK)\n",
    "\n",
    "data = {}\n",
    "idx = 0\n",
    "for i in range(len(plot.SEASON)):\n",
    "    if plot.SEASON.tolist()[i] not in data.keys():\n",
    "        data[plot.SEASON.tolist()[i]] = idx\n",
    "        idx += 1\n",
    "\n",
    "for i in range(10):\n",
    "    if plot.NAME.tolist()[i] != 'Rashad McCants':\n",
    "        ax.annotate(plot.NAME.tolist()[i], (data[plot.SEASON.tolist()[i]] - 0.3, plot.PDK.tolist()[i] - 0.2), clip_on=False)\n",
    "    else:\n",
    "        ax.annotate(plot.NAME.tolist()[i], (data[plot.SEASON.tolist()[i]] - 0.3, plot.PDK.tolist()[i] + 0.1), clip_on=False)\n",
    "\n",
    "plt.ylim(-17.5, -14)\n",
    "plt.title('Worst 10 Individual Performances')\n",
    "plt.ylabel('PDK', fontsize=12)\n",
    "plt.show()"
   ]
  },
  {
   "cell_type": "markdown",
   "metadata": {},
   "source": [
    "## Player with highest total points per season"
   ]
  },
  {
   "cell_type": "code",
   "execution_count": 18,
   "metadata": {},
   "outputs": [],
   "source": [
    "with open(f'{DATA_DIR}/players.pkl', 'rb') as fp:\n",
    "    players = pickle.load(fp)\n",
    "    \n",
    "player = 'Kobe Bryant'"
   ]
  },
  {
   "cell_type": "code",
   "execution_count": 19,
   "metadata": {},
   "outputs": [],
   "source": [
    "temp = df.groupby(['NAME', 'SEASON']).sum().reset_index()"
   ]
  },
  {
   "cell_type": "code",
   "execution_count": 20,
   "metadata": {},
   "outputs": [],
   "source": [
    "best = temp.sort_values('PDK', ascending=False)[['NAME', 'SEASON', 'PDK']].head(10)"
   ]
  },
  {
   "cell_type": "markdown",
   "metadata": {},
   "source": [
    "# Graph of PDK over time for a player\n",
    "\n",
    "TODO: MAKE IT IN PERCENTAGES!"
   ]
  },
  {
   "cell_type": "code",
   "execution_count": 21,
   "metadata": {},
   "outputs": [],
   "source": [
    "def hist_PDK(player, remove_non_played=False):\n",
    "    player_df = df.loc[df.NAME == player]\n",
    "    \n",
    "    if remove_non_played:\n",
    "        filt_1 = df.MP.str.contains('Dress')\n",
    "        filt_2 = df.MP.str.contains('Suspended')\n",
    "        player_df = player_df.loc[~filt_1]\n",
    "        player_df = player_df.loc[~filt_2]\n",
    "        \n",
    "    n_games = player_df.shape[0]\n",
    "\n",
    "    fig = plt.figure(figsize=(12, 6))\n",
    "    \n",
    "    plt.hist(player_df.PDK, bins=[x for x in range(-10, 100, 2)], edgecolor='black', label=player, weights=np.ones(n_games) / n_games)\n",
    "    plt.axvline(player_df.PDK.mean(), label=f'mean: {round(player_df.PDK.mean(), 1)}', linestyle='--', color='red')\n",
    "    # plt.axvline(player_df.PDK.median(), label=f'median: {round(player_df.PDK.median(), 1)}', linestyle='--', color='yellow')\n",
    "\n",
    "    if remove_non_played:\n",
    "        plt.xlabel('PDK, removed games not played!', fontsize=12)\n",
    "    else:\n",
    "        plt.xlabel('PDK, considering games not played!', fontsize=12)\n",
    "        \n",
    "    plt.ylabel(f'Percentage of games with that PDK', fontsize=12)\n",
    "    plt.gca().yaxis.set_major_formatter(PercentFormatter(1))\n",
    "    plt.legend(fontsize=12)\n",
    "    plt.show()"
   ]
  },
  {
   "cell_type": "code",
   "execution_count": 24,
   "metadata": {},
   "outputs": [
    {
     "data": {
      "image/png": "[encoded data removed]",
      "text/plain": [
       "<Figure size 864x432 with 1 Axes>"
      ]
     },
     "metadata": {
      "needs_background": "light"
     },
     "output_type": "display_data"
    }
   ],
   "source": [
    "player = \"Nikola Jokic\"\n",
    "\n",
    "hist_PDK(player, remove_non_played=False)"
   ]
  },
  {
   "cell_type": "code",
   "execution_count": 37,
   "metadata": {},
   "outputs": [],
   "source": [
    "def hist_PDK_comparison(player_1, player_2, remove_non_played=False):\n",
    "    player_df_1 = df.loc[df.NAME == player_1]\n",
    "    player_df_2 = df.loc[df.NAME == player_2]\n",
    "    \n",
    "    if remove_non_played:\n",
    "        filt_1 = df.MP.str.contains('Dress')\n",
    "        filt_2 = df.MP.str.contains('Suspended')\n",
    "        player_df_1 = player_df_1.loc[~filt_1]\n",
    "        player_df_1 = player_df_1.loc[~filt_2]\n",
    "        player_df_2 = player_df_2.loc[~filt_1]\n",
    "        player_df_2 = player_df_2.loc[~filt_2]\n",
    "    \n",
    "    n_games_1 = player_df_1.shape[0]\n",
    "    n_games_2 = player_df_2.shape[0]\n",
    "\n",
    "    fig = plt.figure(figsize=(12, 6))\n",
    "\n",
    "    plt.hist(player_df_1.PDK, bins=[x for x in range(-10, 100, 2)], edgecolor='black', label=player_1, weights=np.ones(n_games_1) / n_games_1)    \n",
    "    plt.hist(player_df_2.PDK, bins=[x for x in range(-10, 100, 2)], edgecolor='black', label=player_2, alpha=0.85, weights=np.ones(n_games_2) / n_games_2)\n",
    "    \n",
    "    plt.axvline(player_df_1.PDK.mean(), label=f'mean {player_1}: {round(player_df_1.PDK.mean(), 1)}', linestyle='--', color='blue')\n",
    "    plt.axvline(player_df_2.PDK.mean(), label=f'mean {player_2}: {round(player_df_2.PDK.mean(), 1)}', linestyle='--', color='orange')\n",
    "\n",
    "    if remove_non_played:\n",
    "        plt.xlabel('PDK, removed games not played!', fontsize=12)\n",
    "    else:\n",
    "        plt.xlabel('PDK, considering games not played!', fontsize=12)\n",
    "        \n",
    "    plt.ylabel(f'Percentage of games with that PDK', fontsize=12)\n",
    "    plt.gca().yaxis.set_major_formatter(PercentFormatter(1))\n",
    "    plt.legend(fontsize=12)\n",
    "    plt.show()"
   ]
  },
  {
   "cell_type": "code",
   "execution_count": 42,
   "metadata": {},
   "outputs": [
    {
     "data": {
      "image/png": "[encoded data removed]",
      "text/plain": [
       "<Figure size 864x432 with 1 Axes>"
      ]
     },
     "metadata": {
      "needs_background": "light"
     },
     "output_type": "display_data"
    }
   ],
   "source": [
    "hist_PDK_comparison(player_1=\"Klay Thompson\", player_2='LeBron James')"
   ]
  },
  {
   "cell_type": "markdown",
   "metadata": {},
   "source": [
    "# TEST"
   ]
  },
  {
   "cell_type": "code",
   "execution_count": 26,
   "metadata": {},
   "outputs": [],
   "source": [
    "temp = df.loc[df.DATE.str.contains('2020')]\n",
    "\n",
    "temp = temp.sort_values('PDK', ascending=False)"
   ]
  },
  {
   "cell_type": "code",
   "execution_count": 27,
   "metadata": {},
   "outputs": [
    {
     "data": {
      "text/html": [
       "<div>\n",
       "<style scoped>\n",
       "    .dataframe tbody tr th:only-of-type {\n",
       "        vertical-align: middle;\n",
       "    }\n",
       "\n",
       "    .dataframe tbody tr th {\n",
       "        vertical-align: top;\n",
       "    }\n",
       "\n",
       "    .dataframe thead th {\n",
       "        text-align: right;\n",
       "    }\n",
       "</style>\n",
       "<table border=\"1\" class=\"dataframe\">\n",
       "  <thead>\n",
       "    <tr style=\"text-align: right;\">\n",
       "      <th></th>\n",
       "      <th>NAME</th>\n",
       "      <th>POS</th>\n",
       "      <th>DATE</th>\n",
       "      <th>SEASON</th>\n",
       "      <th>TEAM</th>\n",
       "      <th>HOME</th>\n",
       "      <th>W</th>\n",
       "      <th>W_PTS</th>\n",
       "      <th>L</th>\n",
       "      <th>L_PTS</th>\n",
       "      <th>MP</th>\n",
       "      <th>FG</th>\n",
       "      <th>FGA</th>\n",
       "      <th>FG_perc</th>\n",
       "      <th>3P</th>\n",
       "      <th>3PA</th>\n",
       "      <th>3P_perc</th>\n",
       "      <th>FT</th>\n",
       "      <th>FTA</th>\n",
       "      <th>FT_perc</th>\n",
       "      <th>ORB</th>\n",
       "      <th>DRB</th>\n",
       "      <th>TRB</th>\n",
       "      <th>AST</th>\n",
       "      <th>STL</th>\n",
       "      <th>BLK</th>\n",
       "      <th>TOV</th>\n",
       "      <th>PF</th>\n",
       "      <th>PTS</th>\n",
       "      <th>+/-</th>\n",
       "      <th>TS_perc</th>\n",
       "      <th>eFG_perc</th>\n",
       "      <th>3PAr</th>\n",
       "      <th>FTr</th>\n",
       "      <th>ORB_perc</th>\n",
       "      <th>DRB_perc</th>\n",
       "      <th>TRB_perc</th>\n",
       "      <th>AST_perc</th>\n",
       "      <th>STL_perc</th>\n",
       "      <th>BLK_perc</th>\n",
       "      <th>TOV_perc</th>\n",
       "      <th>USG_perc</th>\n",
       "      <th>ORtg</th>\n",
       "      <th>DRtg</th>\n",
       "      <th>BPM</th>\n",
       "      <th>ST</th>\n",
       "      <th>BA</th>\n",
       "      <th>SEASON.1</th>\n",
       "      <th>PDK</th>\n",
       "    </tr>\n",
       "  </thead>\n",
       "  <tbody>\n",
       "    <tr>\n",
       "      <th>610640</th>\n",
       "      <td>Draymond Green</td>\n",
       "      <td>F</td>\n",
       "      <td>2017-02-10</td>\n",
       "      <td>2016-17</td>\n",
       "      <td>GSW</td>\n",
       "      <td>0</td>\n",
       "      <td>GSW</td>\n",
       "      <td>122</td>\n",
       "      <td>MEM</td>\n",
       "      <td>107</td>\n",
       "      <td>37:44</td>\n",
       "      <td>2</td>\n",
       "      <td>6</td>\n",
       "      <td>0.333</td>\n",
       "      <td>0</td>\n",
       "      <td>3</td>\n",
       "      <td>0.0</td>\n",
       "      <td>0</td>\n",
       "      <td>0</td>\n",
       "      <td>NaN</td>\n",
       "      <td>0</td>\n",
       "      <td>11</td>\n",
       "      <td>11</td>\n",
       "      <td>10</td>\n",
       "      <td>10</td>\n",
       "      <td>5</td>\n",
       "      <td>2</td>\n",
       "      <td>3</td>\n",
       "      <td>10</td>\n",
       "      <td>26.0</td>\n",
       "      <td>0.333</td>\n",
       "      <td>0.333</td>\n",
       "      <td>0.5</td>\n",
       "      <td>0.0</td>\n",
       "      <td>0.0</td>\n",
       "      <td>29.8</td>\n",
       "      <td>17.3</td>\n",
       "      <td>34.9</td>\n",
       "      <td>13.0</td>\n",
       "      <td>10.4</td>\n",
       "      <td>25.0</td>\n",
       "      <td>9.6</td>\n",
       "      <td>106.0</td>\n",
       "      <td>76.0</td>\n",
       "      <td>19.3</td>\n",
       "      <td>1.0</td>\n",
       "      <td>1</td>\n",
       "      <td>2016-17</td>\n",
       "      <td>64.0</td>\n",
       "    </tr>\n",
       "  </tbody>\n",
       "</table>\n",
       "</div>"
      ],
      "text/plain": [
       "                  NAME POS        DATE   SEASON TEAM  HOME    W  W_PTS    L  \\\n",
       "610640  Draymond Green   F  2017-02-10  2016-17  GSW     0  GSW    122  MEM   \n",
       "\n",
       "        L_PTS     MP  FG  FGA  FG_perc  3P  3PA  3P_perc  FT  FTA  FT_perc  \\\n",
       "610640    107  37:44   2    6    0.333   0    3      0.0   0    0      NaN   \n",
       "\n",
       "        ORB  DRB  TRB  AST  STL  BLK  TOV  PF  PTS   +/-  TS_perc  eFG_perc  \\\n",
       "610640    0   11   11   10   10    5    2   3   10  26.0    0.333     0.333   \n",
       "\n",
       "        3PAr  FTr  ORB_perc  DRB_perc  TRB_perc  AST_perc  STL_perc  BLK_perc  \\\n",
       "610640   0.5  0.0       0.0      29.8      17.3      34.9      13.0      10.4   \n",
       "\n",
       "        TOV_perc  USG_perc   ORtg  DRtg   BPM   ST  BA SEASON.1   PDK  \n",
       "610640      25.0       9.6  106.0  76.0  19.3  1.0   1  2016-17  64.0  "
      ]
     },
     "execution_count": 27,
     "metadata": {},
     "output_type": "execute_result"
    }
   ],
   "source": [
    "row"
   ]
  },
  {
   "cell_type": "code",
   "execution_count": 28,
   "metadata": {},
   "outputs": [
    {
     "data": {
      "text/plain": [
       "134.8"
      ]
     },
     "execution_count": 28,
     "metadata": {},
     "output_type": "execute_result"
    }
   ],
   "source": [
    "row = temp.iloc[0]\n",
    "\n",
    "get_player_score(row)"
   ]
  },
  {
   "cell_type": "markdown",
   "metadata": {},
   "source": [
    "# What is the player with the highest average?"
   ]
  },
  {
   "cell_type": "code",
   "execution_count": null,
   "metadata": {},
   "outputs": [],
   "source": []
  },
  {
   "cell_type": "code",
   "execution_count": 29,
   "metadata": {},
   "outputs": [],
   "source": [
    "_, _, player_dataframes = next(os.walk(f'{DATA_DIR}/Players'))\n",
    "\n",
    "best_pdk = 0.0\n",
    "\n",
    "for dataframe in player_dataframes:\n",
    "    df = pd.read_csv(f'{DATA_DIR}/Players/{dataframe}')\n",
    "    if df.PDK.max() > best_pdk:\n",
    "        best_pdk = df.PDK.max()\n",
    "        best_player = df.index.tolist()[0]\n",
    "    elif df.PDK.max() == best_pdk:\n",
    "        best_pdk = list(best_pdk).append(pd.PDK.max())\n",
    "        best_player = list(best_player).append(df.index.tolist()[0])\n"
   ]
  },
  {
   "cell_type": "code",
   "execution_count": 30,
   "metadata": {},
   "outputs": [
    {
     "data": {
      "text/plain": [
       "(98.5, 24053)"
      ]
     },
     "execution_count": 30,
     "metadata": {},
     "output_type": "execute_result"
    }
   ],
   "source": [
    "best_pdk, best_player"
   ]
  },
  {
   "cell_type": "markdown",
   "metadata": {},
   "source": [
    "# Doublecheck and add to data collection!\n"
   ]
  },
  {
   "cell_type": "code",
   "execution_count": null,
   "metadata": {},
   "outputs": [],
   "source": []
  },
  {
   "cell_type": "code",
   "execution_count": null,
   "metadata": {},
   "outputs": [],
   "source": []
  },
  {
   "cell_type": "code",
   "execution_count": 31,
   "metadata": {},
   "outputs": [
    {
     "data": {
      "text/html": [
       "<div>\n",
       "<style scoped>\n",
       "    .dataframe tbody tr th:only-of-type {\n",
       "        vertical-align: middle;\n",
       "    }\n",
       "\n",
       "    .dataframe tbody tr th {\n",
       "        vertical-align: top;\n",
       "    }\n",
       "\n",
       "    .dataframe thead th {\n",
       "        text-align: right;\n",
       "    }\n",
       "</style>\n",
       "<table border=\"1\" class=\"dataframe\">\n",
       "  <thead>\n",
       "    <tr style=\"text-align: right;\">\n",
       "      <th></th>\n",
       "      <th>NAME</th>\n",
       "      <th>POS</th>\n",
       "      <th>DATE</th>\n",
       "      <th>SEASON</th>\n",
       "      <th>TEAM</th>\n",
       "      <th>HOME</th>\n",
       "      <th>W</th>\n",
       "      <th>W_PTS</th>\n",
       "      <th>L</th>\n",
       "      <th>L_PTS</th>\n",
       "      <th>MP</th>\n",
       "      <th>FG</th>\n",
       "      <th>FGA</th>\n",
       "      <th>FG_perc</th>\n",
       "      <th>3P</th>\n",
       "      <th>3PA</th>\n",
       "      <th>3P_perc</th>\n",
       "      <th>FT</th>\n",
       "      <th>FTA</th>\n",
       "      <th>FT_perc</th>\n",
       "      <th>ORB</th>\n",
       "      <th>DRB</th>\n",
       "      <th>TRB</th>\n",
       "      <th>AST</th>\n",
       "      <th>STL</th>\n",
       "      <th>BLK</th>\n",
       "      <th>TOV</th>\n",
       "      <th>PF</th>\n",
       "      <th>PTS</th>\n",
       "      <th>+/-</th>\n",
       "      <th>TS_perc</th>\n",
       "      <th>eFG_perc</th>\n",
       "      <th>3PAr</th>\n",
       "      <th>FTr</th>\n",
       "      <th>ORB_perc</th>\n",
       "      <th>DRB_perc</th>\n",
       "      <th>TRB_perc</th>\n",
       "      <th>AST_perc</th>\n",
       "      <th>STL_perc</th>\n",
       "      <th>BLK_perc</th>\n",
       "      <th>TOV_perc</th>\n",
       "      <th>USG_perc</th>\n",
       "      <th>ORtg</th>\n",
       "      <th>DRtg</th>\n",
       "      <th>BPM</th>\n",
       "      <th>ST</th>\n",
       "      <th>BA</th>\n",
       "      <th>SEASON.1</th>\n",
       "      <th>PDK</th>\n",
       "    </tr>\n",
       "  </thead>\n",
       "  <tbody>\n",
       "    <tr>\n",
       "      <th>13872</th>\n",
       "      <td>Reggie Miller</td>\n",
       "      <td>G</td>\n",
       "      <td>1996-11-01</td>\n",
       "      <td>1996-97</td>\n",
       "      <td>IND</td>\n",
       "      <td>0</td>\n",
       "      <td>DET</td>\n",
       "      <td>95</td>\n",
       "      <td>IND</td>\n",
       "      <td>89</td>\n",
       "      <td>40:37</td>\n",
       "      <td>4</td>\n",
       "      <td>15</td>\n",
       "      <td>0.267</td>\n",
       "      <td>2</td>\n",
       "      <td>8</td>\n",
       "      <td>0.250</td>\n",
       "      <td>7</td>\n",
       "      <td>7</td>\n",
       "      <td>1.000</td>\n",
       "      <td>1</td>\n",
       "      <td>3</td>\n",
       "      <td>4</td>\n",
       "      <td>6</td>\n",
       "      <td>0</td>\n",
       "      <td>2</td>\n",
       "      <td>3</td>\n",
       "      <td>2</td>\n",
       "      <td>17</td>\n",
       "      <td>-8.0</td>\n",
       "      <td>0.470</td>\n",
       "      <td>0.333</td>\n",
       "      <td>0.533</td>\n",
       "      <td>0.467</td>\n",
       "      <td>3.1</td>\n",
       "      <td>9.5</td>\n",
       "      <td>6.2</td>\n",
       "      <td>24.8</td>\n",
       "      <td>0.0</td>\n",
       "      <td>4.9</td>\n",
       "      <td>14.2</td>\n",
       "      <td>24.2</td>\n",
       "      <td>101.0</td>\n",
       "      <td>110.0</td>\n",
       "      <td>2.6</td>\n",
       "      <td>1.0</td>\n",
       "      <td>0</td>\n",
       "      <td>1996-97</td>\n",
       "      <td>15.8</td>\n",
       "    </tr>\n",
       "    <tr>\n",
       "      <th>20955</th>\n",
       "      <td>Reggie Miller</td>\n",
       "      <td>G</td>\n",
       "      <td>1996-11-02</td>\n",
       "      <td>1996-97</td>\n",
       "      <td>IND</td>\n",
       "      <td>1</td>\n",
       "      <td>MIA</td>\n",
       "      <td>97</td>\n",
       "      <td>IND</td>\n",
       "      <td>95</td>\n",
       "      <td>39:07</td>\n",
       "      <td>11</td>\n",
       "      <td>22</td>\n",
       "      <td>0.500</td>\n",
       "      <td>3</td>\n",
       "      <td>6</td>\n",
       "      <td>0.500</td>\n",
       "      <td>9</td>\n",
       "      <td>11</td>\n",
       "      <td>0.818</td>\n",
       "      <td>0</td>\n",
       "      <td>4</td>\n",
       "      <td>4</td>\n",
       "      <td>3</td>\n",
       "      <td>1</td>\n",
       "      <td>1</td>\n",
       "      <td>4</td>\n",
       "      <td>2</td>\n",
       "      <td>34</td>\n",
       "      <td>6.0</td>\n",
       "      <td>0.633</td>\n",
       "      <td>0.568</td>\n",
       "      <td>0.273</td>\n",
       "      <td>0.500</td>\n",
       "      <td>0.0</td>\n",
       "      <td>13.3</td>\n",
       "      <td>6.7</td>\n",
       "      <td>21.1</td>\n",
       "      <td>1.3</td>\n",
       "      <td>2.7</td>\n",
       "      <td>13.0</td>\n",
       "      <td>35.2</td>\n",
       "      <td>117.0</td>\n",
       "      <td>102.0</td>\n",
       "      <td>9.4</td>\n",
       "      <td>1.0</td>\n",
       "      <td>1</td>\n",
       "      <td>1996-97</td>\n",
       "      <td>27.0</td>\n",
       "    </tr>\n",
       "    <tr>\n",
       "      <th>2679</th>\n",
       "      <td>Reggie Miller</td>\n",
       "      <td>G</td>\n",
       "      <td>1996-11-06</td>\n",
       "      <td>1996-97</td>\n",
       "      <td>IND</td>\n",
       "      <td>0</td>\n",
       "      <td>BOS</td>\n",
       "      <td>94</td>\n",
       "      <td>IND</td>\n",
       "      <td>84</td>\n",
       "      <td>37:13</td>\n",
       "      <td>9</td>\n",
       "      <td>21</td>\n",
       "      <td>0.429</td>\n",
       "      <td>4</td>\n",
       "      <td>10</td>\n",
       "      <td>0.400</td>\n",
       "      <td>6</td>\n",
       "      <td>7</td>\n",
       "      <td>0.857</td>\n",
       "      <td>2</td>\n",
       "      <td>3</td>\n",
       "      <td>5</td>\n",
       "      <td>3</td>\n",
       "      <td>0</td>\n",
       "      <td>0</td>\n",
       "      <td>2</td>\n",
       "      <td>3</td>\n",
       "      <td>28</td>\n",
       "      <td>-5.0</td>\n",
       "      <td>0.581</td>\n",
       "      <td>0.524</td>\n",
       "      <td>0.476</td>\n",
       "      <td>0.333</td>\n",
       "      <td>6.7</td>\n",
       "      <td>9.7</td>\n",
       "      <td>8.2</td>\n",
       "      <td>18.3</td>\n",
       "      <td>0.0</td>\n",
       "      <td>0.0</td>\n",
       "      <td>7.7</td>\n",
       "      <td>32.9</td>\n",
       "      <td>126.0</td>\n",
       "      <td>111.0</td>\n",
       "      <td>5.1</td>\n",
       "      <td>1.0</td>\n",
       "      <td>0</td>\n",
       "      <td>1996-97</td>\n",
       "      <td>24.0</td>\n",
       "    </tr>\n",
       "    <tr>\n",
       "      <th>20730</th>\n",
       "      <td>Reggie Miller</td>\n",
       "      <td>G</td>\n",
       "      <td>1996-11-09</td>\n",
       "      <td>1996-97</td>\n",
       "      <td>IND</td>\n",
       "      <td>1</td>\n",
       "      <td>IND</td>\n",
       "      <td>103</td>\n",
       "      <td>WSB</td>\n",
       "      <td>100</td>\n",
       "      <td>42:00</td>\n",
       "      <td>5</td>\n",
       "      <td>17</td>\n",
       "      <td>0.294</td>\n",
       "      <td>0</td>\n",
       "      <td>3</td>\n",
       "      <td>0.000</td>\n",
       "      <td>6</td>\n",
       "      <td>6</td>\n",
       "      <td>1.000</td>\n",
       "      <td>1</td>\n",
       "      <td>5</td>\n",
       "      <td>6</td>\n",
       "      <td>6</td>\n",
       "      <td>0</td>\n",
       "      <td>1</td>\n",
       "      <td>3</td>\n",
       "      <td>2</td>\n",
       "      <td>16</td>\n",
       "      <td>5.0</td>\n",
       "      <td>0.407</td>\n",
       "      <td>0.294</td>\n",
       "      <td>0.176</td>\n",
       "      <td>0.353</td>\n",
       "      <td>2.9</td>\n",
       "      <td>12.4</td>\n",
       "      <td>8.0</td>\n",
       "      <td>23.2</td>\n",
       "      <td>0.0</td>\n",
       "      <td>1.7</td>\n",
       "      <td>13.3</td>\n",
       "      <td>24.4</td>\n",
       "      <td>92.0</td>\n",
       "      <td>101.0</td>\n",
       "      <td>-1.9</td>\n",
       "      <td>1.0</td>\n",
       "      <td>3</td>\n",
       "      <td>1996-97</td>\n",
       "      <td>18.8</td>\n",
       "    </tr>\n",
       "    <tr>\n",
       "      <th>5848</th>\n",
       "      <td>Reggie Miller</td>\n",
       "      <td>G</td>\n",
       "      <td>1996-11-12</td>\n",
       "      <td>1996-97</td>\n",
       "      <td>IND</td>\n",
       "      <td>0</td>\n",
       "      <td>DAL</td>\n",
       "      <td>103</td>\n",
       "      <td>IND</td>\n",
       "      <td>82</td>\n",
       "      <td>21:53</td>\n",
       "      <td>7</td>\n",
       "      <td>13</td>\n",
       "      <td>0.538</td>\n",
       "      <td>3</td>\n",
       "      <td>5</td>\n",
       "      <td>0.600</td>\n",
       "      <td>2</td>\n",
       "      <td>4</td>\n",
       "      <td>0.500</td>\n",
       "      <td>1</td>\n",
       "      <td>1</td>\n",
       "      <td>2</td>\n",
       "      <td>1</td>\n",
       "      <td>0</td>\n",
       "      <td>1</td>\n",
       "      <td>1</td>\n",
       "      <td>1</td>\n",
       "      <td>19</td>\n",
       "      <td>-20.0</td>\n",
       "      <td>0.644</td>\n",
       "      <td>0.654</td>\n",
       "      <td>0.385</td>\n",
       "      <td>0.308</td>\n",
       "      <td>4.1</td>\n",
       "      <td>5.3</td>\n",
       "      <td>4.6</td>\n",
       "      <td>15.9</td>\n",
       "      <td>0.0</td>\n",
       "      <td>3.4</td>\n",
       "      <td>6.3</td>\n",
       "      <td>30.7</td>\n",
       "      <td>121.0</td>\n",
       "      <td>115.0</td>\n",
       "      <td>13.6</td>\n",
       "      <td>1.0</td>\n",
       "      <td>1</td>\n",
       "      <td>1996-97</td>\n",
       "      <td>15.3</td>\n",
       "    </tr>\n",
       "    <tr>\n",
       "      <th>...</th>\n",
       "      <td>...</td>\n",
       "      <td>...</td>\n",
       "      <td>...</td>\n",
       "      <td>...</td>\n",
       "      <td>...</td>\n",
       "      <td>...</td>\n",
       "      <td>...</td>\n",
       "      <td>...</td>\n",
       "      <td>...</td>\n",
       "      <td>...</td>\n",
       "      <td>...</td>\n",
       "      <td>...</td>\n",
       "      <td>...</td>\n",
       "      <td>...</td>\n",
       "      <td>...</td>\n",
       "      <td>...</td>\n",
       "      <td>...</td>\n",
       "      <td>...</td>\n",
       "      <td>...</td>\n",
       "      <td>...</td>\n",
       "      <td>...</td>\n",
       "      <td>...</td>\n",
       "      <td>...</td>\n",
       "      <td>...</td>\n",
       "      <td>...</td>\n",
       "      <td>...</td>\n",
       "      <td>...</td>\n",
       "      <td>...</td>\n",
       "      <td>...</td>\n",
       "      <td>...</td>\n",
       "      <td>...</td>\n",
       "      <td>...</td>\n",
       "      <td>...</td>\n",
       "      <td>...</td>\n",
       "      <td>...</td>\n",
       "      <td>...</td>\n",
       "      <td>...</td>\n",
       "      <td>...</td>\n",
       "      <td>...</td>\n",
       "      <td>...</td>\n",
       "      <td>...</td>\n",
       "      <td>...</td>\n",
       "      <td>...</td>\n",
       "      <td>...</td>\n",
       "      <td>...</td>\n",
       "      <td>...</td>\n",
       "      <td>...</td>\n",
       "      <td>...</td>\n",
       "      <td>...</td>\n",
       "    </tr>\n",
       "    <tr>\n",
       "      <th>10714</th>\n",
       "      <td>Reggie Miller</td>\n",
       "      <td>G</td>\n",
       "      <td>2005-04-13</td>\n",
       "      <td>2004-05</td>\n",
       "      <td>IND</td>\n",
       "      <td>1</td>\n",
       "      <td>IND</td>\n",
       "      <td>90</td>\n",
       "      <td>NJN</td>\n",
       "      <td>86</td>\n",
       "      <td>34:18</td>\n",
       "      <td>7</td>\n",
       "      <td>16</td>\n",
       "      <td>0.438</td>\n",
       "      <td>3</td>\n",
       "      <td>7</td>\n",
       "      <td>0.429</td>\n",
       "      <td>5</td>\n",
       "      <td>5</td>\n",
       "      <td>1.000</td>\n",
       "      <td>2</td>\n",
       "      <td>5</td>\n",
       "      <td>7</td>\n",
       "      <td>2</td>\n",
       "      <td>3</td>\n",
       "      <td>0</td>\n",
       "      <td>0</td>\n",
       "      <td>1</td>\n",
       "      <td>22</td>\n",
       "      <td>4.0</td>\n",
       "      <td>0.604</td>\n",
       "      <td>0.531</td>\n",
       "      <td>0.438</td>\n",
       "      <td>0.313</td>\n",
       "      <td>5.8</td>\n",
       "      <td>19.1</td>\n",
       "      <td>11.6</td>\n",
       "      <td>15.5</td>\n",
       "      <td>5.0</td>\n",
       "      <td>0.0</td>\n",
       "      <td>0.0</td>\n",
       "      <td>26.0</td>\n",
       "      <td>136.0</td>\n",
       "      <td>94.0</td>\n",
       "      <td>15.8</td>\n",
       "      <td>1.0</td>\n",
       "      <td>1</td>\n",
       "      <td>2004-05</td>\n",
       "      <td>34.5</td>\n",
       "    </tr>\n",
       "    <tr>\n",
       "      <th>3088</th>\n",
       "      <td>Reggie Miller</td>\n",
       "      <td>G</td>\n",
       "      <td>2005-04-15</td>\n",
       "      <td>2004-05</td>\n",
       "      <td>IND</td>\n",
       "      <td>1</td>\n",
       "      <td>PHI</td>\n",
       "      <td>90</td>\n",
       "      <td>IND</td>\n",
       "      <td>86</td>\n",
       "      <td>39:13</td>\n",
       "      <td>4</td>\n",
       "      <td>16</td>\n",
       "      <td>0.250</td>\n",
       "      <td>1</td>\n",
       "      <td>9</td>\n",
       "      <td>0.111</td>\n",
       "      <td>4</td>\n",
       "      <td>6</td>\n",
       "      <td>0.667</td>\n",
       "      <td>0</td>\n",
       "      <td>3</td>\n",
       "      <td>3</td>\n",
       "      <td>2</td>\n",
       "      <td>1</td>\n",
       "      <td>0</td>\n",
       "      <td>2</td>\n",
       "      <td>0</td>\n",
       "      <td>13</td>\n",
       "      <td>-12.0</td>\n",
       "      <td>0.349</td>\n",
       "      <td>0.281</td>\n",
       "      <td>0.563</td>\n",
       "      <td>0.375</td>\n",
       "      <td>0.0</td>\n",
       "      <td>10.2</td>\n",
       "      <td>4.5</td>\n",
       "      <td>11.0</td>\n",
       "      <td>1.4</td>\n",
       "      <td>0.0</td>\n",
       "      <td>9.7</td>\n",
       "      <td>24.7</td>\n",
       "      <td>72.0</td>\n",
       "      <td>101.0</td>\n",
       "      <td>-7.3</td>\n",
       "      <td>1.0</td>\n",
       "      <td>0</td>\n",
       "      <td>2004-05</td>\n",
       "      <td>1.5</td>\n",
       "    </tr>\n",
       "    <tr>\n",
       "      <th>2677</th>\n",
       "      <td>Reggie Miller</td>\n",
       "      <td>G</td>\n",
       "      <td>2005-04-17</td>\n",
       "      <td>2004-05</td>\n",
       "      <td>IND</td>\n",
       "      <td>0</td>\n",
       "      <td>MIA</td>\n",
       "      <td>84</td>\n",
       "      <td>IND</td>\n",
       "      <td>80</td>\n",
       "      <td>30:44</td>\n",
       "      <td>5</td>\n",
       "      <td>11</td>\n",
       "      <td>0.455</td>\n",
       "      <td>2</td>\n",
       "      <td>5</td>\n",
       "      <td>0.400</td>\n",
       "      <td>6</td>\n",
       "      <td>6</td>\n",
       "      <td>1.000</td>\n",
       "      <td>0</td>\n",
       "      <td>1</td>\n",
       "      <td>1</td>\n",
       "      <td>2</td>\n",
       "      <td>0</td>\n",
       "      <td>0</td>\n",
       "      <td>2</td>\n",
       "      <td>1</td>\n",
       "      <td>18</td>\n",
       "      <td>-4.0</td>\n",
       "      <td>0.660</td>\n",
       "      <td>0.545</td>\n",
       "      <td>0.455</td>\n",
       "      <td>0.545</td>\n",
       "      <td>0.0</td>\n",
       "      <td>4.4</td>\n",
       "      <td>2.0</td>\n",
       "      <td>17.8</td>\n",
       "      <td>0.0</td>\n",
       "      <td>0.0</td>\n",
       "      <td>12.8</td>\n",
       "      <td>25.8</td>\n",
       "      <td>124.0</td>\n",
       "      <td>111.0</td>\n",
       "      <td>6.9</td>\n",
       "      <td>1.0</td>\n",
       "      <td>0</td>\n",
       "      <td>2004-05</td>\n",
       "      <td>11.0</td>\n",
       "    </tr>\n",
       "    <tr>\n",
       "      <th>6829</th>\n",
       "      <td>Reggie Miller</td>\n",
       "      <td>G</td>\n",
       "      <td>2005-04-18</td>\n",
       "      <td>2004-05</td>\n",
       "      <td>IND</td>\n",
       "      <td>0</td>\n",
       "      <td>ORL</td>\n",
       "      <td>92</td>\n",
       "      <td>IND</td>\n",
       "      <td>88</td>\n",
       "      <td>36:06</td>\n",
       "      <td>5</td>\n",
       "      <td>13</td>\n",
       "      <td>0.385</td>\n",
       "      <td>1</td>\n",
       "      <td>6</td>\n",
       "      <td>0.167</td>\n",
       "      <td>2</td>\n",
       "      <td>3</td>\n",
       "      <td>0.667</td>\n",
       "      <td>0</td>\n",
       "      <td>2</td>\n",
       "      <td>2</td>\n",
       "      <td>4</td>\n",
       "      <td>1</td>\n",
       "      <td>0</td>\n",
       "      <td>1</td>\n",
       "      <td>2</td>\n",
       "      <td>13</td>\n",
       "      <td>1.0</td>\n",
       "      <td>0.454</td>\n",
       "      <td>0.423</td>\n",
       "      <td>0.462</td>\n",
       "      <td>0.231</td>\n",
       "      <td>0.0</td>\n",
       "      <td>7.2</td>\n",
       "      <td>3.3</td>\n",
       "      <td>21.9</td>\n",
       "      <td>1.6</td>\n",
       "      <td>0.0</td>\n",
       "      <td>6.5</td>\n",
       "      <td>20.6</td>\n",
       "      <td>103.0</td>\n",
       "      <td>111.0</td>\n",
       "      <td>-1.6</td>\n",
       "      <td>1.0</td>\n",
       "      <td>0</td>\n",
       "      <td>2004-05</td>\n",
       "      <td>10.0</td>\n",
       "    </tr>\n",
       "    <tr>\n",
       "      <th>2476</th>\n",
       "      <td>Reggie Miller</td>\n",
       "      <td>G</td>\n",
       "      <td>2005-04-20</td>\n",
       "      <td>2004-05</td>\n",
       "      <td>IND</td>\n",
       "      <td>1</td>\n",
       "      <td>IND</td>\n",
       "      <td>85</td>\n",
       "      <td>CHI</td>\n",
       "      <td>83</td>\n",
       "      <td>33:01</td>\n",
       "      <td>3</td>\n",
       "      <td>13</td>\n",
       "      <td>0.231</td>\n",
       "      <td>0</td>\n",
       "      <td>2</td>\n",
       "      <td>0.000</td>\n",
       "      <td>6</td>\n",
       "      <td>6</td>\n",
       "      <td>1.000</td>\n",
       "      <td>0</td>\n",
       "      <td>7</td>\n",
       "      <td>7</td>\n",
       "      <td>4</td>\n",
       "      <td>1</td>\n",
       "      <td>0</td>\n",
       "      <td>4</td>\n",
       "      <td>4</td>\n",
       "      <td>12</td>\n",
       "      <td>9.0</td>\n",
       "      <td>0.384</td>\n",
       "      <td>0.231</td>\n",
       "      <td>0.154</td>\n",
       "      <td>0.462</td>\n",
       "      <td>0.0</td>\n",
       "      <td>24.2</td>\n",
       "      <td>11.7</td>\n",
       "      <td>21.8</td>\n",
       "      <td>1.8</td>\n",
       "      <td>0.0</td>\n",
       "      <td>20.4</td>\n",
       "      <td>28.4</td>\n",
       "      <td>80.0</td>\n",
       "      <td>99.0</td>\n",
       "      <td>-7.6</td>\n",
       "      <td>1.0</td>\n",
       "      <td>1</td>\n",
       "      <td>2004-05</td>\n",
       "      <td>14.0</td>\n",
       "    </tr>\n",
       "  </tbody>\n",
       "</table>\n",
       "<p>678 rows × 49 columns</p>\n",
       "</div>"
      ],
      "text/plain": [
       "                NAME POS        DATE   SEASON TEAM  HOME    W  W_PTS    L  \\\n",
       "13872  Reggie Miller   G  1996-11-01  1996-97  IND     0  DET     95  IND   \n",
       "20955  Reggie Miller   G  1996-11-02  1996-97  IND     1  MIA     97  IND   \n",
       "2679   Reggie Miller   G  1996-11-06  1996-97  IND     0  BOS     94  IND   \n",
       "20730  Reggie Miller   G  1996-11-09  1996-97  IND     1  IND    103  WSB   \n",
       "5848   Reggie Miller   G  1996-11-12  1996-97  IND     0  DAL    103  IND   \n",
       "...              ...  ..         ...      ...  ...   ...  ...    ...  ...   \n",
       "10714  Reggie Miller   G  2005-04-13  2004-05  IND     1  IND     90  NJN   \n",
       "3088   Reggie Miller   G  2005-04-15  2004-05  IND     1  PHI     90  IND   \n",
       "2677   Reggie Miller   G  2005-04-17  2004-05  IND     0  MIA     84  IND   \n",
       "6829   Reggie Miller   G  2005-04-18  2004-05  IND     0  ORL     92  IND   \n",
       "2476   Reggie Miller   G  2005-04-20  2004-05  IND     1  IND     85  CHI   \n",
       "\n",
       "       L_PTS     MP  FG  FGA  FG_perc  3P  3PA  3P_perc  FT  FTA  FT_perc  \\\n",
       "13872     89  40:37   4   15    0.267   2    8    0.250   7    7    1.000   \n",
       "20955     95  39:07  11   22    0.500   3    6    0.500   9   11    0.818   \n",
       "2679      84  37:13   9   21    0.429   4   10    0.400   6    7    0.857   \n",
       "20730    100  42:00   5   17    0.294   0    3    0.000   6    6    1.000   \n",
       "5848      82  21:53   7   13    0.538   3    5    0.600   2    4    0.500   \n",
       "...      ...    ...  ..  ...      ...  ..  ...      ...  ..  ...      ...   \n",
       "10714     86  34:18   7   16    0.438   3    7    0.429   5    5    1.000   \n",
       "3088      86  39:13   4   16    0.250   1    9    0.111   4    6    0.667   \n",
       "2677      80  30:44   5   11    0.455   2    5    0.400   6    6    1.000   \n",
       "6829      88  36:06   5   13    0.385   1    6    0.167   2    3    0.667   \n",
       "2476      83  33:01   3   13    0.231   0    2    0.000   6    6    1.000   \n",
       "\n",
       "       ORB  DRB  TRB  AST  STL  BLK  TOV  PF  PTS   +/-  TS_perc  eFG_perc  \\\n",
       "13872    1    3    4    6    0    2    3   2   17  -8.0    0.470     0.333   \n",
       "20955    0    4    4    3    1    1    4   2   34   6.0    0.633     0.568   \n",
       "2679     2    3    5    3    0    0    2   3   28  -5.0    0.581     0.524   \n",
       "20730    1    5    6    6    0    1    3   2   16   5.0    0.407     0.294   \n",
       "5848     1    1    2    1    0    1    1   1   19 -20.0    0.644     0.654   \n",
       "...    ...  ...  ...  ...  ...  ...  ...  ..  ...   ...      ...       ...   \n",
       "10714    2    5    7    2    3    0    0   1   22   4.0    0.604     0.531   \n",
       "3088     0    3    3    2    1    0    2   0   13 -12.0    0.349     0.281   \n",
       "2677     0    1    1    2    0    0    2   1   18  -4.0    0.660     0.545   \n",
       "6829     0    2    2    4    1    0    1   2   13   1.0    0.454     0.423   \n",
       "2476     0    7    7    4    1    0    4   4   12   9.0    0.384     0.231   \n",
       "\n",
       "        3PAr    FTr  ORB_perc  DRB_perc  TRB_perc  AST_perc  STL_perc  \\\n",
       "13872  0.533  0.467       3.1       9.5       6.2      24.8       0.0   \n",
       "20955  0.273  0.500       0.0      13.3       6.7      21.1       1.3   \n",
       "2679   0.476  0.333       6.7       9.7       8.2      18.3       0.0   \n",
       "20730  0.176  0.353       2.9      12.4       8.0      23.2       0.0   \n",
       "5848   0.385  0.308       4.1       5.3       4.6      15.9       0.0   \n",
       "...      ...    ...       ...       ...       ...       ...       ...   \n",
       "10714  0.438  0.313       5.8      19.1      11.6      15.5       5.0   \n",
       "3088   0.563  0.375       0.0      10.2       4.5      11.0       1.4   \n",
       "2677   0.455  0.545       0.0       4.4       2.0      17.8       0.0   \n",
       "6829   0.462  0.231       0.0       7.2       3.3      21.9       1.6   \n",
       "2476   0.154  0.462       0.0      24.2      11.7      21.8       1.8   \n",
       "\n",
       "       BLK_perc  TOV_perc  USG_perc   ORtg   DRtg   BPM   ST  BA SEASON.1  \\\n",
       "13872       4.9      14.2      24.2  101.0  110.0   2.6  1.0   0  1996-97   \n",
       "20955       2.7      13.0      35.2  117.0  102.0   9.4  1.0   1  1996-97   \n",
       "2679        0.0       7.7      32.9  126.0  111.0   5.1  1.0   0  1996-97   \n",
       "20730       1.7      13.3      24.4   92.0  101.0  -1.9  1.0   3  1996-97   \n",
       "5848        3.4       6.3      30.7  121.0  115.0  13.6  1.0   1  1996-97   \n",
       "...         ...       ...       ...    ...    ...   ...  ...  ..      ...   \n",
       "10714       0.0       0.0      26.0  136.0   94.0  15.8  1.0   1  2004-05   \n",
       "3088        0.0       9.7      24.7   72.0  101.0  -7.3  1.0   0  2004-05   \n",
       "2677        0.0      12.8      25.8  124.0  111.0   6.9  1.0   0  2004-05   \n",
       "6829        0.0       6.5      20.6  103.0  111.0  -1.6  1.0   0  2004-05   \n",
       "2476        0.0      20.4      28.4   80.0   99.0  -7.6  1.0   1  2004-05   \n",
       "\n",
       "        PDK  \n",
       "13872  15.8  \n",
       "20955  27.0  \n",
       "2679   24.0  \n",
       "20730  18.8  \n",
       "5848   15.3  \n",
       "...     ...  \n",
       "10714  34.5  \n",
       "3088    1.5  \n",
       "2677   11.0  \n",
       "6829   10.0  \n",
       "2476   14.0  \n",
       "\n",
       "[678 rows x 49 columns]"
      ]
     },
     "execution_count": 31,
     "metadata": {},
     "output_type": "execute_result"
    }
   ],
   "source": [
    "df"
   ]
  },
  {
   "cell_type": "code",
   "execution_count": null,
   "metadata": {},
   "outputs": [],
   "source": []
  },
  {
   "cell_type": "code",
   "execution_count": null,
   "metadata": {},
   "outputs": [],
   "source": []
  },
  {
   "cell_type": "code",
   "execution_count": null,
   "metadata": {},
   "outputs": [],
   "source": []
  },
  {
   "cell_type": "code",
   "execution_count": null,
   "metadata": {},
   "outputs": [],
   "source": []
  },
  {
   "cell_type": "markdown",
   "metadata": {},
   "source": []
  },
  {
   "cell_type": "code",
   "execution_count": 32,
   "metadata": {},
   "outputs": [],
   "source": [
    "import os\n",
    "import time\n",
    "from tqdm import notebook\n",
    "from collections import defaultdict\n",
    "from datetime import datetime\n",
    "from dateutil import parser\n",
    "\n",
    "import pandas as pd\n",
    "import numpy as np\n",
    "from urllib.request import urlopen\n",
    "import requests\n",
    "from bs4 import BeautifulSoup\n",
    "\n",
    "from constants import DATA_DIR, SEASONS\n",
    "\n",
    "SLEEP_TIME = 1\n",
    "\n",
    "NAMES_CONVERSION = {'ć': 'c', 'č': 'c', 'Č': 'C', 'ç': 'c',\n",
    "                    'ã': 'a', 'ā': 'a', 'á': 'a', 'ä': 'a', 'Á': 'A',\n",
    "                    'ž': 'z',\n",
    "                    'í': 'i', 'İ': 'I', 'ï': 'i', 'ı': 'i',\n",
    "                    'ö': 'o', 'ó': 'o', 'ò': 'o', 'ô': 'o', 'Ó': 'O', 'Ö': 'O',\n",
    "                    'é': 'e', 'ê': 'e', 'ë': 'e', 'è': 'e',\n",
    "                    'Š': 'S', 'ș': 's', 'š': 's', 'ş': 's',\n",
    "                    'ū': 'u', 'ü': 'u', 'ú': 'u',\n",
    "                    'ņ': 'n', 'ń': 'n',\n",
    "                    'ģ': 'g', 'ğ': 'g',\n",
    "                    'ý': 'y',\n",
    "                    'Ž': 'Z',\n",
    "                    'ř': 'r',\n",
    "                   }"
   ]
  },
  {
   "cell_type": "code",
   "execution_count": 33,
   "metadata": {},
   "outputs": [],
   "source": [
    "pd.set_option('display.max_columns', 500)\n",
    "pd.set_option('display.width', 1000)"
   ]
  },
  {
   "cell_type": "markdown",
   "metadata": {},
   "source": [
    "## Check if there are two players with the same name"
   ]
  },
  {
   "cell_type": "code",
   "execution_count": 34,
   "metadata": {},
   "outputs": [],
   "source": [
    "def check_duplicates(season):\n",
    "    df = pd.read_csv(f'{DATA_DIR}/Boxscores/{season}.csv')\n",
    "    \n",
    "    columns = ['NAME', 'DATE', 'TEAM']\n",
    "    temp = df[columns].drop_duplicates()\n",
    "    diff = df.shape[0] - temp.shape[0]\n",
    "    print(f'There {\"is\" if diff==1 else \"are\"} {\"no\" if diff==0 else diff} {\"row\" if diff==1 else \"rows\"} with the same {[col for col in columns]}.')\n",
    "    if diff > 0:\n",
    "        return df[df.duplicated(subset=columns)]\n",
    "    else:\n",
    "        return None\n"
   ]
  },
  {
   "cell_type": "code",
   "execution_count": 35,
   "metadata": {},
   "outputs": [
    {
     "name": "stdout",
     "output_type": "stream",
     "text": [
      "There are no rows with the same ['NAME', 'DATE', 'TEAM'].\n"
     ]
    }
   ],
   "source": [
    "check_duplicates(season='2020-21')"
   ]
  },
  {
   "cell_type": "markdown",
   "metadata": {},
   "source": [
    "## Merge dunkest and boxscore (only for season 2020-21)"
   ]
  },
  {
   "cell_type": "code",
   "execution_count": 36,
   "metadata": {},
   "outputs": [
    {
     "ename": "FileNotFoundError",
     "evalue": "[Errno 2] No such file or directory: '/home/filipo/Documents/dunkest_project/data/Credits/2020-21/2020-21.csv'",
     "output_type": "error",
     "traceback": [
      "\u001b[0;31m---------------------------------------------------------------------------\u001b[0m",
      "\u001b[0;31mFileNotFoundError\u001b[0m                         Traceback (most recent call last)",
      "\u001b[0;32m/tmp/ipykernel_16444/3828148255.py\u001b[0m in \u001b[0;36m<module>\u001b[0;34m\u001b[0m\n\u001b[0;32m----> 1\u001b[0;31m \u001b[0mdunkest_df\u001b[0m \u001b[0;34m=\u001b[0m \u001b[0mpd\u001b[0m\u001b[0;34m.\u001b[0m\u001b[0mread_csv\u001b[0m\u001b[0;34m(\u001b[0m\u001b[0;34mf'{DATA_DIR}/Credits/2020-21/2020-21.csv'\u001b[0m\u001b[0;34m)\u001b[0m\u001b[0;34m\u001b[0m\u001b[0;34m\u001b[0m\u001b[0m\n\u001b[0m\u001b[1;32m      2\u001b[0m \u001b[0mboxscore_df\u001b[0m \u001b[0;34m=\u001b[0m \u001b[0mpd\u001b[0m\u001b[0;34m.\u001b[0m\u001b[0mread_csv\u001b[0m\u001b[0;34m(\u001b[0m\u001b[0;34mf'{DATA_DIR}/Boxscores/2006-07.csv'\u001b[0m\u001b[0;34m)\u001b[0m\u001b[0;34m\u001b[0m\u001b[0;34m\u001b[0m\u001b[0m\n",
      "\u001b[0;32m~/anaconda3/envs/dunkest_project_env/lib/python3.9/site-packages/pandas/util/_decorators.py\u001b[0m in \u001b[0;36mwrapper\u001b[0;34m(*args, **kwargs)\u001b[0m\n\u001b[1;32m    309\u001b[0m                     \u001b[0mstacklevel\u001b[0m\u001b[0;34m=\u001b[0m\u001b[0mstacklevel\u001b[0m\u001b[0;34m,\u001b[0m\u001b[0;34m\u001b[0m\u001b[0;34m\u001b[0m\u001b[0m\n\u001b[1;32m    310\u001b[0m                 )\n\u001b[0;32m--> 311\u001b[0;31m             \u001b[0;32mreturn\u001b[0m \u001b[0mfunc\u001b[0m\u001b[0;34m(\u001b[0m\u001b[0;34m*\u001b[0m\u001b[0margs\u001b[0m\u001b[0;34m,\u001b[0m \u001b[0;34m**\u001b[0m\u001b[0mkwargs\u001b[0m\u001b[0;34m)\u001b[0m\u001b[0;34m\u001b[0m\u001b[0;34m\u001b[0m\u001b[0m\n\u001b[0m\u001b[1;32m    312\u001b[0m \u001b[0;34m\u001b[0m\u001b[0m\n\u001b[1;32m    313\u001b[0m         \u001b[0;32mreturn\u001b[0m \u001b[0mwrapper\u001b[0m\u001b[0;34m\u001b[0m\u001b[0;34m\u001b[0m\u001b[0m\n",
      "\u001b[0;32m~/anaconda3/envs/dunkest_project_env/lib/python3.9/site-packages/pandas/io/parsers/readers.py\u001b[0m in \u001b[0;36mread_csv\u001b[0;34m(filepath_or_buffer, sep, delimiter, header, names, index_col, usecols, squeeze, prefix, mangle_dupe_cols, dtype, engine, converters, true_values, false_values, skipinitialspace, skiprows, skipfooter, nrows, na_values, keep_default_na, na_filter, verbose, skip_blank_lines, parse_dates, infer_datetime_format, keep_date_col, date_parser, dayfirst, cache_dates, iterator, chunksize, compression, thousands, decimal, lineterminator, quotechar, quoting, doublequote, escapechar, comment, encoding, encoding_errors, dialect, error_bad_lines, warn_bad_lines, on_bad_lines, delim_whitespace, low_memory, memory_map, float_precision, storage_options)\u001b[0m\n\u001b[1;32m    584\u001b[0m     \u001b[0mkwds\u001b[0m\u001b[0;34m.\u001b[0m\u001b[0mupdate\u001b[0m\u001b[0;34m(\u001b[0m\u001b[0mkwds_defaults\u001b[0m\u001b[0;34m)\u001b[0m\u001b[0;34m\u001b[0m\u001b[0;34m\u001b[0m\u001b[0m\n\u001b[1;32m    585\u001b[0m \u001b[0;34m\u001b[0m\u001b[0m\n\u001b[0;32m--> 586\u001b[0;31m     \u001b[0;32mreturn\u001b[0m \u001b[0m_read\u001b[0m\u001b[0;34m(\u001b[0m\u001b[0mfilepath_or_buffer\u001b[0m\u001b[0;34m,\u001b[0m \u001b[0mkwds\u001b[0m\u001b[0;34m)\u001b[0m\u001b[0;34m\u001b[0m\u001b[0;34m\u001b[0m\u001b[0m\n\u001b[0m\u001b[1;32m    587\u001b[0m \u001b[0;34m\u001b[0m\u001b[0m\n\u001b[1;32m    588\u001b[0m \u001b[0;34m\u001b[0m\u001b[0m\n",
      "\u001b[0;32m~/anaconda3/envs/dunkest_project_env/lib/python3.9/site-packages/pandas/io/parsers/readers.py\u001b[0m in \u001b[0;36m_read\u001b[0;34m(filepath_or_buffer, kwds)\u001b[0m\n\u001b[1;32m    480\u001b[0m \u001b[0;34m\u001b[0m\u001b[0m\n\u001b[1;32m    481\u001b[0m     \u001b[0;31m# Create the parser.\u001b[0m\u001b[0;34m\u001b[0m\u001b[0;34m\u001b[0m\u001b[0m\n\u001b[0;32m--> 482\u001b[0;31m     \u001b[0mparser\u001b[0m \u001b[0;34m=\u001b[0m \u001b[0mTextFileReader\u001b[0m\u001b[0;34m(\u001b[0m\u001b[0mfilepath_or_buffer\u001b[0m\u001b[0;34m,\u001b[0m \u001b[0;34m**\u001b[0m\u001b[0mkwds\u001b[0m\u001b[0;34m)\u001b[0m\u001b[0;34m\u001b[0m\u001b[0;34m\u001b[0m\u001b[0m\n\u001b[0m\u001b[1;32m    483\u001b[0m \u001b[0;34m\u001b[0m\u001b[0m\n\u001b[1;32m    484\u001b[0m     \u001b[0;32mif\u001b[0m \u001b[0mchunksize\u001b[0m \u001b[0;32mor\u001b[0m \u001b[0miterator\u001b[0m\u001b[0;34m:\u001b[0m\u001b[0;34m\u001b[0m\u001b[0;34m\u001b[0m\u001b[0m\n",
      "\u001b[0;32m~/anaconda3/envs/dunkest_project_env/lib/python3.9/site-packages/pandas/io/parsers/readers.py\u001b[0m in \u001b[0;36m__init__\u001b[0;34m(self, f, engine, **kwds)\u001b[0m\n\u001b[1;32m    809\u001b[0m             \u001b[0mself\u001b[0m\u001b[0;34m.\u001b[0m\u001b[0moptions\u001b[0m\u001b[0;34m[\u001b[0m\u001b[0;34m\"has_index_names\"\u001b[0m\u001b[0;34m]\u001b[0m \u001b[0;34m=\u001b[0m \u001b[0mkwds\u001b[0m\u001b[0;34m[\u001b[0m\u001b[0;34m\"has_index_names\"\u001b[0m\u001b[0;34m]\u001b[0m\u001b[0;34m\u001b[0m\u001b[0;34m\u001b[0m\u001b[0m\n\u001b[1;32m    810\u001b[0m \u001b[0;34m\u001b[0m\u001b[0m\n\u001b[0;32m--> 811\u001b[0;31m         \u001b[0mself\u001b[0m\u001b[0;34m.\u001b[0m\u001b[0m_engine\u001b[0m \u001b[0;34m=\u001b[0m \u001b[0mself\u001b[0m\u001b[0;34m.\u001b[0m\u001b[0m_make_engine\u001b[0m\u001b[0;34m(\u001b[0m\u001b[0mself\u001b[0m\u001b[0;34m.\u001b[0m\u001b[0mengine\u001b[0m\u001b[0;34m)\u001b[0m\u001b[0;34m\u001b[0m\u001b[0;34m\u001b[0m\u001b[0m\n\u001b[0m\u001b[1;32m    812\u001b[0m \u001b[0;34m\u001b[0m\u001b[0m\n\u001b[1;32m    813\u001b[0m     \u001b[0;32mdef\u001b[0m \u001b[0mclose\u001b[0m\u001b[0;34m(\u001b[0m\u001b[0mself\u001b[0m\u001b[0;34m)\u001b[0m\u001b[0;34m:\u001b[0m\u001b[0;34m\u001b[0m\u001b[0;34m\u001b[0m\u001b[0m\n",
      "\u001b[0;32m~/anaconda3/envs/dunkest_project_env/lib/python3.9/site-packages/pandas/io/parsers/readers.py\u001b[0m in \u001b[0;36m_make_engine\u001b[0;34m(self, engine)\u001b[0m\n\u001b[1;32m   1038\u001b[0m             )\n\u001b[1;32m   1039\u001b[0m         \u001b[0;31m# error: Too many arguments for \"ParserBase\"\u001b[0m\u001b[0;34m\u001b[0m\u001b[0;34m\u001b[0m\u001b[0m\n\u001b[0;32m-> 1040\u001b[0;31m         \u001b[0;32mreturn\u001b[0m \u001b[0mmapping\u001b[0m\u001b[0;34m[\u001b[0m\u001b[0mengine\u001b[0m\u001b[0;34m]\u001b[0m\u001b[0;34m(\u001b[0m\u001b[0mself\u001b[0m\u001b[0;34m.\u001b[0m\u001b[0mf\u001b[0m\u001b[0;34m,\u001b[0m \u001b[0;34m**\u001b[0m\u001b[0mself\u001b[0m\u001b[0;34m.\u001b[0m\u001b[0moptions\u001b[0m\u001b[0;34m)\u001b[0m  \u001b[0;31m# type: ignore[call-arg]\u001b[0m\u001b[0;34m\u001b[0m\u001b[0;34m\u001b[0m\u001b[0m\n\u001b[0m\u001b[1;32m   1041\u001b[0m \u001b[0;34m\u001b[0m\u001b[0m\n\u001b[1;32m   1042\u001b[0m     \u001b[0;32mdef\u001b[0m \u001b[0m_failover_to_python\u001b[0m\u001b[0;34m(\u001b[0m\u001b[0mself\u001b[0m\u001b[0;34m)\u001b[0m\u001b[0;34m:\u001b[0m\u001b[0;34m\u001b[0m\u001b[0;34m\u001b[0m\u001b[0m\n",
      "\u001b[0;32m~/anaconda3/envs/dunkest_project_env/lib/python3.9/site-packages/pandas/io/parsers/c_parser_wrapper.py\u001b[0m in \u001b[0;36m__init__\u001b[0;34m(self, src, **kwds)\u001b[0m\n\u001b[1;32m     49\u001b[0m \u001b[0;34m\u001b[0m\u001b[0m\n\u001b[1;32m     50\u001b[0m         \u001b[0;31m# open handles\u001b[0m\u001b[0;34m\u001b[0m\u001b[0;34m\u001b[0m\u001b[0m\n\u001b[0;32m---> 51\u001b[0;31m         \u001b[0mself\u001b[0m\u001b[0;34m.\u001b[0m\u001b[0m_open_handles\u001b[0m\u001b[0;34m(\u001b[0m\u001b[0msrc\u001b[0m\u001b[0;34m,\u001b[0m \u001b[0mkwds\u001b[0m\u001b[0;34m)\u001b[0m\u001b[0;34m\u001b[0m\u001b[0;34m\u001b[0m\u001b[0m\n\u001b[0m\u001b[1;32m     52\u001b[0m         \u001b[0;32massert\u001b[0m \u001b[0mself\u001b[0m\u001b[0;34m.\u001b[0m\u001b[0mhandles\u001b[0m \u001b[0;32mis\u001b[0m \u001b[0;32mnot\u001b[0m \u001b[0;32mNone\u001b[0m\u001b[0;34m\u001b[0m\u001b[0;34m\u001b[0m\u001b[0m\n\u001b[1;32m     53\u001b[0m \u001b[0;34m\u001b[0m\u001b[0m\n",
      "\u001b[0;32m~/anaconda3/envs/dunkest_project_env/lib/python3.9/site-packages/pandas/io/parsers/base_parser.py\u001b[0m in \u001b[0;36m_open_handles\u001b[0;34m(self, src, kwds)\u001b[0m\n\u001b[1;32m    220\u001b[0m         \u001b[0mLet\u001b[0m \u001b[0mthe\u001b[0m \u001b[0mreaders\u001b[0m \u001b[0mopen\u001b[0m \u001b[0mIOHandles\u001b[0m \u001b[0mafter\u001b[0m \u001b[0mthey\u001b[0m \u001b[0mare\u001b[0m \u001b[0mdone\u001b[0m \u001b[0;32mwith\u001b[0m \u001b[0mtheir\u001b[0m \u001b[0mpotential\u001b[0m \u001b[0mraises\u001b[0m\u001b[0;34m.\u001b[0m\u001b[0;34m\u001b[0m\u001b[0;34m\u001b[0m\u001b[0m\n\u001b[1;32m    221\u001b[0m         \"\"\"\n\u001b[0;32m--> 222\u001b[0;31m         self.handles = get_handle(\n\u001b[0m\u001b[1;32m    223\u001b[0m             \u001b[0msrc\u001b[0m\u001b[0;34m,\u001b[0m\u001b[0;34m\u001b[0m\u001b[0;34m\u001b[0m\u001b[0m\n\u001b[1;32m    224\u001b[0m             \u001b[0;34m\"r\"\u001b[0m\u001b[0;34m,\u001b[0m\u001b[0;34m\u001b[0m\u001b[0;34m\u001b[0m\u001b[0m\n",
      "\u001b[0;32m~/anaconda3/envs/dunkest_project_env/lib/python3.9/site-packages/pandas/io/common.py\u001b[0m in \u001b[0;36mget_handle\u001b[0;34m(path_or_buf, mode, encoding, compression, memory_map, is_text, errors, storage_options)\u001b[0m\n\u001b[1;32m    700\u001b[0m         \u001b[0;32mif\u001b[0m \u001b[0mioargs\u001b[0m\u001b[0;34m.\u001b[0m\u001b[0mencoding\u001b[0m \u001b[0;32mand\u001b[0m \u001b[0;34m\"b\"\u001b[0m \u001b[0;32mnot\u001b[0m \u001b[0;32min\u001b[0m \u001b[0mioargs\u001b[0m\u001b[0;34m.\u001b[0m\u001b[0mmode\u001b[0m\u001b[0;34m:\u001b[0m\u001b[0;34m\u001b[0m\u001b[0;34m\u001b[0m\u001b[0m\n\u001b[1;32m    701\u001b[0m             \u001b[0;31m# Encoding\u001b[0m\u001b[0;34m\u001b[0m\u001b[0;34m\u001b[0m\u001b[0m\n\u001b[0;32m--> 702\u001b[0;31m             handle = open(\n\u001b[0m\u001b[1;32m    703\u001b[0m                 \u001b[0mhandle\u001b[0m\u001b[0;34m,\u001b[0m\u001b[0;34m\u001b[0m\u001b[0;34m\u001b[0m\u001b[0m\n\u001b[1;32m    704\u001b[0m                 \u001b[0mioargs\u001b[0m\u001b[0;34m.\u001b[0m\u001b[0mmode\u001b[0m\u001b[0;34m,\u001b[0m\u001b[0;34m\u001b[0m\u001b[0;34m\u001b[0m\u001b[0m\n",
      "\u001b[0;31mFileNotFoundError\u001b[0m: [Errno 2] No such file or directory: '/home/filipo/Documents/dunkest_project/data/Credits/2020-21/2020-21.csv'"
     ]
    }
   ],
   "source": [
    "dunkest_df = pd.read_csv(f'{DATA_DIR}/Credits/2020-21/2020-21.csv')\n",
    "boxscore_df = pd.read_csv(f'{DATA_DIR}/Boxscores/2006-07.csv')"
   ]
  },
  {
   "cell_type": "code",
   "execution_count": null,
   "metadata": {},
   "outputs": [],
   "source": [
    "boxscore_df"
   ]
  },
  {
   "cell_type": "markdown",
   "metadata": {},
   "source": [
    "#### 1) Define which columns to keep"
   ]
  },
  {
   "cell_type": "code",
   "execution_count": null,
   "metadata": {},
   "outputs": [],
   "source": [
    "columns_keep_boxscore = ['NAME', 'DATE', 'TEAM', 'HOME', 'W', 'W_PTS', 'L', 'L_PTS', 'MP',\n",
    "                         'FG', 'FGA', 'FG_perc', '3P', '3PA', '3P_perc', 'FT', 'FTA', 'FT_perc', \n",
    "                         'ORB', 'DRB', 'TRB', 'AST', 'STL', 'BLK', 'TOV', 'PF', 'PTS', '+-', \n",
    "                         'TS_perc', 'eFG_perc', '3PAr', 'FTr', 'ORB_perc', 'DRB_perc', 'TRB_perc', \n",
    "                         'AST_perc', 'STL_perc', 'BLK_perc', 'TOV_perc', 'USG_perc', 'ORtg', 'DRtg', \n",
    "                         'BPM', 'BA']\n",
    "\n",
    "\n",
    "columns_keep_dunkest = ['NAME', 'POS', 'TEAM', 'PDK', 'CR', 'PLUS', 'GP', 'WEEK', 'PTS', 'AST', 'BLK', 'STL']"
   ]
  },
  {
   "cell_type": "markdown",
   "metadata": {},
   "source": [
    "#### 1.1) change boxscored_df 'BLK_suff' name"
   ]
  },
  {
   "cell_type": "code",
   "execution_count": null,
   "metadata": {},
   "outputs": [],
   "source": [
    "boxscore_df.rename(columns={'BLK_suff': 'BA'}, inplace=True)"
   ]
  },
  {
   "cell_type": "markdown",
   "metadata": {},
   "source": [
    "#### 2) remove rows where the player did not play from boxscore_df"
   ]
  },
  {
   "cell_type": "code",
   "execution_count": null,
   "metadata": {},
   "outputs": [],
   "source": [
    "boxscore_df = boxscore_df.loc[~boxscore_df['MP'].isin(['0:00', 'Did Not Dress'])]"
   ]
  },
  {
   "cell_type": "markdown",
   "metadata": {},
   "source": [
    "#### 3) Remove last part of the name from dunkest"
   ]
  },
  {
   "cell_type": "code",
   "execution_count": null,
   "metadata": {},
   "outputs": [],
   "source": [
    "def adjust_name(name):\n",
    "    \"\"\"\n",
    "    We don't want any punctuation or any 3rd name!\n",
    "    \"\"\"\n",
    "    # remove 3rd name\n",
    "    first, second = name.split(' ')[:2]\n",
    "    \n",
    "    first = first.replace('.', '')\n",
    "    second = second.replace('.', '')\n",
    "    \n",
    "    return ' '.join([first, second])"
   ]
  },
  {
   "cell_type": "code",
   "execution_count": null,
   "metadata": {},
   "outputs": [],
   "source": [
    "print(f'Before changes we have {len(dunkest_df.NAME.unique())} names in dunkest_df.\\n')\n",
    "\n",
    "dunkest_df['NAME'] = dunkest_df['NAME'].apply(adjust_name)\n",
    "\n",
    "print(f'After changes we have {len(dunkest_df.NAME.unique())} names in dunkest_df.')"
   ]
  },
  {
   "cell_type": "code",
   "execution_count": null,
   "metadata": {},
   "outputs": [],
   "source": [
    "print(f'Before changes we have {len(boxscore_df.NAME.unique())} names in dunkest_df.\\n')\n",
    "\n",
    "boxscore_df['NAME'] = boxscore_df['NAME'].apply(adjust_name)\n",
    "\n",
    "print(f'After changes we have {len(boxscore_df.NAME.unique())} names in dunkest_df.')"
   ]
  },
  {
   "cell_type": "markdown",
   "metadata": {},
   "source": [
    "#### 4) fix different names"
   ]
  },
  {
   "cell_type": "code",
   "execution_count": null,
   "metadata": {},
   "outputs": [],
   "source": [
    "def adjust_different_names(name):\n",
    "    changes_in_boxscore = {'Mohamed Bamba': 'Mo Bamba', \n",
    "                       'Nicolas Claxton': 'Nic Claxton', \n",
    "                       'Wesley Iwundu': 'Wes Iwundu',\n",
    "                       'Juan Hernangomez': 'Juancho Hernangomez'}\n",
    "    \n",
    "    try:\n",
    "        new_name = changes_in_boxscore[name]\n",
    "        return new_name\n",
    "    except KeyError:\n",
    "        return name"
   ]
  },
  {
   "cell_type": "code",
   "execution_count": null,
   "metadata": {},
   "outputs": [],
   "source": [
    "boxscore_df['NAME'] = boxscore_df['NAME'].apply(adjust_different_names)"
   ]
  },
  {
   "cell_type": "code",
   "execution_count": null,
   "metadata": {},
   "outputs": [],
   "source": [
    "in_boxscore_not_dunkest = set()\n",
    "for name in boxscore_df.NAME.unique():\n",
    "    if name not in dunkest_df.NAME.unique():\n",
    "        in_boxscore_not_dunkest.add(name)\n",
    "        \n",
    "in_dunkest_not_boxscore = set()\n",
    "for name in dunkest_df.NAME.unique():\n",
    "    if name not in boxscore_df.NAME.unique():\n",
    "        in_dunkest_not_boxscore.add(name)"
   ]
  },
  {
   "cell_type": "code",
   "execution_count": null,
   "metadata": {},
   "outputs": [],
   "source": [
    "boxscore_df.loc[boxscore_df['NAME'].isin(in_boxscore_not_dunkest)].sort_values('MP', ascending=False).head(5)"
   ]
  },
  {
   "cell_type": "code",
   "execution_count": null,
   "metadata": {},
   "outputs": [],
   "source": [
    "dunkest_df.loc[dunkest_df['NAME'].isin(in_dunkest_not_boxscore)]"
   ]
  },
  {
   "cell_type": "markdown",
   "metadata": {},
   "source": [
    "*Osservation:* each name in the two lists did not play significant minutes ever, thus they can also be removed."
   ]
  },
  {
   "cell_type": "markdown",
   "metadata": {},
   "source": [
    "# 5) Merge on [NAME, TEAM]"
   ]
  },
  {
   "cell_type": "code",
   "execution_count": null,
   "metadata": {},
   "outputs": [],
   "source": [
    "boxscore_df_to_merge = boxscore_df[columns_keep_boxscore]\n",
    "dunkest_df_to_merge = dunkest_df[columns_keep_dunkest]"
   ]
  },
  {
   "cell_type": "code",
   "execution_count": null,
   "metadata": {},
   "outputs": [],
   "source": [
    "boxscore_test = boxscore_df_to_merge.loc[boxscore_df_to_merge['NAME']=='Buddy Hield']\n",
    "dunkest_test = dunkest_df_to_merge.loc[dunkest_df_to_merge['NAME']=='Buddy Hield']"
   ]
  },
  {
   "cell_type": "markdown",
   "metadata": {},
   "source": [
    "**Idea:** compute score for each game of the player and then merge on that!"
   ]
  },
  {
   "cell_type": "code",
   "execution_count": null,
   "metadata": {},
   "outputs": [],
   "source": []
  },
  {
   "cell_type": "code",
   "execution_count": null,
   "metadata": {},
   "outputs": [],
   "source": []
  },
  {
   "cell_type": "code",
   "execution_count": null,
   "metadata": {},
   "outputs": [],
   "source": []
  }
 ],
 "metadata": {
  "kernelspec": {
   "display_name": "dunkest_project_env",
   "language": "python",
   "name": "dunkest_project_env"
  },
  "language_info": {
   "codemirror_mode": {
    "name": "ipython",
    "version": 3
   },
   "file_extension": ".py",
   "mimetype": "text/x-python",
   "name": "python",
   "nbconvert_exporter": "python",
   "pygments_lexer": "ipython3",
   "version": "3.9.7"
  }
 },
 "nbformat": 4,
 "nbformat_minor": 4
}
