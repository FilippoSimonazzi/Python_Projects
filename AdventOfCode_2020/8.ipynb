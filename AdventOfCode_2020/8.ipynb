{
 "cells": [
  {
   "cell_type": "markdown",
   "metadata": {},
   "source": [
    "# Ex1"
   ]
  },
  {
   "cell_type": "code",
   "execution_count": 9,
   "metadata": {},
   "outputs": [],
   "source": [
    "with open('8.txt', 'r') as f:\n",
    "    lines = f.readlines()\n",
    "    \n",
    "data = []\n",
    "for line in lines:\n",
    "    data.append(line.strip())\n",
    "    "
   ]
  },
  {
   "cell_type": "code",
   "execution_count": 73,
   "metadata": {},
   "outputs": [],
   "source": [
    "D = {}\n",
    "\n",
    "for i in range(len(data)):\n",
    "    D[i] = {}\n",
    "    key, value = data[i].split(' ')\n",
    "    D[i][key] = value\n",
    "    \n"
   ]
  },
  {
   "cell_type": "code",
   "execution_count": 65,
   "metadata": {},
   "outputs": [],
   "source": [
    "def execute(i, D, accumulator):\n",
    "    if i not in D:\n",
    "        print(f'Program Terminated. Final accumulator value: {accumulator}.')\n",
    "        i = -1\n",
    "        return accumulator, i\n",
    "    for key, value in D[i].items():\n",
    "        key = key\n",
    "        value = int(value)\n",
    "    if key == 'acc':\n",
    "        accumulator += value\n",
    "        i += 1\n",
    "    elif key == 'jmp':\n",
    "        i += value\n",
    "    elif key == 'nop':\n",
    "        i += 1\n",
    "        \n",
    "    return accumulator, i\n",
    "\n",
    "def modify(i, D):\n",
    "    for key, value in D[i].items():\n",
    "        key = key\n",
    "        value = int(value)\n",
    "    if key == 'nop':\n",
    "        key = 'jmp'\n",
    "    elif key == 'jmp':\n",
    "        key = 'nop'\n",
    "        \n",
    "    D[i] = {key:value}"
   ]
  },
  {
   "cell_type": "code",
   "execution_count": 54,
   "metadata": {},
   "outputs": [],
   "source": [
    "check = []\n",
    "i = 0\n",
    "accumulator = 0\n",
    "\n",
    "while i not in check:\n",
    "    check.append(i)\n",
    "    accumulator, i = execute(i, D, accumulator)"
   ]
  },
  {
   "cell_type": "code",
   "execution_count": 56,
   "metadata": {},
   "outputs": [
    {
     "data": {
      "text/plain": [
       "(2034, 228)"
      ]
     },
     "execution_count": 56,
     "metadata": {},
     "output_type": "execute_result"
    }
   ],
   "source": [
    "accumulator, i"
   ]
  },
  {
   "cell_type": "markdown",
   "metadata": {},
   "source": [
    "# Ex2"
   ]
  },
  {
   "cell_type": "code",
   "execution_count": 82,
   "metadata": {},
   "outputs": [],
   "source": [
    "change = 0\n",
    "\n",
    "while i >= 0:\n",
    "    i = 0\n",
    "    check = []\n",
    "    accumulator = 0\n",
    "    while i not in check:\n",
    "        check.append(i)\n",
    "        accumulator, i = execute(i, D, accumulator)\n",
    "    modify(change, D)\n",
    "    if change >= 1:\n",
    "        modify(change-1, D)\n",
    "    change += 1"
   ]
  },
  {
   "cell_type": "code",
   "execution_count": 83,
   "metadata": {},
   "outputs": [
    {
     "data": {
      "text/plain": [
       "672"
      ]
     },
     "execution_count": 83,
     "metadata": {},
     "output_type": "execute_result"
    }
   ],
   "source": [
    "accumulator"
   ]
  }
 ],
 "metadata": {
  "kernelspec": {
   "display_name": "Python 3",
   "language": "python",
   "name": "python3"
  },
  "language_info": {
   "codemirror_mode": {
    "name": "ipython",
    "version": 3
   },
   "file_extension": ".py",
   "mimetype": "text/x-python",
   "name": "python",
   "nbconvert_exporter": "python",
   "pygments_lexer": "ipython3",
   "version": "3.8.6"
  }
 },
 "nbformat": 4,
 "nbformat_minor": 4
}
