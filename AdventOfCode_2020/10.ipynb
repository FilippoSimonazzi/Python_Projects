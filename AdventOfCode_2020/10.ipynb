{
 "cells": [
  {
   "cell_type": "markdown",
   "metadata": {},
   "source": [
    "# Ex1"
   ]
  },
  {
   "cell_type": "code",
   "execution_count": 1,
   "metadata": {},
   "outputs": [],
   "source": [
    "with open('10.txt', 'r') as f:\n",
    "    lines = f.readlines()\n",
    "    \n",
    "data = []\n",
    "for line in lines:\n",
    "    data.append(int(line.strip()))"
   ]
  },
  {
   "cell_type": "code",
   "execution_count": 4,
   "metadata": {},
   "outputs": [],
   "source": [
    "data = sorted(data)"
   ]
  },
  {
   "cell_type": "code",
   "execution_count": 5,
   "metadata": {},
   "outputs": [],
   "source": [
    "j = 0\n",
    "n = 0\n",
    "diff_1 = 0\n",
    "diff_2 = 0\n",
    "diff_3 = 0\n",
    "\n",
    "while n < len(data):\n",
    "    if (j+1) in data:\n",
    "        j = j+1\n",
    "        diff_1 += 1\n",
    "    elif (j+2) in data:\n",
    "        j = j+2\n",
    "        diff_2 += 1\n",
    "    elif (j+3) in data:\n",
    "        j = j+3\n",
    "        diff_3 += 1\n",
    "    else:\n",
    "        print('Nope!')\n",
    "        break\n",
    "    n += 1"
   ]
  },
  {
   "cell_type": "code",
   "execution_count": 6,
   "metadata": {},
   "outputs": [
    {
     "data": {
      "text/plain": [
       "70"
      ]
     },
     "execution_count": 6,
     "metadata": {},
     "output_type": "execute_result"
    }
   ],
   "source": [
    "diff_1"
   ]
  },
  {
   "cell_type": "code",
   "execution_count": 8,
   "metadata": {},
   "outputs": [
    {
     "data": {
      "text/plain": [
       "32"
      ]
     },
     "execution_count": 8,
     "metadata": {},
     "output_type": "execute_result"
    }
   ],
   "source": [
    "diff_3"
   ]
  },
  {
   "cell_type": "code",
   "execution_count": 9,
   "metadata": {},
   "outputs": [
    {
     "data": {
      "text/plain": [
       "2310"
      ]
     },
     "execution_count": 9,
     "metadata": {},
     "output_type": "execute_result"
    }
   ],
   "source": [
    "70*33"
   ]
  },
  {
   "cell_type": "markdown",
   "metadata": {},
   "source": [
    "# Ex2"
   ]
  },
  {
   "cell_type": "code",
   "execution_count": 239,
   "metadata": {},
   "outputs": [],
   "source": [
    "with open('10.txt', 'r') as f:\n",
    "    lines = f.readlines()\n",
    "    \n",
    "data = []\n",
    "for line in lines:\n",
    "    data.append(int(line.strip()))\n",
    "\n",
    "data = sorted(data)"
   ]
  },
  {
   "cell_type": "code",
   "execution_count": 240,
   "metadata": {},
   "outputs": [],
   "source": [
    "D = {}\n",
    "D[0] = []\n",
    "if 1 in data:\n",
    "    D[0].append(1)\n",
    "if 2 in data:\n",
    "    D[0].append(2)\n",
    "if 3 in data:\n",
    "    D[0].append(3)\n",
    "    \n",
    "for j in data:\n",
    "    D[j] = []  \n",
    "    if (j+1) in data:\n",
    "        D[j].append(j+1)\n",
    "    if (j+2) in data:\n",
    "        D[j].append(j+2)\n",
    "    if (j+3) in data:\n",
    "        D[j].append(j+3)\n",
    "\n",
    "D[data[-1]].append(j+3)\n",
    "\n",
    "\n",
    "D_possible = {}\n",
    "for i in D:\n",
    "    D_possible[i] = []\n",
    "    for j in D:\n",
    "        if j >= i:\n",
    "            break\n",
    "        if i in D[j]:\n",
    "            D_possible[i].append(j)\n",
    "D_possible[0] = [0]\n",
    "\n",
    "M = {}\n",
    "M[0] = 1\n",
    "for i in D:\n",
    "    if i > 0:\n",
    "        M[i] = 0\n",
    "        for el in D_possible[i]:\n",
    "            M[i] += M[el]"
   ]
  },
  {
   "cell_type": "code",
   "execution_count": 241,
   "metadata": {},
   "outputs": [
    {
     "data": {
      "text/plain": [
       "64793042714624"
      ]
     },
     "execution_count": 241,
     "metadata": {},
     "output_type": "execute_result"
    }
   ],
   "source": [
    "count = 1\n",
    "\n",
    "for i in D:\n",
    "    if len(D[i]) != 1:\n",
    "        for el in D_possible[i]:\n",
    "            count += M[el] * (len(D[i])-1)\n",
    "            \n",
    "count"
   ]
  },
  {
   "cell_type": "code",
   "execution_count": 242,
   "metadata": {},
   "outputs": [],
   "source": [
    "# FUCKING FINALLY!"
   ]
  },
  {
   "cell_type": "code",
   "execution_count": 244,
   "metadata": {},
   "outputs": [],
   "source": [
    "data = data + [max(data) + 3]"
   ]
  },
  {
   "cell_type": "code",
   "execution_count": 246,
   "metadata": {},
   "outputs": [
    {
     "name": "stdout",
     "output_type": "stream",
     "text": [
      "Answer: 64793042714624\n"
     ]
    }
   ],
   "source": [
    "ans = {}\n",
    "ans[0] = 1\n",
    "for a in data:\n",
    "    ans[a] = ans.get(a-1, 0) + ans.get(a-2, 0) + ans.get(a-3, 0)\n",
    "    \n",
    "print(f'Answer: {ans[data[-1]]}')"
   ]
  },
  {
   "cell_type": "code",
   "execution_count": null,
   "metadata": {},
   "outputs": [],
   "source": []
  }
 ],
 "metadata": {
  "kernelspec": {
   "display_name": "Python 3",
   "language": "python",
   "name": "python3"
  },
  "language_info": {
   "codemirror_mode": {
    "name": "ipython",
    "version": 3
   },
   "file_extension": ".py",
   "mimetype": "text/x-python",
   "name": "python",
   "nbconvert_exporter": "python",
   "pygments_lexer": "ipython3",
   "version": "3.8.6"
  }
 },
 "nbformat": 4,
 "nbformat_minor": 4
}
