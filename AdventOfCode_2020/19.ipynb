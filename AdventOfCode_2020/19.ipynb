{
 "cells": [
  {
   "cell_type": "code",
   "execution_count": 1,
   "metadata": {},
   "outputs": [
    {
     "data": {
      "text/plain": [
       "['0: 4 1 5',\n",
       " '1: 2 3 | 3 2',\n",
       " '2: 4 4 | 5 5',\n",
       " '3: 4 5 | 5 4',\n",
       " '4: \"a\"',\n",
       " '5: \"b\"']"
      ]
     },
     "execution_count": 1,
     "metadata": {},
     "output_type": "execute_result"
    }
   ],
   "source": [
    "with open('19.txt') as f:\n",
    "    lines = f.readlines()\n",
    "    \n",
    "data = []\n",
    "for line in lines:\n",
    "    data.append(line.strip())\n",
    "    \n",
    "data"
   ]
  },
  {
   "cell_type": "code",
   "execution_count": 31,
   "metadata": {},
   "outputs": [],
   "source": [
    "initial_rules = {}\n",
    "fixed_rules = {}\n",
    "multiple_rules = {}\n",
    "to_be_processed = {}\n",
    "\n",
    "for line in data:\n",
    "    if '\"' in line.split(': ')[1]:\n",
    "        initial_rules[line.split(': ')[0]] = (line.split(': ')[1]).strip(' \"')\n",
    "    else:\n",
    "        if '|' not in (line.split(': ')[1]).split(' '):\n",
    "            check = True\n",
    "            for rule in (line.split(': ')[1]).split(' '):\n",
    "                if rule not in initial_rules:\n",
    "                    if rule not in multiple_rules:\n",
    "                        check = False\n",
    "                        to_be_processed[line.split(': ')[0]] = (line.split(': ')[1]).split(' ')\n",
    "                        \n",
    "        else:\n",
    "            check = True\n",
    "            for set_of_rules in (line.split(': ')[1]).split(' | '):\n",
    "                for rule in set_of_rules:\n",
    "                    if rule not in initial_rules:\n",
    "                        check = False\n",
    "                        to_be_processed[(line.split(': ')[0])] = set_of_rules\n",
    "                else:\n",
    "                    multiple_rules[(line.split(': ')[0])] = set_of_rules\n",
    "            \n"
   ]
  },
  {
   "cell_type": "code",
   "execution_count": 35,
   "metadata": {},
   "outputs": [
    {
     "data": {
      "text/plain": [
       "{'1': '3 2', '2': '5 5', '3': '5 4'}"
      ]
     },
     "execution_count": 35,
     "metadata": {},
     "output_type": "execute_result"
    }
   ],
   "source": [
    "multiple_rules"
   ]
  },
  {
   "cell_type": "code",
   "execution_count": null,
   "metadata": {},
   "outputs": [],
   "source": []
  }
 ],
 "metadata": {
  "kernelspec": {
   "display_name": "Python 3",
   "language": "python",
   "name": "python3"
  },
  "language_info": {
   "codemirror_mode": {
    "name": "ipython",
    "version": 3
   },
   "file_extension": ".py",
   "mimetype": "text/x-python",
   "name": "python",
   "nbconvert_exporter": "python",
   "pygments_lexer": "ipython3",
   "version": "3.8.6"
  }
 },
 "nbformat": 4,
 "nbformat_minor": 4
}
