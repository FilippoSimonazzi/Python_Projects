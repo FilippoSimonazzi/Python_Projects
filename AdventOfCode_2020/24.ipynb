{
 "cells": [
  {
   "cell_type": "code",
   "execution_count": 64,
   "metadata": {},
   "outputs": [],
   "source": [
    "def splitDirection(s):\n",
    "    split = []\n",
    "    i = 0\n",
    "    \n",
    "    while i < len(s):\n",
    "        if s[i] == 'n' and s[i+1] == 'e':\n",
    "            split.append('ne')\n",
    "            i += 2\n",
    "        elif s[i] == 's' and s[i+1] == 'e':\n",
    "            split.append('se')\n",
    "            i += 2\n",
    "        elif s[i] == 'n' and s[i+1] == 'w':\n",
    "            split.append('nw')\n",
    "            i += 2\n",
    "        elif s[i] == 's' and s[i+1] == 'w':\n",
    "            split.append('sw')\n",
    "            i += 2\n",
    "        else:\n",
    "            split.append(s[i])\n",
    "            i += 1\n",
    "    return split"
   ]
  },
  {
   "cell_type": "code",
   "execution_count": 65,
   "metadata": {},
   "outputs": [
    {
     "data": {
      "text/plain": [
       "['e', 'se', 'w']"
      ]
     },
     "execution_count": 65,
     "metadata": {},
     "output_type": "execute_result"
    }
   ],
   "source": []
  },
  {
   "cell_type": "code",
   "execution_count": null,
   "metadata": {},
   "outputs": [],
   "source": []
  },
  {
   "cell_type": "code",
   "execution_count": 93,
   "metadata": {},
   "outputs": [],
   "source": [
    "# 0 = White\n",
    "# 1 = Black\n",
    "\n",
    "def move(last_tile, d):\n",
    "    tile_x = last_tile[0]\n",
    "    tile_y = last_tile[1]\n",
    "    \n",
    "    if d == 'e':\n",
    "        tile_x += 1\n",
    "    elif d == 'w':\n",
    "        tile_x -= 1\n",
    "    elif d == 'ne':\n",
    "        tile_x += 0.5\n",
    "        tile_y += 1\n",
    "    elif d == 'nw':\n",
    "        tile_x -= 0.5\n",
    "        tile_y += 1\n",
    "    elif d == 'se':\n",
    "        tile_x += 0.5\n",
    "        tile_y -= 1\n",
    "    elif d == 'sw':\n",
    "        tile_x -= 0.5\n",
    "        tile_y -= 1\n",
    "    \n",
    "    return (tile_x, tile_y)\n",
    "\n",
    "def updateDict(pavement, tile):\n",
    "    if not pavement.keys():\n",
    "        pavement[tile] = 0\n",
    "        return pavement, tile\n",
    "    if tile not in pavement.keys():\n",
    "        pavement[tile] = 0\n",
    "    return pavement, tile\n",
    "\n",
    "def updateColor(pavement, tile):    \n",
    "    if tile in pavement.keys():\n",
    "        if pavement[tile] == 0:\n",
    "            pavement[tile] = 1\n",
    "        else:\n",
    "            pavement[tile] = 0\n",
    "    else:\n",
    "        pavement[tile] = 1\n",
    "    return pavement, tile    "
   ]
  },
  {
   "cell_type": "code",
   "execution_count": 94,
   "metadata": {},
   "outputs": [],
   "source": [
    "def computeRowInstructions(string_dir, pavement, tile):\n",
    "    directions = splitDirection(string_dir)\n",
    "    \n",
    "    for d in directions[:-1]:\n",
    "        tile = move(tile, d)\n",
    "        pavement, tile = updateDict(pavement, tile)\n",
    "    \n",
    "    tile = move(tile, directions[-1])\n",
    "    pavement, tile = updateColor(pavement, tile)\n",
    "    return pavement, tile"
   ]
  },
  {
   "cell_type": "code",
   "execution_count": 95,
   "metadata": {},
   "outputs": [],
   "source": [
    "string_dir = 'sesenwnenenewseeswwswswwnenewsewsw'\n",
    "\n",
    "pavement = {}\n",
    "initial_tile = (0, 0)\n",
    "pavement, tile = updateDict(pavement, initial_tile)\n",
    "\n",
    "pavement, tile = computeRowInstructions(string_dir, pavement, tile)"
   ]
  },
  {
   "cell_type": "code",
   "execution_count": 86,
   "metadata": {},
   "outputs": [],
   "source": [
    "instructions = ['sesenwnenenewseeswwswswwnenewsewsw',\n",
    "                'neeenesenwnwwswnenewnwwsewnenwseswesw', \n",
    "                'seswneswswsenwwnwse',\n",
    "                'nwnwneseeswswnenewneswwnewseswneseene',\n",
    "                'swweswneswnenwsewnwneneseenw',\n",
    "                'eesenwseswswnenwswnwnwsewwnwsene',\n",
    "                'sewnenenenesenwsewnenwwwse',\n",
    "                'wenwwweseeeweswwwnwwe',\n",
    "                'wsweesenenewnwwnwsenewsenwwsesesenwne',\n",
    "                'neeswseenwwswnwswswnw',\n",
    "                'nenwswwsewswnenenewsenwsenwnesesenew', \n",
    "                'enewnwewneswsewnwswenweswnenwsenwsw',\n",
    "                'sweneswneswneneenwnewenewwneswswnese',\n",
    "                'swwesenesewenwneswnwwneseswwne',\n",
    "                'enesenwswwswneneswsenwnewswseenwsese',\n",
    "                'wnwnesenesenenwwnenwsewesewsesesew',\n",
    "                'nenewswnwewswnenesenwnesewesw',\n",
    "                'eneswnwswnwsenenwnwnwwseeswneewsenese',\n",
    "                'neswnwewnwnwseenwseesewsenwsweewe',\n",
    "                'wseweeenwnesenwwwswnew']"
   ]
  },
  {
   "cell_type": "code",
   "execution_count": 100,
   "metadata": {},
   "outputs": [],
   "source": [
    "data = []\n",
    "with open('24.txt') as f:\n",
    "    lines = f.readlines()\n",
    "for line in lines:\n",
    "    data.append(line.strip())"
   ]
  },
  {
   "cell_type": "code",
   "execution_count": 106,
   "metadata": {},
   "outputs": [
    {
     "data": {
      "text/plain": [
       "120"
      ]
     },
     "execution_count": 106,
     "metadata": {},
     "output_type": "execute_result"
    }
   ],
   "source": [
    "pavement = {}\n",
    "initial_tile = (0, 0)\n",
    "pavement, tile = updateDict(pavement, initial_tile)\n",
    "\n",
    "for row in data:\n",
    "    pavement, tile = computeRowInstructions(row, pavement, tile)\n",
    "    \n",
    "len(pavement.keys())"
   ]
  },
  {
   "cell_type": "code",
   "execution_count": 92,
   "metadata": {},
   "outputs": [
    {
     "data": {
      "text/plain": [
       "{(0, 0): 0,\n",
       " (0.5, -1): 0,\n",
       " (1.0, -2): 0,\n",
       " (1.0, 0): 0,\n",
       " (1.5, 1): 0,\n",
       " (2.0, 2): 0,\n",
       " (1.0, 2): 0,\n",
       " (2.5, 1): 0,\n",
       " (2.0, 0): 0,\n",
       " (0.0, -2): 0,\n",
       " (-1.0, -2): 0,\n",
       " (-0.5, -1): 0,\n",
       " (-1.0, 0): 0,\n",
       " (-1.5, -1): 0,\n",
       " (-2.0, -2): 1,\n",
       " (1.5, -1): 0,\n",
       " (0.5, 1): 0,\n",
       " (-0.5, 1): 0,\n",
       " (0.0, 2): 0,\n",
       " (-1.0, 2): 0,\n",
       " (-1.5, 3): 0,\n",
       " (-2.5, 3): 0,\n",
       " (-2.0, 2): 0,\n",
       " (-3.0, 2): 1,\n",
       " (-3.0, 4): 0,\n",
       " (-2.5, 1): 1,\n",
       " (-2.0, 0): 0,\n",
       " (-2.5, -1): 0,\n",
       " (-3.0, -2): 0,\n",
       " (-2.5, -3): 0,\n",
       " (-4.0, -2): 1,\n",
       " (-4.5, -1): 0,\n",
       " (-5.0, 0): 0,\n",
       " (-4.5, 1): 0,\n",
       " (-4.0, 0): 0,\n",
       " (-3.0, 0): 1,\n",
       " (-3.5, -1): 0,\n",
       " (-3.5, 1): 0,\n",
       " (-5.5, 1): 0,\n",
       " (-5.5, -1): 0,\n",
       " (-4.0, 2): 1,\n",
       " (-1.5, 1): 0,\n",
       " (-5.0, 2): 0,\n",
       " (-3.5, 3): 0,\n",
       " (-2.5, 5): 0,\n",
       " (-2.0, 4): 0,\n",
       " (-3.0, 6): 0,\n",
       " (-4.0, 6): 0,\n",
       " (-5.0, 6): 0,\n",
       " (-4.5, 5): 1,\n",
       " (-5.5, 5): 0,\n",
       " (-6.0, 6): 0,\n",
       " (-7.0, 6): 1,\n",
       " (-3.5, 5): 0,\n",
       " (-4.0, 4): 0,\n",
       " (-5.0, 4): 0,\n",
       " (-6.0, 4): 0,\n",
       " (-6.5, 5): 1,\n",
       " (-7.5, 5): 0,\n",
       " (-8.0, 4): 0,\n",
       " (-7.0, 4): 0,\n",
       " (-5.5, 3): 0,\n",
       " (-7.5, 7): 0,\n",
       " (-6.5, 7): 0,\n",
       " (-8.5, 7): 0,\n",
       " (-8.0, 6): 0,\n",
       " (-5.5, 7): 0,\n",
       " (-8.5, 5): 1,\n",
       " (-9.0, 6): 0,\n",
       " (-10.0, 6): 0,\n",
       " (-9.5, 5): 0,\n",
       " (-10.5, 5): 0,\n",
       " (-11.0, 4): 0,\n",
       " (-9.5, 7): 1,\n",
       " (-10.5, 7): 0,\n",
       " (-10.0, 8): 0,\n",
       " (-8.0, 8): 0,\n",
       " (-9.0, 8): 0,\n",
       " (-9.5, 9): 0,\n",
       " (-8.5, 9): 0,\n",
       " (-9.0, 10): 0,\n",
       " (-10.5, 9): 1,\n",
       " (-11.0, 8): 0,\n",
       " (-10.0, 10): 0,\n",
       " (-8.0, 10): 0,\n",
       " (-8.5, 11): 0,\n",
       " (-8.0, 12): 0,\n",
       " (-9.0, 12): 0,\n",
       " (-7.5, 13): 0,\n",
       " (-8.5, 13): 0,\n",
       " (-9.5, 13): 0,\n",
       " (-9.0, 14): 0,\n",
       " (-10.0, 12): 1,\n",
       " (-9.5, 11): 0,\n",
       " (-10.5, 11): 0,\n",
       " (-10.5, 13): 0,\n",
       " (-11.0, 12): 0,\n",
       " (-9.5, 15): 0,\n",
       " (-10.0, 14): 0,\n",
       " (-10.0, 16): 0,\n",
       " (-11.0, 16): 0,\n",
       " (-10.5, 15): 0,\n",
       " (-8.5, 15): 0,\n",
       " (-8.0, 14): 1,\n",
       " (-7.5, 15): 1,\n",
       " (-9.0, 16): 0,\n",
       " (-9.5, 17): 0,\n",
       " (-8.0, 16): 0,\n",
       " (-8.5, 17): 0,\n",
       " (-7.0, 16): 0,\n",
       " (-6.5, 15): 0,\n",
       " (-7.0, 14): 0,\n",
       " (-6.0, 14): 1,\n",
       " (-6.5, 13): 0,\n",
       " (-5.5, 13): 0,\n",
       " (-4.5, 13): 0,\n",
       " (-5.0, 14): 0,\n",
       " (-4.5, 15): 0,\n",
       " (-4.0, 14): 0,\n",
       " (-5.5, 15): 0}"
      ]
     },
     "execution_count": 92,
     "metadata": {},
     "output_type": "execute_result"
    }
   ],
   "source": [
    "pavement"
   ]
  },
  {
   "cell_type": "code",
   "execution_count": null,
   "metadata": {},
   "outputs": [],
   "source": []
  }
 ],
 "metadata": {
  "kernelspec": {
   "display_name": "Python 3",
   "language": "python",
   "name": "python3"
  },
  "language_info": {
   "codemirror_mode": {
    "name": "ipython",
    "version": 3
   },
   "file_extension": ".py",
   "mimetype": "text/x-python",
   "name": "python",
   "nbconvert_exporter": "python",
   "pygments_lexer": "ipython3",
   "version": "3.8.6"
  }
 },
 "nbformat": 4,
 "nbformat_minor": 4
}
