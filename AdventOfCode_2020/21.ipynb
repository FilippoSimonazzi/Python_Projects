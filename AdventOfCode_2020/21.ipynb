{
 "cells": [
  {
   "cell_type": "code",
   "execution_count": 2,
   "metadata": {},
   "outputs": [],
   "source": [
    "with open('21.txt') as f:\n",
    "    lines = f.readlines()\n",
    "\n",
    "data = []\n",
    "for line in lines:\n",
    "    data.append(line.strip())"
   ]
  },
  {
   "cell_type": "code",
   "execution_count": 60,
   "metadata": {},
   "outputs": [
    {
     "name": "stdout",
     "output_type": "stream",
     "text": [
      "sqjhc soy\n",
      "fvjkl soy\n",
      "sbzzf fish\n"
     ]
    }
   ],
   "source": [
    "D_WORDS = {}\n",
    "D_ALL = {}\n",
    "for i in range(len(data)):\n",
    "    line = data[i]\n",
    "    allergenes = line.split(' (')[1].strip(')').split(' ')[1:]\n",
    "    allergenes = [x.strip(',') for x in allergenes]\n",
    "    ingredients = line.split(' (')[0].split()\n",
    "    for ing in ingredients:\n",
    "        if ing not in D_WORDS:\n",
    "            D_WORDS[ing] = [i]\n",
    "        else:\n",
    "            D_WORDS[ing].append(i)\n",
    "            \n",
    "        if ing not in D_ALL:\n",
    "            D_ALL[ing] = allergenes\n",
    "        else:\n",
    "            for allerg in allergenes:\n",
    "                if allerg not in D_ALL[ing]:\n",
    "                    print(ing, allerg)\n",
    "                    D_ALL[ing].append(allerg)\n",
    "\n",
    "        \n",
    "        "
   ]
  },
  {
   "cell_type": "code",
   "execution_count": 59,
   "metadata": {},
   "outputs": [
    {
     "data": {
      "text/plain": [
       "{'mxmxvkd': ['dairy', 'fish', 'soy'],\n",
       " 'kfcds': ['dairy', 'fish', 'soy'],\n",
       " 'sqjhc': ['dairy', 'fish', 'soy'],\n",
       " 'nhms': ['dairy', 'fish', 'soy'],\n",
       " 'trh': ['dairy', 'soy', 'fish'],\n",
       " 'fvjkl': ['dairy', 'soy', 'fish'],\n",
       " 'sbzzf': ['dairy', 'soy', 'fish']}"
      ]
     },
     "execution_count": 59,
     "metadata": {},
     "output_type": "execute_result"
    }
   ],
   "source": [
    "D_ALL"
   ]
  },
  {
   "cell_type": "code",
   "execution_count": 35,
   "metadata": {},
   "outputs": [
    {
     "data": {
      "text/plain": [
       "'mxmxvkd kfcds sqjhc nhms'"
      ]
     },
     "execution_count": 35,
     "metadata": {},
     "output_type": "execute_result"
    }
   ],
   "source": []
  },
  {
   "cell_type": "code",
   "execution_count": null,
   "metadata": {},
   "outputs": [],
   "source": []
  }
 ],
 "metadata": {
  "kernelspec": {
   "display_name": "Python 3",
   "language": "python",
   "name": "python3"
  },
  "language_info": {
   "codemirror_mode": {
    "name": "ipython",
    "version": 3
   },
   "file_extension": ".py",
   "mimetype": "text/x-python",
   "name": "python",
   "nbconvert_exporter": "python",
   "pygments_lexer": "ipython3",
   "version": "3.8.6"
  }
 },
 "nbformat": 4,
 "nbformat_minor": 4
}
