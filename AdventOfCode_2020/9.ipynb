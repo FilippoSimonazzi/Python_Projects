{
 "cells": [
  {
   "cell_type": "code",
   "execution_count": 3,
   "metadata": {},
   "outputs": [],
   "source": [
    "with open('9.txt', 'r') as f:\n",
    "    lines = f.readlines()\n",
    "\n",
    "data = []\n",
    "for line in lines:\n",
    "    data.append(int(line.strip()))"
   ]
  },
  {
   "cell_type": "code",
   "execution_count": 8,
   "metadata": {},
   "outputs": [],
   "source": [
    "def compute_sums(tmp):\n",
    "    # tmp is a list of 25 elements\n",
    "    sums = []\n",
    "    for add1 in tmp:\n",
    "        for add2 in tmp:\n",
    "            if add1 != add2:\n",
    "                sum_tot = add1 + add2\n",
    "                if sum_tot not in sums:\n",
    "                    sums.append(sum_tot)\n",
    "    return sums"
   ]
  },
  {
   "cell_type": "code",
   "execution_count": 31,
   "metadata": {},
   "outputs": [
    {
     "name": "stdout",
     "output_type": "stream",
     "text": [
      "508\n",
      "22406676 is the first result.\n"
     ]
    }
   ],
   "source": [
    "i = 25\n",
    "while i <= len(data):\n",
    "    sums = compute_sums(data[i-25:i])\n",
    "    if data[i] not in sums:\n",
    "        print(i)\n",
    "        print(f'{data[i]} is the first result.')\n",
    "        break\n",
    "    i += 1"
   ]
  },
  {
   "cell_type": "markdown",
   "metadata": {},
   "source": [
    "# Ex2"
   ]
  },
  {
   "cell_type": "code",
   "execution_count": 47,
   "metadata": {},
   "outputs": [
    {
     "name": "stdout",
     "output_type": "stream",
     "text": [
      "[931988, 1334260, 1147386, 1096740, 1207681, 1127754, 1282471, 1186911, 1304589, 1278374, 1334255, 1446638, 1356373, 1360470, 1420423, 2010399, 1579964] sum up to 22406676.\n",
      "The result is 2942387.\n"
     ]
    }
   ],
   "source": [
    "target = 22406676\n",
    "i = 0\n",
    "j = 0\n",
    "while i <= len(data):\n",
    "    tot = 0\n",
    "    list_add = []\n",
    "    while tot < target:\n",
    "        tot += data[j]\n",
    "        list_add.append(data[j])\n",
    "        j += 1\n",
    "\n",
    "    if tot == target:\n",
    "        print(f'{list_add} sum up to {target}.')\n",
    "        print(f'The result is {min(list_add)+max(list_add)}.')\n",
    "        break\n",
    "    \n",
    "    i += 1\n",
    "    j = i"
   ]
  },
  {
   "cell_type": "code",
   "execution_count": null,
   "metadata": {},
   "outputs": [],
   "source": []
  }
 ],
 "metadata": {
  "kernelspec": {
   "display_name": "Python 3",
   "language": "python",
   "name": "python3"
  },
  "language_info": {
   "codemirror_mode": {
    "name": "ipython",
    "version": 3
   },
   "file_extension": ".py",
   "mimetype": "text/x-python",
   "name": "python",
   "nbconvert_exporter": "python",
   "pygments_lexer": "ipython3",
   "version": "3.8.6"
  }
 },
 "nbformat": 4,
 "nbformat_minor": 4
}
