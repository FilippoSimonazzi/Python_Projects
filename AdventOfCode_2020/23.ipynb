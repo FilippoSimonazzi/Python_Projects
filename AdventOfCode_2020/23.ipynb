{
 "cells": [
  {
   "cell_type": "markdown",
   "metadata": {},
   "source": [
    "**Implementing the functions**"
   ]
  },
  {
   "cell_type": "code",
   "execution_count": 59,
   "metadata": {},
   "outputs": [],
   "source": [
    "label = '389125467'"
   ]
  },
  {
   "cell_type": "code",
   "execution_count": 60,
   "metadata": {},
   "outputs": [
    {
     "data": {
      "text/plain": [
       "[3, 8, 9, 1, 2, 5, 4, 6, 7]"
      ]
     },
     "execution_count": 60,
     "metadata": {},
     "output_type": "execute_result"
    }
   ],
   "source": [
    "def getInitialLabels(label):\n",
    "    final_label = []\n",
    "    for el in label:\n",
    "        final_label.append(int(el))\n",
    "    return final_label\n",
    "\n",
    "label = getInitialLabels(label)\n",
    "label"
   ]
  },
  {
   "cell_type": "code",
   "execution_count": 61,
   "metadata": {},
   "outputs": [
    {
     "data": {
      "text/plain": [
       "3"
      ]
     },
     "execution_count": 61,
     "metadata": {},
     "output_type": "execute_result"
    }
   ],
   "source": [
    "def getCurrentLabel(label, pos):\n",
    "    return label[pos]\n",
    "\n",
    "current = getCurrentLabel(label, 0)\n",
    "current"
   ]
  },
  {
   "cell_type": "code",
   "execution_count": 62,
   "metadata": {},
   "outputs": [
    {
     "data": {
      "text/plain": [
       "[8, 9, 1]"
      ]
     },
     "execution_count": 62,
     "metadata": {},
     "output_type": "execute_result"
    }
   ],
   "source": [
    "def operation1(label, pos):\n",
    "    cups = []\n",
    "    for i in range(3):\n",
    "        cups.append(label[pos+i+1])\n",
    "    return cups\n",
    "\n",
    "cups = operation1(label, 0)\n",
    "cups"
   ]
  },
  {
   "cell_type": "code",
   "execution_count": 63,
   "metadata": {},
   "outputs": [
    {
     "data": {
      "text/plain": [
       "2"
      ]
     },
     "execution_count": 63,
     "metadata": {},
     "output_type": "execute_result"
    }
   ],
   "source": [
    "def operation2(label, pos):\n",
    "    current = getCurrentLabel(label, pos)\n",
    "    next_label = current - 1\n",
    "    \n",
    "    cups = operation1(label, pos)\n",
    "    while next_label in cups:\n",
    "        next_label -= 1\n",
    "\n",
    "    if next_label >= min(label):\n",
    "        if next_label in label:\n",
    "            return next_label\n",
    "        else:\n",
    "            return None\n",
    "    else:\n",
    "        temporary_label = label[:].copy()\n",
    "        print(temporary_label)\n",
    "        for el in cups:\n",
    "            temporary_label.remove(el)\n",
    "            print(temporary_label)\n",
    "        next_label = max(temporary_label)\n",
    "    return next_label\n",
    "    \n",
    "operation2(label, 0)"
   ]
  },
  {
   "cell_type": "code",
   "execution_count": 64,
   "metadata": {},
   "outputs": [
    {
     "data": {
      "text/plain": [
       "[3, 2, 8, 9, 1, 5, 4, 6, 7]"
      ]
     },
     "execution_count": 64,
     "metadata": {},
     "output_type": "execute_result"
    }
   ],
   "source": [
    "def operation3(label, pos):\n",
    "    next_label = operation2(label, pos)\n",
    "    insert_index = pos + 1\n",
    "    \n",
    "    new_label = label[:]\n",
    "    new_label.remove(next_label)\n",
    "    new_label[insert_index:insert_index] = [next_label]\n",
    "    return new_label\n",
    "\n",
    "label = operation3(label, 0)\n",
    "label"
   ]
  },
  {
   "cell_type": "code",
   "execution_count": 65,
   "metadata": {},
   "outputs": [
    {
     "name": "stdout",
     "output_type": "stream",
     "text": [
      "[3, 2, 8, 9, 1, 5, 4, 6, 7]\n",
      "[3, 2, 9, 1, 5, 4, 6, 7]\n",
      "[3, 2, 1, 5, 4, 6, 7]\n",
      "[3, 2, 5, 4, 6, 7]\n"
     ]
    },
    {
     "data": {
      "text/plain": [
       "[3, 2, 7, 8, 9, 1, 5, 4, 6]"
      ]
     },
     "execution_count": 65,
     "metadata": {},
     "output_type": "execute_result"
    }
   ],
   "source": [
    "label = operation3(label, 1)\n",
    "label"
   ]
  },
  {
   "cell_type": "code",
   "execution_count": null,
   "metadata": {},
   "outputs": [],
   "source": []
  },
  {
   "cell_type": "markdown",
   "metadata": {},
   "source": [
    "**Try another approach, classes!**"
   ]
  },
  {
   "cell_type": "code",
   "execution_count": 222,
   "metadata": {},
   "outputs": [],
   "source": [
    "class CupsCircle:\n",
    "    def __init__(self, labels, position=0):\n",
    "        self.labels = labels\n",
    "        self.position = position\n",
    "        self.current_label = self.labels[self.position]\n",
    "        self.min_label = min(self.labels)\n",
    "        self.max_label = max(self.labels)\n",
    "        self.len_labels = len(self.labels)\n",
    "        \n",
    "    def printPosition(self):\n",
    "        print(f'Current Position: {self.position}')\n",
    "        print(f'Current Label: {self.current_label}')\n",
    "        \n",
    "    def printLabels(self):\n",
    "        print(f'cups: {self.labels}')\n",
    "        \n",
    "    def printNextCups(self):\n",
    "        try:\n",
    "            print(f'pick up: {self.next_cups}')\n",
    "        except AttributeError as e:\n",
    "            print(e)\n",
    "            \n",
    "    def getNext3Cups(self):\n",
    "        self.next_cups = []\n",
    "        for i in range(3):\n",
    "            self.next_cups.append(self.labels[self.position + 1 + i])\n",
    "        \n",
    "    def getDestinationCup(self):\n",
    "        self.destination_cup = self.current_label - 1\n",
    "        print(f'initial destination: {self.destination_cup}')\n",
    "        while self.destination_cup in self.next_cups:\n",
    "            self.destination_cup -= 1\n",
    "            if self.destination_cup < self.min_label:\n",
    "                self.destination_cup = self.max_label\n",
    "        \n",
    "                \n",
    "    def getNewOrder(self):\n",
    "        for label in self.next_cups:\n",
    "            self.labels.remove(label)\n",
    "        destination_index = self.labels.index(self.destination_cup) + 1\n",
    "        self.labels[destination_index:destination_index] = self.next_cups\n",
    "        \n",
    "        self.position += 1\n",
    "        if self.position > self.len_labels:\n",
    "            self.position = 0\n",
    "        self.current_label = self.labels[self.position]\n"
   ]
  },
  {
   "cell_type": "code",
   "execution_count": 223,
   "metadata": {},
   "outputs": [],
   "source": [
    "def getInitialLabels(label):\n",
    "    final_label = []\n",
    "    for el in label:\n",
    "        final_label.append(int(el))\n",
    "    return final_label\n",
    "\n",
    "label = '389125467'\n",
    "label = getInitialLabels(label)\n",
    "\n",
    "circle = CupsCircle(label)"
   ]
  },
  {
   "cell_type": "code",
   "execution_count": 224,
   "metadata": {},
   "outputs": [
    {
     "name": "stdout",
     "output_type": "stream",
     "text": [
      "-- move 1 --\n",
      "Current cups: [3, 8, 9, 1, 2, 5, 4, 6, 7]\n",
      "initial destination: 2\n",
      "pick up: [8, 9, 1]\n",
      "destination: 2\n",
      "\n",
      "-- move 2 --\n",
      "Current cups: [3, 2, 8, 9, 1, 5, 4, 6, 7]\n",
      "initial destination: 1\n",
      "pick up: [8, 9, 1]\n",
      "destination: 7\n",
      "\n",
      "-- move 3 --\n",
      "Current cups: [3, 2, 5, 4, 6, 7, 8, 9, 1]\n",
      "initial destination: 4\n",
      "pick up: [4, 6, 7]\n",
      "destination: 3\n",
      "\n",
      "-- move 4 --\n",
      "Current cups: [3, 4, 6, 7, 2, 5, 8, 9, 1]\n",
      "initial destination: 6\n",
      "pick up: [2, 5, 8]\n",
      "destination: 6\n",
      "\n"
     ]
    }
   ],
   "source": [
    "num_it = 4\n",
    "\n",
    "for i in range(num_it):\n",
    "    print(f'-- move {circle.position + 1} --')\n",
    "    print(f'Current cups: {circle.labels}')\n",
    "    circle.getNext3Cups()\n",
    "    circle.getDestinationCup()\n",
    "    circle.getNewOrder()\n",
    "    circle.printNextCups()\n",
    "    print(f'destination: {circle.destination_cup}')\n",
    "#    circle.printPosition()\n",
    "    print('')"
   ]
  },
  {
   "cell_type": "code",
   "execution_count": 132,
   "metadata": {},
   "outputs": [
    {
     "name": "stdout",
     "output_type": "stream",
     "text": [
      "Current Position: 2\n",
      "Current Label: 7\n"
     ]
    }
   ],
   "source": [
    "circle.printPosition()"
   ]
  },
  {
   "cell_type": "code",
   "execution_count": 140,
   "metadata": {},
   "outputs": [],
   "source": [
    "circle.getNext3Cups()"
   ]
  },
  {
   "cell_type": "code",
   "execution_count": 141,
   "metadata": {},
   "outputs": [
    {
     "name": "stdout",
     "output_type": "stream",
     "text": [
      "pick up: [6, 7, 8]\n"
     ]
    }
   ],
   "source": [
    "circle.printNextCups()"
   ]
  },
  {
   "cell_type": "code",
   "execution_count": 142,
   "metadata": {},
   "outputs": [],
   "source": [
    "circle.getDestinationCup()"
   ]
  },
  {
   "cell_type": "code",
   "execution_count": 143,
   "metadata": {},
   "outputs": [
    {
     "data": {
      "text/plain": [
       "4"
      ]
     },
     "execution_count": 143,
     "metadata": {},
     "output_type": "execute_result"
    }
   ],
   "source": [
    "circle.destination_cup"
   ]
  },
  {
   "cell_type": "code",
   "execution_count": 144,
   "metadata": {},
   "outputs": [],
   "source": [
    "circle.getNewOrder()"
   ]
  },
  {
   "cell_type": "code",
   "execution_count": 145,
   "metadata": {},
   "outputs": [
    {
     "name": "stdout",
     "output_type": "stream",
     "text": [
      "Current Position: 4\n",
      "Current Label: 4\n"
     ]
    }
   ],
   "source": [
    "circle.printPosition()"
   ]
  },
  {
   "cell_type": "code",
   "execution_count": 146,
   "metadata": {},
   "outputs": [
    {
     "name": "stdout",
     "output_type": "stream",
     "text": [
      "cups: [3, 2, 5, 4, 6, 7, 8, 9, 1]\n"
     ]
    }
   ],
   "source": [
    "circle.printLabels()"
   ]
  },
  {
   "cell_type": "code",
   "execution_count": null,
   "metadata": {},
   "outputs": [],
   "source": []
  },
  {
   "cell_type": "code",
   "execution_count": 86,
   "metadata": {},
   "outputs": [],
   "source": [
    "temp[temp.index(7)+1:temp.index(7)+1] = cups"
   ]
  },
  {
   "cell_type": "code",
   "execution_count": 87,
   "metadata": {},
   "outputs": [
    {
     "data": {
      "text/plain": [
       "[3, 2, 5, 4, 6, 7, 8, 9, 1]"
      ]
     },
     "execution_count": 87,
     "metadata": {},
     "output_type": "execute_result"
    }
   ],
   "source": [
    "temp"
   ]
  },
  {
   "cell_type": "code",
   "execution_count": 68,
   "metadata": {},
   "outputs": [
    {
     "data": {
      "text/plain": [
       "[3, 8, 9, 1, 2, 5, 4, 6, 7]"
      ]
     },
     "execution_count": 68,
     "metadata": {},
     "output_type": "execute_result"
    }
   ],
   "source": [
    "temp"
   ]
  },
  {
   "cell_type": "code",
   "execution_count": null,
   "metadata": {},
   "outputs": [],
   "source": []
  }
 ],
 "metadata": {
  "kernelspec": {
   "display_name": "Python 3",
   "language": "python",
   "name": "python3"
  },
  "language_info": {
   "codemirror_mode": {
    "name": "ipython",
    "version": 3
   },
   "file_extension": ".py",
   "mimetype": "text/x-python",
   "name": "python",
   "nbconvert_exporter": "python",
   "pygments_lexer": "ipython3",
   "version": "3.8.6"
  }
 },
 "nbformat": 4,
 "nbformat_minor": 4
}
