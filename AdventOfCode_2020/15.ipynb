{
 "cells": [
  {
   "cell_type": "code",
   "execution_count": 136,
   "metadata": {},
   "outputs": [
    {
     "name": "stdout",
     "output_type": "stream",
     "text": [
      "The number after 30000000 rounds is: 48568\n"
     ]
    }
   ],
   "source": [
    "import numpy as np\n",
    "\n",
    "starting_points = [20,9,11,0,1,2]\n",
    "turn = len(starting_points)\n",
    "D = {}\n",
    "i = 0\n",
    "for el in starting_points:\n",
    "    D[el] = [len(np.where(np.array(starting_points) == el)) + i]\n",
    "    i += 1\n",
    "    \n",
    "if 0 not in D:\n",
    "    D[0] = []\n",
    "\n",
    "prev_num = starting_points[-1]\n",
    "\n",
    "stop = 30000000\n",
    "while turn < stop:\n",
    "    if len(D[prev_num]) == 1:\n",
    "        D[0].append(turn + 1)\n",
    "        if len(D[0]) > 2:\n",
    "            D[0].pop(0)\n",
    "        prev_num = 0\n",
    "    else:\n",
    "        num = D[prev_num][1] - D[prev_num][0]\n",
    "        if num not in D:\n",
    "            D[num] = [turn + 1]\n",
    "        else:\n",
    "            D[num].append(turn + 1)\n",
    "        if len(D[num]) > 2:\n",
    "            D[num].pop(0)\n",
    "        prev_num = num\n",
    "    turn += 1\n",
    "    \n",
    "\n",
    "for num in D.keys():\n",
    "    if stop in D[num]:\n",
    "        print(f'The number after {stop} rounds is: {num}')\n",
    "    \n",
    "    \n",
    "    \n"
   ]
  }
 ],
 "metadata": {
  "kernelspec": {
   "display_name": "Python 3",
   "language": "python",
   "name": "python3"
  },
  "language_info": {
   "codemirror_mode": {
    "name": "ipython",
    "version": 3
   },
   "file_extension": ".py",
   "mimetype": "text/x-python",
   "name": "python",
   "nbconvert_exporter": "python",
   "pygments_lexer": "ipython3",
   "version": "3.8.6"
  }
 },
 "nbformat": 4,
 "nbformat_minor": 4
}
