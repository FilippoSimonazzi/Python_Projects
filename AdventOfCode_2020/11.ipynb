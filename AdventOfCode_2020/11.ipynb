{
 "cells": [
  {
   "cell_type": "code",
   "execution_count": 165,
   "metadata": {},
   "outputs": [],
   "source": [
    "data = []\n",
    "with open('11.txt') as f:\n",
    "    lines = f.readlines()\n",
    "for line in lines:\n",
    "    data.append(line.strip())\n",
    "N = len(data)\n",
    "M = len(data[0])\n",
    "new_data = ['.' * M] * N"
   ]
  },
  {
   "cell_type": "code",
   "execution_count": 160,
   "metadata": {},
   "outputs": [],
   "source": [
    "def seat(i, j, data, new_data):\n",
    "    if data[i][j] == '.':\n",
    "        return new_data\n",
    "    \n",
    "    if data[i][j] == 'L':\n",
    "        change = True\n",
    "        for row in [-1, 0, 1]:\n",
    "            for col in [-1, 0, 1]:\n",
    "                if (row, col) != (0, 0):\n",
    "                    if (i + row) < N and (i + row) >= 0:\n",
    "                        if (j + col) < M and (j + col) >= 0:\n",
    "                            if data[i+row][j+col] == '#':\n",
    "                                change = False\n",
    "        if change:\n",
    "            tmp = list(new_data[i])\n",
    "            tmp[j] = '#'\n",
    "            new_data[i] = \"\".join(tmp)\n",
    "    \n",
    "    if data[i][j] == '#':\n",
    "        count = 0\n",
    "        for row in [-1, 0, 1]:\n",
    "            for col in [-1, 0, 1]:\n",
    "                if (row, col) != (0, 0):\n",
    "                    if (i + row) < N and (i + row) >= 0:\n",
    "                        if (j + col) < M and (j + col) >= 0:\n",
    "                            if data[i+row][j+col] == '#':\n",
    "                                count += 1\n",
    "        if count >= 4:\n",
    "            tmp = list(new_data[i])\n",
    "            tmp[j] = 'L'\n",
    "            new_data[i] = \"\".join(tmp)\n",
    "        \n",
    "    return new_data"
   ]
  },
  {
   "cell_type": "code",
   "execution_count": 161,
   "metadata": {},
   "outputs": [],
   "source": [
    "check = False\n",
    "while check == False:\n",
    "    for i in range(N):\n",
    "        for j in range(M):\n",
    "            new_data = seat(i, j, data=data, new_data=new_data)\n",
    "    check = (new_data == data)\n",
    "    data = new_data.copy()"
   ]
  },
  {
   "cell_type": "code",
   "execution_count": 163,
   "metadata": {},
   "outputs": [],
   "source": [
    "def count(data):\n",
    "    count = 0\n",
    "    for i in range(N):\n",
    "        for j in range(M):\n",
    "            if data[i][j] == '#':\n",
    "                count += 1\n",
    "    return count"
   ]
  },
  {
   "cell_type": "code",
   "execution_count": 164,
   "metadata": {},
   "outputs": [
    {
     "data": {
      "text/plain": [
       "2427"
      ]
     },
     "execution_count": 164,
     "metadata": {},
     "output_type": "execute_result"
    }
   ],
   "source": [
    "count(data)"
   ]
  },
  {
   "cell_type": "markdown",
   "metadata": {},
   "source": [
    "# Ex2"
   ]
  },
  {
   "cell_type": "code",
   "execution_count": 166,
   "metadata": {},
   "outputs": [
    {
     "data": {
      "text/plain": [
       "['L.LL.LL.LL',\n",
       " 'LLLLLLL.LL',\n",
       " 'L.L.L..L..',\n",
       " 'LLLL.LL.LL',\n",
       " 'L.LL.LL.LL',\n",
       " 'L.LLLLL.LL',\n",
       " '..L.L.....',\n",
       " 'LLLLLLLLLL',\n",
       " 'L.LLLLLL.L',\n",
       " 'L.LLLLL.LL']"
      ]
     },
     "execution_count": 166,
     "metadata": {},
     "output_type": "execute_result"
    }
   ],
   "source": [
    "data"
   ]
  },
  {
   "cell_type": "code",
   "execution_count": null,
   "metadata": {},
   "outputs": [],
   "source": [
    "def new_seat(i, j, data, new_data):\n",
    "    if data[i][j] == '.':\n",
    "        return new_data\n",
    "    \n",
    "    if data[i][j] == 'L':\n",
    "        change = True\n",
    "        for row in [-1, 0, 1]:\n",
    "            for col in [-1, 0, 1]:\n",
    "                if (row, col) != (0, 0):\n",
    "                    if (i + row) < N and (i + row) >= 0:\n",
    "                        if (j + col) < M and (j + col) >= 0:\n",
    "                            \n",
    "                            while data[i+row][j+col] not in ('L', '#') and (i+row) < N or (j+col) < M:\n",
    "                                row += 1\n",
    "                                col += 1\n",
    "                                change = False\n",
    "        if change:\n",
    "            tmp = list(new_data[i])\n",
    "            tmp[j] = '#'\n",
    "            new_data[i] = \"\".join(tmp)\n",
    "    \n",
    "    if data[i][j] == '#':\n",
    "        count = 0\n",
    "        for row in [-1, 0, 1]:\n",
    "            for col in [-1, 0, 1]:\n",
    "                if (row, col) != (0, 0):\n",
    "                    if (i + row) < N and (i + row) >= 0:\n",
    "                        if (j + col) < M and (j + col) >= 0:\n",
    "                            if data[i+row][j+col] == '#':\n",
    "                                count += 1\n",
    "        if count >= 4:\n",
    "            tmp = list(new_data[i])\n",
    "            tmp[j] = 'L'\n",
    "            new_data[i] = \"\".join(tmp)\n",
    "        \n",
    "    return new_data"
   ]
  },
  {
   "cell_type": "code",
   "execution_count": 194,
   "metadata": {},
   "outputs": [],
   "source": [
    "i=0\n",
    "j=0\n",
    "close = []\n",
    "for row in [-1, 0, 1]:\n",
    "    for col in [-1, 0, 1]:\n",
    "            if (row, col) != (0, 0):\n",
    "                 if (i + row) < N and (i + row) >= 0:\n",
    "                        if (j + col) < M and (j + col) >= 0:\n",
    "                            close.append([i+row, j+col, data[i+row][j+col]])"
   ]
  },
  {
   "cell_type": "code",
   "execution_count": 195,
   "metadata": {},
   "outputs": [
    {
     "data": {
      "text/plain": [
       "[[0, 1, '.'], [1, 0, 'L'], [1, 1, 'L']]"
      ]
     },
     "execution_count": 195,
     "metadata": {},
     "output_type": "execute_result"
    }
   ],
   "source": [
    "close"
   ]
  },
  {
   "cell_type": "code",
   "execution_count": 199,
   "metadata": {},
   "outputs": [
    {
     "ename": "KeyboardInterrupt",
     "evalue": "",
     "output_type": "error",
     "traceback": [
      "\u001b[0;31m---------------------------------------------------------------------------\u001b[0m",
      "\u001b[0;31mKeyboardInterrupt\u001b[0m                         Traceback (most recent call last)",
      "\u001b[0;32m<ipython-input-199-90c8462ea5be>\u001b[0m in \u001b[0;36m<module>\u001b[0;34m\u001b[0m\n\u001b[1;32m      2\u001b[0m \u001b[0;32mfor\u001b[0m \u001b[0mi\u001b[0m \u001b[0;32min\u001b[0m \u001b[0mrange\u001b[0m\u001b[0;34m(\u001b[0m\u001b[0mlen\u001b[0m\u001b[0;34m(\u001b[0m\u001b[0mclose\u001b[0m\u001b[0;34m)\u001b[0m\u001b[0;34m)\u001b[0m\u001b[0;34m:\u001b[0m\u001b[0;34m\u001b[0m\u001b[0;34m\u001b[0m\u001b[0m\n\u001b[1;32m      3\u001b[0m     \u001b[0msymbols\u001b[0m\u001b[0;34m.\u001b[0m\u001b[0mappend\u001b[0m\u001b[0;34m(\u001b[0m\u001b[0mclose\u001b[0m\u001b[0;34m[\u001b[0m\u001b[0mi\u001b[0m\u001b[0;34m]\u001b[0m\u001b[0;34m[\u001b[0m\u001b[0;36m2\u001b[0m\u001b[0;34m]\u001b[0m\u001b[0;34m)\u001b[0m\u001b[0;34m\u001b[0m\u001b[0;34m\u001b[0m\u001b[0m\n\u001b[0;32m----> 4\u001b[0;31m \u001b[0;32mwhile\u001b[0m \u001b[0mset\u001b[0m\u001b[0;34m(\u001b[0m\u001b[0msymbols\u001b[0m\u001b[0;34m)\u001b[0m \u001b[0;32mnot\u001b[0m \u001b[0;32min\u001b[0m \u001b[0;34m(\u001b[0m\u001b[0;34m'#'\u001b[0m\u001b[0;34m,\u001b[0m \u001b[0;34m'L'\u001b[0m\u001b[0;34m)\u001b[0m \u001b[0;32mand\u001b[0m \u001b[0mrow\u001b[0m \u001b[0;34m<=\u001b[0m \u001b[0;34m(\u001b[0m\u001b[0mN\u001b[0m\u001b[0;34m-\u001b[0m\u001b[0mi\u001b[0m\u001b[0;34m)\u001b[0m \u001b[0;32mand\u001b[0m \u001b[0mcol\u001b[0m \u001b[0;34m<=\u001b[0m \u001b[0;34m(\u001b[0m\u001b[0mM\u001b[0m\u001b[0;34m-\u001b[0m\u001b[0mj\u001b[0m\u001b[0;34m)\u001b[0m\u001b[0;34m:\u001b[0m\u001b[0;34m\u001b[0m\u001b[0;34m\u001b[0m\u001b[0m\n\u001b[0m\u001b[1;32m      5\u001b[0m     \u001b[0;32mfor\u001b[0m \u001b[0mi\u001b[0m \u001b[0;32min\u001b[0m \u001b[0mrange\u001b[0m\u001b[0;34m(\u001b[0m\u001b[0mlen\u001b[0m\u001b[0;34m(\u001b[0m\u001b[0mclose\u001b[0m\u001b[0;34m)\u001b[0m\u001b[0;34m)\u001b[0m\u001b[0;34m:\u001b[0m\u001b[0;34m\u001b[0m\u001b[0;34m\u001b[0m\u001b[0m\n\u001b[1;32m      6\u001b[0m         \u001b[0;32mif\u001b[0m \u001b[0mclose\u001b[0m\u001b[0;34m[\u001b[0m\u001b[0mi\u001b[0m\u001b[0;34m]\u001b[0m\u001b[0;34m[\u001b[0m\u001b[0;36m2\u001b[0m\u001b[0;34m]\u001b[0m \u001b[0;32mnot\u001b[0m \u001b[0;32min\u001b[0m \u001b[0;34m(\u001b[0m\u001b[0;34m'#'\u001b[0m\u001b[0;34m,\u001b[0m \u001b[0;34m'L'\u001b[0m\u001b[0;34m)\u001b[0m\u001b[0;34m:\u001b[0m\u001b[0;34m\u001b[0m\u001b[0;34m\u001b[0m\u001b[0m\n",
      "\u001b[0;31mKeyboardInterrupt\u001b[0m: "
     ]
    }
   ],
   "source": [
    "symbols = []\n",
    "for i in range(len(close)):\n",
    "    symbols.append(close[i][2])\n",
    "while set(symbols) not in ('#', 'L') and row <= (N-i) and col <= (M-j):\n",
    "    for i in range(len(close)):\n",
    "        if close[i][2] not in ('#', 'L'):\n",
    "            row = close[i][0]\n",
    "            col = close[i][1]\n",
    "            if row != i:\n",
    "                row += 1\n",
    "                close[i] = [i+row, j, data[i+row][j]]\n",
    "            else:\n",
    "                col += 1\n",
    "                close[i] = [i, j+col, data[i][j+col]]\n",
    "    symbols = []\n",
    "    for i in range(len(close)):\n",
    "        symbols.append(close[i][2])"
   ]
  },
  {
   "cell_type": "code",
   "execution_count": 188,
   "metadata": {},
   "outputs": [
    {
     "data": {
      "text/plain": [
       "[[0, 2, 'L'], [1, 0, 'L'], [1, 1, 'L']]"
      ]
     },
     "execution_count": 188,
     "metadata": {},
     "output_type": "execute_result"
    }
   ],
   "source": [
    "close"
   ]
  },
  {
   "cell_type": "code",
   "execution_count": 204,
   "metadata": {},
   "outputs": [
    {
     "name": "stdout",
     "output_type": "stream",
     "text": [
      "Result = 2427\n",
      "Result2 = 2199\n"
     ]
    }
   ],
   "source": [
    "import logging\n",
    "from typing import List\n",
    "from collections import Counter\n",
    "import copy\n",
    " \n",
    "logging.basicConfig(level=logging.INFO)\n",
    " \n",
    " \n",
    "def read_input(filename: str):\n",
    "    seats: List(str) = []\n",
    "    with open(filename, 'r') as f:\n",
    "        for line in f:\n",
    "            line = line.rstrip()\n",
    "            seats.append(list(line))\n",
    "    return seats\n",
    " \n",
    " \n",
    "def neighbors(row, col, seats):\n",
    "    max_col = len(seats[0])\n",
    "    max_row = len(seats)\n",
    "    neighbors = [(row - 1, col - 1), (row - 1, col), (row - 1, col + 1),\n",
    "                (row, col - 1),                      (row, col + 1),\n",
    "                (row + 1, col - 1),  (row + 1, col), (row + 1, col + 1)]\n",
    "    return list(filter(lambda p: p[0] >= 0 and p[0] < max_row and p[1] >= 0 and p[1] < max_col, neighbors))\n",
    " \n",
    "def occupy(row, col, seats):\n",
    "    seats[row][col] = '#'\n",
    " \n",
    "def unoccupy(row, col, seats):\n",
    "    seats[row][col] = 'L'\n",
    " \n",
    "def occupied_neighbors(row, col, seats):\n",
    "    n = neighbors(row, col, seats)\n",
    "    return list(filter(lambda x: seats[x[0]][x[1]] == '#', n))\n",
    " \n",
    " \n",
    "def solution_1(seats):\n",
    "    loop = 0\n",
    "    seatcopy = copy.deepcopy(seats)\n",
    "    while True:\n",
    "        loop += 1\n",
    "        changed = False\n",
    "        for rownum, row in enumerate(seats):\n",
    "            for col, status in enumerate(row):\n",
    "                num_occupied_neighbors = len(occupied_neighbors(rownum, col, seats))\n",
    "                if status == 'L' and num_occupied_neighbors == 0:\n",
    "                    occupy(rownum, col, seatcopy)\n",
    "                    changed = True\n",
    "                elif status == '#' and num_occupied_neighbors >= 4:\n",
    "                    unoccupy(rownum, col, seatcopy)\n",
    "                    changed = True\n",
    "        logging.debug(f'{seatcopy}')\n",
    "        seats = copy.deepcopy(seatcopy)\n",
    "        if not changed:\n",
    "            break\n",
    "    logging.debug(f'Broke the loop at {loop}')\n",
    "    count = 0\n",
    "    for row in seats:\n",
    "        count += Counter(row)['#']\n",
    "    return count\n",
    " \n",
    "####### Part 2 ########\n",
    "def visible_seats(row, col, seats):\n",
    "    logging.debug(f'processing {row, col}')\n",
    "    directions = {\n",
    "        'NW': lambda row, col, delta: (row - delta, col - delta),\n",
    "        'N': lambda row, col, delta: (row - delta, col),\n",
    "        'NE': lambda row, col, delta: (row - delta, col + delta),\n",
    "        'W': lambda row, col, delta: (row, col - delta),\n",
    "        'E': lambda row, col, delta: (row, col + delta),\n",
    "        'SW': lambda row, col, delta: (row + delta, col - delta),\n",
    "        'S': lambda row, col, delta: (row + delta, col),\n",
    "        'SE': lambda row, col, delta: (row + delta, col + delta),\n",
    "    }\n",
    " \n",
    "    def is_valid(row, col):\n",
    "        max_col = len(seats[0])\n",
    "        max_row = len(seats)\n",
    "        return row in range(0, max_row) and col in range(0, max_col)\n",
    " \n",
    "    visible = []\n",
    "    delta = 1\n",
    "    while dirs := list(directions):\n",
    "        logging.debug(f'processing {delta} delta')\n",
    "        for d in dirs:\n",
    "            nr, nc = directions[d](row, col, delta)\n",
    "            if not is_valid(nr, nc):\n",
    "                del directions[d] # Hit the row or column boundary\n",
    "            elif seats[nr][nc] == 'L':\n",
    "                del directions[d] # Our view in this direction is an empty seat\n",
    "            elif seats[nr][nc] == '#':\n",
    "                visible.append((nr, nc))\n",
    "                del directions[d] # Our view in this direction is an occupied seat\n",
    "        delta += 1\n",
    "    return visible\n",
    " \n",
    " \n",
    "def solution_2(seats):\n",
    "    loop = 0\n",
    "    seatcopy = copy.deepcopy(seats)\n",
    "    while True:\n",
    "        loop += 1\n",
    "        changed = False\n",
    "        for rownum, row in enumerate(seats):\n",
    "            for col, status in enumerate(row):\n",
    "                viscount = len(visible_seats(rownum, col, seats))\n",
    "                logging.debug(f'Viscount={viscount} for {rownum, col}')\n",
    "                if status == 'L' and viscount == 0:\n",
    "                    occupy(rownum, col, seatcopy)\n",
    "                    changed = True\n",
    "                elif status == '#' and viscount >= 5:\n",
    "                    unoccupy(rownum, col, seatcopy)\n",
    "                    changed = True\n",
    "        logging.debug(f'{seatcopy}')\n",
    "        seats = copy.deepcopy(seatcopy)\n",
    "        if not changed:\n",
    "            break\n",
    "    logging.debug(f'Broke the loop at {loop}')\n",
    "    count = 0\n",
    "    for row in seats:\n",
    "        count += Counter(row)['#']\n",
    "    return count\n",
    "    \n",
    " \n",
    "# main\n",
    "if __name__ == '__main__':\n",
    "    seats = read_input('11.txt')\n",
    "    result_1 = solution_1(seats)\n",
    "    result_2 = solution_2(seats)\n",
    "    print(f'Result = {result_1}') # 2470\n",
    "    print(f'Result2 = {result_2}')\n"
   ]
  },
  {
   "cell_type": "code",
   "execution_count": null,
   "metadata": {},
   "outputs": [],
   "source": []
  }
 ],
 "metadata": {
  "kernelspec": {
   "display_name": "Python 3",
   "language": "python",
   "name": "python3"
  },
  "language_info": {
   "codemirror_mode": {
    "name": "ipython",
    "version": 3
   },
   "file_extension": ".py",
   "mimetype": "text/x-python",
   "name": "python",
   "nbconvert_exporter": "python",
   "pygments_lexer": "ipython3",
   "version": "3.8.6"
  }
 },
 "nbformat": 4,
 "nbformat_minor": 4
}
