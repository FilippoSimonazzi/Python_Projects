{
 "cells": [
  {
   "cell_type": "code",
   "execution_count": 1,
   "metadata": {},
   "outputs": [],
   "source": [
    "import statistics"
   ]
  },
  {
   "cell_type": "code",
   "execution_count": 80,
   "metadata": {},
   "outputs": [],
   "source": [
    "def compute_seat_id(b_pass):\n",
    "\n",
    "    # compute row\n",
    "    i = 0\n",
    "    row = [x for x in range(128)]\n",
    "    while i < 7:\n",
    "        if len(row) > 2:\n",
    "            median = round(statistics.median(row))\n",
    "            if b_pass[i] == 'B':\n",
    "                row = [x for x in row if x >= median]\n",
    "            elif b_pass[i] == 'F':\n",
    "                row = [x for x in row if x < median]\n",
    "        elif len(row) <= 2:\n",
    "            if b_pass[i] == 'B':\n",
    "                row = row[1]\n",
    "            elif b_pass[i] == 'F':\n",
    "                row = row[0]\n",
    "        i += 1\n",
    "    \n",
    "    # compute column\n",
    "    column = [x for x in range(8)]\n",
    "    while i < 10:\n",
    "        if len(column) > 2:\n",
    "            median = round(statistics.median(column))\n",
    "            if b_pass[i] == 'R':\n",
    "                column = [x for x in column if x >= median]\n",
    "            elif b_pass[i] == 'L':\n",
    "                column = [x for x in column if x < median]\n",
    "        elif len(column) <= 2:\n",
    "            if b_pass[i] == 'R':\n",
    "                column = column[1]\n",
    "            elif b_pass[i] == 'L':\n",
    "                column = column[0]\n",
    "        i += 1    \n",
    "    \n",
    "    # compute seat_id\n",
    "    seat_id=(row * 8 + column)\n",
    "    \n",
    "    return row, column, seat_id"
   ]
  },
  {
   "cell_type": "code",
   "execution_count": 96,
   "metadata": {},
   "outputs": [],
   "source": [
    "with open('5.txt', 'r') as f:\n",
    "    lines = f.readlines()\n",
    "    \n",
    "data = []\n",
    "for line in lines:\n",
    "    line = line.strip()\n",
    "    if len(line) == 10:\n",
    "        data.append(line)\n",
    "\n",
    "    "
   ]
  },
  {
   "cell_type": "code",
   "execution_count": 97,
   "metadata": {},
   "outputs": [
    {
     "data": {
      "text/plain": [
       "944"
      ]
     },
     "execution_count": 97,
     "metadata": {},
     "output_type": "execute_result"
    }
   ],
   "source": [
    "best_seat_id = 0\n",
    "for b_pass in data:\n",
    "    _, _, seat_id = compute_seat_id(b_pass)\n",
    "    if seat_id > best_seat_id:\n",
    "        best_seat_id = seat_id\n",
    "        \n",
    "best_seat_id"
   ]
  },
  {
   "cell_type": "markdown",
   "metadata": {},
   "source": [
    "# Ex2"
   ]
  },
  {
   "cell_type": "code",
   "execution_count": 111,
   "metadata": {},
   "outputs": [
    {
     "data": {
      "text/plain": [
       "[2]"
      ]
     },
     "execution_count": 111,
     "metadata": {},
     "output_type": "execute_result"
    }
   ],
   "source": [
    "d = {}\n",
    "\n",
    "for b_pass in data:\n",
    "    row, column, _ = compute_seat_id(b_pass)\n",
    "    if row not in d.keys():\n",
    "        d[row] = [column]\n",
    "    else:\n",
    "        d[row].append(column)\n",
    "\n",
    "possible = {}\n",
    "for row in d.keys():\n",
    "    if len(d[row]) != 8:\n",
    "        possible[row] = d[row]\n",
    "        \n",
    "check = {}\n",
    "for row in possible.keys():\n",
    "    check[row] = False\n",
    "    if row-1 in d.keys() and row+1 in d.keys():\n",
    "        check[row] = True\n",
    "        \n",
    "missing_value = [x for x in range(8)]\n",
    "for column in d[69]:\n",
    "    missing_value.remove(column)\n",
    "    \n",
    "missing_value"
   ]
  },
  {
   "cell_type": "code",
   "execution_count": 112,
   "metadata": {},
   "outputs": [
    {
     "data": {
      "text/plain": [
       "554"
      ]
     },
     "execution_count": 112,
     "metadata": {},
     "output_type": "execute_result"
    }
   ],
   "source": [
    "69 * 8 + 2"
   ]
  },
  {
   "cell_type": "code",
   "execution_count": null,
   "metadata": {},
   "outputs": [],
   "source": []
  }
 ],
 "metadata": {
  "kernelspec": {
   "display_name": "Python 3",
   "language": "python",
   "name": "python3"
  },
  "language_info": {
   "codemirror_mode": {
    "name": "ipython",
    "version": 3
   },
   "file_extension": ".py",
   "mimetype": "text/x-python",
   "name": "python",
   "nbconvert_exporter": "python",
   "pygments_lexer": "ipython3",
   "version": "3.8.6"
  }
 },
 "nbformat": 4,
 "nbformat_minor": 4
}
