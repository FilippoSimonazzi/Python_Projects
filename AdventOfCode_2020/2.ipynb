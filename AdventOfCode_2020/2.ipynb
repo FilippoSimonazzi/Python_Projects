{
 "cells": [
  {
   "cell_type": "code",
   "execution_count": 12,
   "metadata": {},
   "outputs": [],
   "source": [
    "import csv\n",
    "\n",
    "with open('2.txt', 'r') as f:\n",
    "    lines = f.readlines()\n",
    "    \n",
    "data = []\n",
    "for line in lines:\n",
    "     data.append(line.strip())"
   ]
  },
  {
   "cell_type": "code",
   "execution_count": 35,
   "metadata": {},
   "outputs": [
    {
     "data": {
      "text/plain": [
       "410"
      ]
     },
     "execution_count": 35,
     "metadata": {},
     "output_type": "execute_result"
    }
   ],
   "source": [
    "count = 0\n",
    "for item in data:\n",
    "    item = item.split()\n",
    "    num_min = int(item[0].split('-')[0])\n",
    "    num_max = int(item[0].split('-')[1])\n",
    "    letter = item[1].strip(':')\n",
    "    psw = item[2]\n",
    "    num_letter = psw.count(letter)\n",
    "    if num_letter >= num_min and num_letter <= num_max:\n",
    "        count += 1\n",
    "        \n",
    "count"
   ]
  },
  {
   "cell_type": "code",
   "execution_count": 42,
   "metadata": {},
   "outputs": [
    {
     "data": {
      "text/plain": [
       "694"
      ]
     },
     "execution_count": 42,
     "metadata": {},
     "output_type": "execute_result"
    }
   ],
   "source": [
    "count = 0\n",
    "for item in data:\n",
    "    item = item.split()\n",
    "    num_min = int(item[0].split('-')[0])\n",
    "    num_max = int(item[0].split('-')[1])\n",
    "    letter = item[1].strip(':')\n",
    "    psw = item[2]\n",
    "    num_letter = psw.count(letter)\n",
    "    if psw[num_min - 1] == letter:\n",
    "        if psw[num_max - 1] != letter:\n",
    "            count += 1\n",
    "    elif psw[num_max - 1] == letter:\n",
    "        if psw[num_min - 1] != letter:\n",
    "            count += 1\n",
    "\n",
    "count"
   ]
  }
 ],
 "metadata": {
  "kernelspec": {
   "display_name": "Python 3",
   "language": "python",
   "name": "python3"
  },
  "language_info": {
   "codemirror_mode": {
    "name": "ipython",
    "version": 3
   },
   "file_extension": ".py",
   "mimetype": "text/x-python",
   "name": "python",
   "nbconvert_exporter": "python",
   "pygments_lexer": "ipython3",
   "version": "3.8.6"
  }
 },
 "nbformat": 4,
 "nbformat_minor": 4
}
