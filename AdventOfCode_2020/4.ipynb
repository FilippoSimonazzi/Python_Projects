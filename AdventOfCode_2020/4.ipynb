{
 "cells": [
  {
   "cell_type": "markdown",
   "metadata": {},
   "source": [
    "# Ex1"
   ]
  },
  {
   "cell_type": "code",
   "execution_count": 11,
   "metadata": {},
   "outputs": [],
   "source": [
    "with open('4.txt', 'r') as f:\n",
    "    lines = f.readlines()"
   ]
  },
  {
   "cell_type": "code",
   "execution_count": 20,
   "metadata": {},
   "outputs": [],
   "source": [
    "passports = {}\n",
    "i = 0\n",
    "passports[0] = {}\n",
    "for line in lines:\n",
    "    \n",
    "    # change identity\n",
    "    if line == '\\n':\n",
    "        i += 1\n",
    "        passports[i] = {}\n",
    "    \n",
    "    if line != '\\n':\n",
    "        # Lines with only one key\n",
    "        if not ' ' in line:\n",
    "            line = line.strip()\n",
    "            key, value = line.split(':')\n",
    "            passports[i][key] = value\n",
    "            \n",
    "        else:\n",
    "            for item in line.split():\n",
    "                key, value = item.split(':')\n",
    "                passports[i][key] = value\n",
    "\n",
    "# delete empty passports                \n",
    "list_cancel = []\n",
    "for i in passports.keys():\n",
    "    if passports[i] == {}:\n",
    "        list_cancel.append(i)\n",
    "\n",
    "for i in list_cancel:\n",
    "    passports.pop(i)"
   ]
  },
  {
   "cell_type": "code",
   "execution_count": 43,
   "metadata": {},
   "outputs": [],
   "source": [
    "list_must_be = ['byr', 'iyr', 'eyr', 'hgt', 'hcl', 'ecl', 'pid']\n",
    "\n",
    "count_valid = 0\n",
    "for id in passports.keys():\n",
    "    keys = list(passports[id].keys())\n",
    "    if set(list_must_be).issubset(keys):\n",
    "        count_valid += 1"
   ]
  },
  {
   "cell_type": "code",
   "execution_count": 44,
   "metadata": {},
   "outputs": [
    {
     "data": {
      "text/plain": [
       "235"
      ]
     },
     "execution_count": 44,
     "metadata": {},
     "output_type": "execute_result"
    }
   ],
   "source": [
    "count_valid"
   ]
  },
  {
   "cell_type": "markdown",
   "metadata": {},
   "source": [
    "# Ex2"
   ]
  },
  {
   "cell_type": "code",
   "execution_count": 112,
   "metadata": {},
   "outputs": [],
   "source": [
    "def split_hgt(text):\n",
    "    letters = ''\n",
    "    num = ''\n",
    "    for i in text:\n",
    "        if i.isdigit():\n",
    "            num += i\n",
    "        else:\n",
    "            letters += i\n",
    "    return int(num), letters\n",
    "\n",
    "def split_hcl(text):\n",
    "    check = ''\n",
    "    color = ''\n",
    "    for i in text:\n",
    "        if i.isdigit() or i.isalpha():\n",
    "            color += i\n",
    "        else:\n",
    "            check += i\n",
    " \n",
    "    return color, check\n"
   ]
  },
  {
   "cell_type": "code",
   "execution_count": 121,
   "metadata": {},
   "outputs": [],
   "source": [
    "count_valid = 0\n",
    "set_hcl = set(['0', '1', '2', '3', '4', '5', '6', '7', '8', '9', 'a', 'b', 'c', 'd', 'e', 'f'])\n",
    "list_ecl = ['amb', 'blu', 'brn', 'gry', 'grn', 'hzl', 'oth']\n",
    "\n",
    "\n",
    "for id in passports.keys():\n",
    "    keys = list(passports[id].keys())\n",
    "    check_validity = [False] * 7\n",
    "    if set(list_must_be).issubset(keys):\n",
    "        if len(passports[id]['byr']) == 4 and int(passports[id]['byr']) >= 1029 and int(passports[id]['byr']) <= 2002:\n",
    "            check_validity[0] = True\n",
    "        \n",
    "        if len(passports[id]['iyr']) == 4 and int(passports[id]['iyr']) >= 2010 and int(passports[id]['iyr']) <= 2020:\n",
    "            check_validity[1] = True\n",
    "            \n",
    "        if len(passports[id]['eyr']) == 4 and int(passports[id]['eyr']) >= 2020 and int(passports[id]['eyr']) <= 2030:\n",
    "            check_validity[2] = True\n",
    "            \n",
    "        height, measure = split_hgt(passports[id]['hgt'])\n",
    "        if measure == 'cm':\n",
    "            if height >= 150 and height <= 193:\n",
    "                check_validity[3] = True\n",
    "        elif measure == 'in':\n",
    "            if height >= 59 and height <= 76:\n",
    "                check_validity[3] = True\n",
    "                \n",
    "        color, check = split_hcl(passports[id]['hcl'])\n",
    "        if check == '#':\n",
    "            if set(color).issubset(set_hcl):\n",
    "                check_validity[4] = True\n",
    "        \n",
    "        if passports[id]['ecl'] in list_ecl:\n",
    "            check_validity[5] = True\n",
    "            \n",
    "        if len(passports[id]['pid']) == 9 and passports[id]['pid'].isdigit():\n",
    "            check_validity[6] = True\n",
    "        \n",
    "        if all(check_validity):\n",
    "            count_valid += 1"
   ]
  },
  {
   "cell_type": "code",
   "execution_count": 122,
   "metadata": {},
   "outputs": [
    {
     "data": {
      "text/plain": [
       "194"
      ]
     },
     "execution_count": 122,
     "metadata": {},
     "output_type": "execute_result"
    }
   ],
   "source": [
    "count_valid"
   ]
  },
  {
   "cell_type": "code",
   "execution_count": null,
   "metadata": {},
   "outputs": [],
   "source": []
  }
 ],
 "metadata": {
  "kernelspec": {
   "display_name": "Python 3",
   "language": "python",
   "name": "python3"
  },
  "language_info": {
   "codemirror_mode": {
    "name": "ipython",
    "version": 3
   },
   "file_extension": ".py",
   "mimetype": "text/x-python",
   "name": "python",
   "nbconvert_exporter": "python",
   "pygments_lexer": "ipython3",
   "version": "3.8.6"
  }
 },
 "nbformat": 4,
 "nbformat_minor": 4
}
