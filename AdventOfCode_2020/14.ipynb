{
 "cells": [
  {
   "cell_type": "code",
   "execution_count": 135,
   "metadata": {},
   "outputs": [],
   "source": [
    "import itertools\n",
    "\n",
    "def value_to_list(value):\n",
    "    return [x for x in value]\n",
    "\n",
    "def list_to_str(value_list):\n",
    "    return \"\".join(value_list)\n",
    "\n",
    "def apply_mask(value_list, mask):\n",
    "    mask = value_to_list(mask)\n",
    "    for i in range(len(mask)):\n",
    "        if mask[i] == 'X':\n",
    "            mask[i] = value_list[i]\n",
    "    return list_to_str(mask)\n",
    "\n",
    "def binary(value):\n",
    "    return int(value, 2)\n",
    "\n",
    "def execute(mask, number):\n",
    "    value = f'{number:036b}'\n",
    "    value_list = value_to_list(value)\n",
    "    masked_list = apply_mask(value_list, mask)\n",
    "    return binary(masked_list)"
   ]
  },
  {
   "cell_type": "code",
   "execution_count": 136,
   "metadata": {},
   "outputs": [],
   "source": [
    "data = []\n",
    "memory = {}\n",
    "with open('14.txt') as f:\n",
    "    lines = f.readlines()\n",
    "for line in lines:\n",
    "    data.append(line.strip())"
   ]
  },
  {
   "cell_type": "code",
   "execution_count": 137,
   "metadata": {},
   "outputs": [
    {
     "name": "stdout",
     "output_type": "stream",
     "text": [
      "Result of part 1 is: 9628746976360\n"
     ]
    }
   ],
   "source": [
    "mask = []\n",
    "for line in data:\n",
    "    if line.split(' = ')[0] == 'mask':\n",
    "        mask = line.split(' = ')[1]\n",
    "    else:\n",
    "        location = int(line.split(' = ')[0].strip('mem[').strip(']'))\n",
    "        number = int(line.split(' = ')[1])\n",
    "        memory[location] = execute(mask, number)\n",
    "print(f'Result of part 1 is: {sum(memory.values())}')"
   ]
  },
  {
   "cell_type": "markdown",
   "metadata": {},
   "source": [
    "# Part 2"
   ]
  },
  {
   "cell_type": "code",
   "execution_count": 190,
   "metadata": {},
   "outputs": [],
   "source": [
    "def apply_mask2(value_list, mask):\n",
    "    mask = value_to_list(mask)\n",
    "    for i in range(len(mask)):\n",
    "        if mask[i] == '1':\n",
    "            value_list[i] = '1'\n",
    "        elif mask[i] == 'X':\n",
    "            value_list[i] = 'X'\n",
    "    return list_to_str(value_list)\n",
    "    "
   ]
  },
  {
   "cell_type": "code",
   "execution_count": 178,
   "metadata": {},
   "outputs": [],
   "source": [
    "def find_memory_positions(mask, initial_position):\n",
    "    value = f'{initial_position:036b}'\n",
    "    value_list = value_to_list(value)\n",
    "    masked_list = value_to_list(apply_mask2(value_list, mask))\n",
    "    all_values = []\n",
    "    n = masked_list.count('X')\n",
    "    possible_values = list(itertools.product(['0', '1'], repeat=n))\n",
    "    for value in possible_values:\n",
    "        tmp = masked_list.copy()\n",
    "        j = 0\n",
    "        for i in range(len(tmp)):\n",
    "            if tmp[i] == 'X':\n",
    "                tmp[i] = value[j]\n",
    "                j += 1\n",
    "        all_values.append(binary(list_to_str(tmp)))\n",
    "    return all_values\n",
    "    \n",
    "def allocate(memory_positions, number):\n",
    "    for i in memory_positions:\n",
    "        memory[i] = number\n",
    "    return memory\n",
    "\n",
    "def execute2(mask, initial_position, number):\n",
    "    positions = find_memory_positions(mask, initial_position)\n",
    "    memory = allocate(positions, number)\n",
    "    "
   ]
  },
  {
   "cell_type": "code",
   "execution_count": 191,
   "metadata": {},
   "outputs": [
    {
     "name": "stdout",
     "output_type": "stream",
     "text": [
      "Result of part 2 is: 4574598714592\n"
     ]
    }
   ],
   "source": [
    "memory = {}\n",
    "for line in data:\n",
    "    if line.split(' = ')[0] == 'mask':\n",
    "        mask = line.split(' = ')[1]\n",
    "    else:\n",
    "        location = int(line.split(' = ')[0].strip('mem[').strip(']'))\n",
    "        number = int(line.split(' = ')[1])\n",
    "        execute2(mask, location, number)\n",
    "print(f'Result of part 2 is: {sum(memory.values())}')"
   ]
  }
 ],
 "metadata": {
  "kernelspec": {
   "display_name": "Python 3",
   "language": "python",
   "name": "python3"
  },
  "language_info": {
   "codemirror_mode": {
    "name": "ipython",
    "version": 3
   },
   "file_extension": ".py",
   "mimetype": "text/x-python",
   "name": "python",
   "nbconvert_exporter": "python",
   "pygments_lexer": "ipython3",
   "version": "3.8.6"
  }
 },
 "nbformat": 4,
 "nbformat_minor": 4
}
