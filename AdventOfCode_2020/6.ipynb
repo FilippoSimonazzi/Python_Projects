{
 "cells": [
  {
   "cell_type": "markdown",
   "metadata": {},
   "source": [
    "# Ex1"
   ]
  },
  {
   "cell_type": "code",
   "execution_count": 15,
   "metadata": {},
   "outputs": [
    {
     "data": {
      "text/plain": [
       "6911"
      ]
     },
     "execution_count": 15,
     "metadata": {},
     "output_type": "execute_result"
    }
   ],
   "source": [
    "with open('6.txt', 'r') as f:\n",
    "    lines = f.readlines()\n",
    "\n",
    "groups = {}\n",
    "groups[0] = []\n",
    "i = 0\n",
    "\n",
    "for line in lines:\n",
    "    if line == '\\n':\n",
    "        i += 1\n",
    "        groups[i] = []\n",
    "        \n",
    "    if line != '\\n':\n",
    "        line = line.strip()\n",
    "        for letter in line:\n",
    "            if letter not in groups[i]:\n",
    "                groups[i].append(letter)\n",
    "\n",
    "count = 0\n",
    "for i in groups.keys():\n",
    "    count += len(groups[i])\n",
    "\n",
    "    \n",
    "count"
   ]
  },
  {
   "cell_type": "markdown",
   "metadata": {},
   "source": [
    "# Ex2"
   ]
  },
  {
   "cell_type": "code",
   "execution_count": 65,
   "metadata": {},
   "outputs": [
    {
     "data": {
      "text/plain": [
       "3473"
      ]
     },
     "execution_count": 65,
     "metadata": {},
     "output_type": "execute_result"
    }
   ],
   "source": [
    "with open('6.txt', 'r') as f:\n",
    "    lines = f.readlines()\n",
    "\n",
    "groups = {}\n",
    "groups[0] = {}\n",
    "groups[0]['num_people'] = 0\n",
    "i = 0\n",
    "\n",
    "for line in lines:\n",
    "    if line == '\\n':\n",
    "        i += 1\n",
    "        groups[i] = {}\n",
    "        groups[i]['num_people'] = 0\n",
    "    \n",
    "    if line != '\\n':\n",
    "        groups[i]['num_people'] += 1\n",
    "        line = line.strip()\n",
    "        for letter in line:\n",
    "            if letter in groups[i].keys():\n",
    "                groups[i][letter] += 1\n",
    "            else:\n",
    "                groups[i][letter] = 1\n",
    "                \n",
    "count = 0\n",
    "for item in groups.keys():\n",
    "    for letter in groups[item].keys():\n",
    "        tot = groups[item]['num_people']\n",
    "        if letter != 'num_people':\n",
    "            if groups[item][letter] == tot:\n",
    "                count += 1\n",
    "                \n",
    "count"
   ]
  },
  {
   "cell_type": "code",
   "execution_count": null,
   "metadata": {},
   "outputs": [],
   "source": []
  }
 ],
 "metadata": {
  "kernelspec": {
   "display_name": "Python 3",
   "language": "python",
   "name": "python3"
  },
  "language_info": {
   "codemirror_mode": {
    "name": "ipython",
    "version": 3
   },
   "file_extension": ".py",
   "mimetype": "text/x-python",
   "name": "python",
   "nbconvert_exporter": "python",
   "pygments_lexer": "ipython3",
   "version": "3.8.6"
  }
 },
 "nbformat": 4,
 "nbformat_minor": 4
}
