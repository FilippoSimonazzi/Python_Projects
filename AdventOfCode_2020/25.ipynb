{
 "cells": [
  {
   "cell_type": "code",
   "execution_count": null,
   "metadata": {},
   "outputs": [],
   "source": [
    "# start 1\n",
    "\n",
    "# loop size --> secret\n",
    "\n",
    "# subject number  ---> 7\n",
    "\n",
    "# remainder dividing by 20201227\n",
    "\n",
    "\n",
    "## Example\n",
    "\n",
    "door_pub = 17807724"
   ]
  },
  {
   "cell_type": "code",
   "execution_count": 3,
   "metadata": {},
   "outputs": [],
   "source": [
    "def encrypt(init_value, subject_number):\n",
    "    init_value *= subject_number\n",
    "    exit_value = init_value % 20201227\n",
    "    return exit_value"
   ]
  },
  {
   "cell_type": "code",
   "execution_count": 7,
   "metadata": {},
   "outputs": [
    {
     "name": "stdout",
     "output_type": "stream",
     "text": [
      "Final value: 17807724\n"
     ]
    }
   ],
   "source": [
    "init_value = 1\n",
    "loop_size = 11\n",
    "\n",
    "for i in range(loop_size):\n",
    "    init_value = encrypt(init_value, subject_number=7)\n",
    "    \n",
    "print(f'Final value: {init_value}')"
   ]
  },
  {
   "cell_type": "code",
   "execution_count": 9,
   "metadata": {},
   "outputs": [
    {
     "name": "stdout",
     "output_type": "stream",
     "text": [
      "Final value: 14897079\n"
     ]
    }
   ],
   "source": [
    "init_value = 1\n",
    "loop_size = 8\n",
    "subject_number = 17807724\n",
    "\n",
    "for i in range(loop_size):\n",
    "    init_value = encrypt(init_value, subject_number)\n",
    "    \n",
    "print(f'Final value: {init_value}')"
   ]
  },
  {
   "cell_type": "code",
   "execution_count": null,
   "metadata": {},
   "outputs": [],
   "source": []
  },
  {
   "cell_type": "markdown",
   "metadata": {},
   "source": [
    "## Actual Part 1"
   ]
  },
  {
   "cell_type": "markdown",
   "metadata": {},
   "source": [
    "**Trial**"
   ]
  },
  {
   "cell_type": "code",
   "execution_count": 11,
   "metadata": {},
   "outputs": [
    {
     "name": "stdout",
     "output_type": "stream",
     "text": [
      "Secret door key: 11\n"
     ]
    }
   ],
   "source": [
    "def findSecretKey(door_pub_key, door_sub_num, init_value=1):\n",
    "    loop_size = 1\n",
    "    while True:\n",
    "        init_value = encrypt(init_value, door_sub_num)\n",
    "        if init_value == door_pub_key:\n",
    "            print(f'Secret door key: {loop_size}')\n",
    "            return loop_size\n",
    "            break\n",
    "        else:\n",
    "            loop_size += 1\n",
    "            \n",
    "door_pub_key = 17807724\n",
    "door_sub_num = 7\n",
    "\n",
    "loop_size = findSecretKey(door_pub_key, door_sub_num)"
   ]
  },
  {
   "cell_type": "code",
   "execution_count": 20,
   "metadata": {},
   "outputs": [
    {
     "name": "stdout",
     "output_type": "stream",
     "text": [
      "Encryption key: 14897079\n"
     ]
    }
   ],
   "source": [
    "init_value = 1\n",
    "\n",
    "for i in range(11):\n",
    "    init_value = encrypt(init_value, subject_number=5764801)\n",
    "\n",
    "print(f'Encryption key: {init_value}')"
   ]
  },
  {
   "cell_type": "code",
   "execution_count": 23,
   "metadata": {},
   "outputs": [],
   "source": [
    "def part1(door_pub_key, card_pub_key, init_value=1):\n",
    "    door_secret_key = findSecretKey(door_pub_key, door_sub_num=7)\n",
    "    \n",
    "    for i in range(door_secret_key):\n",
    "        init_value = encrypt(init_value, card_pub_key)\n",
    "    print(f'Encryption key: {init_value}')"
   ]
  },
  {
   "cell_type": "code",
   "execution_count": 24,
   "metadata": {},
   "outputs": [
    {
     "name": "stdout",
     "output_type": "stream",
     "text": [
      "Secret door key: 11\n",
      "Encryption key: 14897079\n"
     ]
    }
   ],
   "source": [
    "door_pub_key = 17807724\n",
    "card_pub_key = 5764801\n",
    "\n",
    "part1(door_pub_key, card_pub_key)"
   ]
  },
  {
   "cell_type": "markdown",
   "metadata": {},
   "source": [
    "**Puzzle**"
   ]
  },
  {
   "cell_type": "code",
   "execution_count": 25,
   "metadata": {},
   "outputs": [
    {
     "name": "stdout",
     "output_type": "stream",
     "text": [
      "Secret door key: 538014\n",
      "Encryption key: 296776\n"
     ]
    }
   ],
   "source": [
    "door_pub_key = 12578151\n",
    "card_pub_key = 5051300\n",
    "\n",
    "part1(door_pub_key, card_pub_key)"
   ]
  },
  {
   "cell_type": "code",
   "execution_count": null,
   "metadata": {},
   "outputs": [],
   "source": []
  },
  {
   "cell_type": "code",
   "execution_count": null,
   "metadata": {},
   "outputs": [],
   "source": []
  },
  {
   "cell_type": "markdown",
   "metadata": {},
   "source": [
    "# Part 2"
   ]
  },
  {
   "cell_type": "code",
   "execution_count": null,
   "metadata": {},
   "outputs": [],
   "source": [
    "class RecGame():\n",
    "    def __init__:\n",
    "        "
   ]
  }
 ],
 "metadata": {
  "kernelspec": {
   "display_name": "Python 3",
   "language": "python",
   "name": "python3"
  },
  "language_info": {
   "codemirror_mode": {
    "name": "ipython",
    "version": 3
   },
   "file_extension": ".py",
   "mimetype": "text/x-python",
   "name": "python",
   "nbconvert_exporter": "python",
   "pygments_lexer": "ipython3",
   "version": "3.8.6"
  }
 },
 "nbformat": 4,
 "nbformat_minor": 4
}
