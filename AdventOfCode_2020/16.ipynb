{
 "cells": [
  {
   "cell_type": "code",
   "execution_count": 22,
   "metadata": {},
   "outputs": [],
   "source": [
    "with open('16.txt') as f:\n",
    "    lines = f.readlines()\n",
    "    \n",
    "data = []\n",
    "for line in lines:\n",
    "    data.append(line.strip())"
   ]
  },
  {
   "cell_type": "code",
   "execution_count": 23,
   "metadata": {},
   "outputs": [],
   "source": [
    "valid_class = [x for x in range(1, 4)] + [x for x in range(5, 8)]\n",
    "valid_row = [x for x in range(6, 12)] + [x for x in range(33, 45)]\n",
    "valid_seat = [x for x in range(13, 41)] + [x for x in range(45, 51)]\n",
    "\n",
    "valid = valid_class + valid_row + valid_seat"
   ]
  },
  {
   "cell_type": "code",
   "execution_count": 71,
   "metadata": {},
   "outputs": [],
   "source": [
    "CHECK = {}\n",
    "MY_TICKET = {}\n",
    "TICKETS = {}\n",
    "\n",
    "i = 0\n",
    "j = 0\n",
    "for line in data:\n",
    "    if line == '':\n",
    "        i += 1\n",
    "    if i == 0:\n",
    "        values = (line.split(': ')[1]).split(' or ')\n",
    "        range1 = [int(x) for x in values[0].split('-')]\n",
    "        range2 = [int(x) for x in values[1].split('-')]\n",
    "        range_fin = [x for x in range(range1[0], range1[1]+1)] + [x for x in range(range2[0], range2[1]+1)]\n",
    "        CHECK[line.split(':')[0]] = range_fin\n",
    "    elif i == 1:\n",
    "        if line != 'your ticket:' and line != '':\n",
    "            MY_TICKET[0] = [int(x) for x in line.split(',')]\n",
    "    elif i == 2:\n",
    "        if line != 'nearby tickets:' and line != '':\n",
    "            TICKETS[j] = [int(x) for x in line.split(',')]\n",
    "            j += 1\n",
    "    "
   ]
  },
  {
   "cell_type": "code",
   "execution_count": 93,
   "metadata": {},
   "outputs": [],
   "source": [
    "valid_values = CHECK['departure location']\n",
    "for cat, values in CHECK.items():\n",
    "    valid_values += [el for el in values if el not in valid_values]\n"
   ]
  },
  {
   "cell_type": "code",
   "execution_count": 96,
   "metadata": {},
   "outputs": [],
   "source": [
    "def ex1(tickets):\n",
    "    count = 0\n",
    "    for idx, list_values in tickets.items():\n",
    "        for value in list_values:\n",
    "            if value not in valid_values:\n",
    "                count += value\n",
    "                \n",
    "    return count"
   ]
  },
  {
   "cell_type": "code",
   "execution_count": 97,
   "metadata": {},
   "outputs": [
    {
     "data": {
      "text/plain": [
       "28884"
      ]
     },
     "execution_count": 97,
     "metadata": {},
     "output_type": "execute_result"
    }
   ],
   "source": [
    "ex1(TICKETS)"
   ]
  },
  {
   "cell_type": "code",
   "execution_count": 100,
   "metadata": {},
   "outputs": [],
   "source": [
    "# discard invalid tickets\n",
    "list_invalid = []\n",
    "for idx, list_values in TICKETS.items():\n",
    "        for value in list_values:\n",
    "            if value not in valid_values:\n",
    "                list_invalid.append(idx)"
   ]
  },
  {
   "cell_type": "code",
   "execution_count": 116,
   "metadata": {},
   "outputs": [],
   "source": [
    "for el in list_invalid:\n",
    "    TICKETS.pop(el)"
   ]
  },
  {
   "cell_type": "code",
   "execution_count": 121,
   "metadata": {},
   "outputs": [],
   "source": [
    "list_positions = list(CHECK.keys())"
   ]
  },
  {
   "cell_type": "code",
   "execution_count": 122,
   "metadata": {},
   "outputs": [],
   "source": [
    "POSITIONS = {}\n",
    "for i in range(len(list_positions)):\n",
    "    POSITIONS[i] = list_positions"
   ]
  },
  {
   "cell_type": "code",
   "execution_count": 141,
   "metadata": {},
   "outputs": [
    {
     "name": "stdout",
     "output_type": "stream",
     "text": [
      "15 172 seat\n"
     ]
    }
   ],
   "source": [
    "j = 0\n",
    "for i in range(len(list_positions)):\n",
    "    if j in TICKETS:\n",
    "        for value in TICKETS[j]:\n",
    "            if value not in CHECK[list_positions[i]]:\n",
    "                print(j, value, list_positions[i])\n",
    "    j += 1"
   ]
  },
  {
   "cell_type": "markdown",
   "metadata": {},
   "source": [
    "**Example**"
   ]
  },
  {
   "cell_type": "code",
   "execution_count": 217,
   "metadata": {},
   "outputs": [],
   "source": [
    "\n",
    "list_positions = ['class', 'row', 'seat']\n",
    "POSITIONS = {}\n",
    "for i in range(len(list_positions)):\n",
    "    POSITIONS[i] = list_positions\n",
    "\n",
    "CHECK = {}\n",
    "CHECK['class'] = [x for x in range(0,2)] + [x for x in range(4, 20)] \n",
    "CHECK['row'] = [x for x in range(0,6)] + [x for x in range(8, 20)] \n",
    "CHECK['seat'] = [x for x in range(0,13)] + [x for x in range(16, 20)] "
   ]
  },
  {
   "cell_type": "code",
   "execution_count": 218,
   "metadata": {},
   "outputs": [],
   "source": [
    "MY_TICKET[0] = [11, 12, 13]\n",
    "\n",
    "TICKETS = {}\n",
    "TICKETS[0] = [3, 9, 18]\n",
    "TICKETS[1] = [15, 1, 5]\n",
    "TICKETS[2] = [5, 14, 9]"
   ]
  },
  {
   "cell_type": "code",
   "execution_count": 219,
   "metadata": {},
   "outputs": [
    {
     "name": "stdout",
     "output_type": "stream",
     "text": [
      "ticket 0, value 3, field class\n",
      "ticket 2, value 14, field seat\n"
     ]
    }
   ],
   "source": [
    "j = 0\n",
    "remove = []\n",
    "for i in range(len(list_positions)):\n",
    "    if j in TICKETS:\n",
    "        for value in TICKETS[j]:\n",
    "            if value not in CHECK[list_positions[i]]:\n",
    "                print(f'ticket {j}, value {value}, field {list_positions[i]}')\n",
    "                remove.append((j, list_positions[i]))\n",
    "    j += 1"
   ]
  },
  {
   "cell_type": "code",
   "execution_count": 220,
   "metadata": {},
   "outputs": [
    {
     "data": {
      "text/plain": [
       "[(0, 'class'), (2, 'seat')]"
      ]
     },
     "execution_count": 220,
     "metadata": {},
     "output_type": "execute_result"
    }
   ],
   "source": [
    "remove"
   ]
  },
  {
   "cell_type": "code",
   "execution_count": 222,
   "metadata": {},
   "outputs": [],
   "source": [
    "POSITIONS[0] = [el for el in list_positions if el != 'seat']"
   ]
  },
  {
   "cell_type": "code",
   "execution_count": 223,
   "metadata": {},
   "outputs": [
    {
     "data": {
      "text/plain": [
       "{0: ['class', 'row'], 1: ['class', 'row', 'seat'], 2: ['class', 'row', 'seat']}"
      ]
     },
     "execution_count": 223,
     "metadata": {},
     "output_type": "execute_result"
    }
   ],
   "source": [
    "POSITIONS"
   ]
  },
  {
   "cell_type": "code",
   "execution_count": 207,
   "metadata": {},
   "outputs": [
    {
     "data": {
      "text/plain": [
       "{0: None, 1: ['class', 'row'], 2: ['class', 'row']}"
      ]
     },
     "execution_count": 207,
     "metadata": {},
     "output_type": "execute_result"
    }
   ],
   "source": [
    "POSITIONS"
   ]
  },
  {
   "cell_type": "code",
   "execution_count": 224,
   "metadata": {},
   "outputs": [],
   "source": [
    "for item in remove:\n",
    "    POSITIONS[item[0]] = [el for el in list_positions if el != item[1]]"
   ]
  },
  {
   "cell_type": "code",
   "execution_count": 228,
   "metadata": {},
   "outputs": [],
   "source": [
    "for pos in list_positions:\n",
    "    in_all = True\n",
    "    for key in POSITIONS:\n",
    "        if pos not in POSITIONS[key]:\n",
    "            in_all = False\n",
    "    if in_all:\n",
    "        for key in POSITIONS:\n",
    "            POSITIONS[key] = [el for el in POSITIONS[key] if el != pos]"
   ]
  },
  {
   "cell_type": "code",
   "execution_count": 229,
   "metadata": {},
   "outputs": [
    {
     "data": {
      "text/plain": [
       "{0: ['seat'], 1: ['class', 'seat'], 2: ['class']}"
      ]
     },
     "execution_count": 229,
     "metadata": {},
     "output_type": "execute_result"
    }
   ],
   "source": []
  },
  {
   "cell_type": "markdown",
   "metadata": {},
   "source": [
    "**Now try again with part2**"
   ]
  },
  {
   "cell_type": "code",
   "execution_count": 424,
   "metadata": {},
   "outputs": [],
   "source": [
    "CHECK = {}\n",
    "MY_TICKET = {}\n",
    "TICKETS = {}\n",
    "\n",
    "i = 0\n",
    "j = 0\n",
    "for line in data:\n",
    "    if line == '':\n",
    "        i += 1\n",
    "    if i == 0:\n",
    "        values = (line.split(': ')[1]).split(' or ')\n",
    "        range1 = [int(x) for x in values[0].split('-')]\n",
    "        range2 = [int(x) for x in values[1].split('-')]\n",
    "        range_fin = [x for x in range(range1[0], range1[1]+1)] + [x for x in range(range2[0], range2[1]+1)]\n",
    "        CHECK[line.split(':')[0]] = range_fin\n",
    "    elif i == 1:\n",
    "        if line != 'your ticket:' and line != '':\n",
    "            MY_TICKET[0] = [int(x) for x in line.split(',')]\n",
    "    elif i == 2:\n",
    "        if line != 'nearby tickets:' and line != '':\n",
    "            TICKETS[j] = [int(x) for x in line.split(',')]\n",
    "            j += 1\n",
    "\n",
    "list_positions = list(CHECK.keys())\n",
    "POSITIONS = {}\n",
    "for i in range(len(list_positions)):\n",
    "    POSITIONS[i] = list_positions"
   ]
  },
  {
   "cell_type": "code",
   "execution_count": 425,
   "metadata": {},
   "outputs": [],
   "source": [
    "# discard invalid tickets\n",
    "list_invalid = []\n",
    "for idx, list_values in TICKETS.items():\n",
    "        for value in list_values:\n",
    "            if value not in valid_values:\n",
    "                list_invalid.append(idx)\n",
    "                \n",
    "for el in list_invalid:\n",
    "    TICKETS.pop(el)"
   ]
  },
  {
   "cell_type": "code",
   "execution_count": 426,
   "metadata": {},
   "outputs": [],
   "source": [
    "remove = []\n",
    "for j in TICKETS:\n",
    "    for i in range(len(list_positions)):\n",
    "        for value in TICKETS[j]:\n",
    "            if value not in CHECK[list_positions[i]]:\n",
    "                #print(f'ticket {j}, value {value}, field {list_positions[i]}')\n",
    "                #print(f'where is value in ticket? {TICKETS[j].index(value)}')\n",
    "                remove.append((TICKETS[j].index(value), list_positions[i]))"
   ]
  },
  {
   "cell_type": "code",
   "execution_count": 427,
   "metadata": {},
   "outputs": [],
   "source": [
    "CONFIG = {}\n",
    "for i in range(len(list_positions)):\n",
    "    CONFIG[i] = []\n",
    "    \n",
    "for item in remove:\n",
    "        if item[1] not in CONFIG[item[0]]:\n",
    "            CONFIG[item[0]].append(item[1])"
   ]
  },
  {
   "cell_type": "code",
   "execution_count": 428,
   "metadata": {},
   "outputs": [],
   "source": [
    "for i in range(len(list_positions)):\n",
    "    POSITIONS[i] = [el for el in POSITIONS[i] if el not in CONFIG[i]]\n"
   ]
  },
  {
   "cell_type": "code",
   "execution_count": 429,
   "metadata": {},
   "outputs": [],
   "source": [
    "# Function that does this for all of them\n",
    "FINAL_CONFIG = {}\n",
    "def ex2():\n",
    "    list_index = POSITIONS.keys()\n",
    "    NEW_POSITIONS = POSITIONS.copy()\n",
    "    for i in list_index:\n",
    "        if len(POSITIONS[i]) == 1:\n",
    "            word = POSITIONS[i][0]\n",
    "            FINAL_CONFIG[i] = word\n",
    "    for i in list_index:\n",
    "            POSITIONS[i].remove(word)\n",
    "            if len(POSITIONS[i]) == 0:\n",
    "                NEW_POSITIONS.pop(i)\n",
    "    return FINAL_CONFIG, NEW_POSITIONS"
   ]
  },
  {
   "cell_type": "code",
   "execution_count": 430,
   "metadata": {},
   "outputs": [],
   "source": [
    "while len(FINAL_CONFIG.keys()) < 20:\n",
    "    FINAL_CONFIG, POSITIONS = ex2()"
   ]
  },
  {
   "cell_type": "code",
   "execution_count": 434,
   "metadata": {},
   "outputs": [],
   "source": [
    "ex2 = []\n",
    "for key, value in FINAL_CONFIG.items():\n",
    "    if 'departure' in value:\n",
    "        ex2.append(key)"
   ]
  },
  {
   "cell_type": "code",
   "execution_count": 441,
   "metadata": {},
   "outputs": [],
   "source": [
    "final_prod = 1\n",
    "for i in ex2:\n",
    "    final_prod *= MY_TICKET[i]"
   ]
  },
  {
   "cell_type": "code",
   "execution_count": 442,
   "metadata": {},
   "outputs": [
    {
     "data": {
      "text/plain": [
       "1001849322119"
      ]
     },
     "execution_count": 442,
     "metadata": {},
     "output_type": "execute_result"
    }
   ],
   "source": [
    "final_prod"
   ]
  },
  {
   "cell_type": "code",
   "execution_count": null,
   "metadata": {},
   "outputs": [],
   "source": []
  }
 ],
 "metadata": {
  "kernelspec": {
   "display_name": "Python 3",
   "language": "python",
   "name": "python3"
  },
  "language_info": {
   "codemirror_mode": {
    "name": "ipython",
    "version": 3
   },
   "file_extension": ".py",
   "mimetype": "text/x-python",
   "name": "python",
   "nbconvert_exporter": "python",
   "pygments_lexer": "ipython3",
   "version": "3.8.6"
  }
 },
 "nbformat": 4,
 "nbformat_minor": 4
}
