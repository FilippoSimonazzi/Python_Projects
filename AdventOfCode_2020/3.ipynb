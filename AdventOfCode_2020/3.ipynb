{
 "cells": [
  {
   "cell_type": "markdown",
   "metadata": {},
   "source": [
    "# Ex1"
   ]
  },
  {
   "cell_type": "code",
   "execution_count": 64,
   "metadata": {},
   "outputs": [],
   "source": [
    "import csv\n",
    "import numpy as np\n",
    "\n",
    "# Import data and expand it to the right\n",
    "\n",
    "with open('3.txt', 'r') as f:\n",
    "    lines = f.readlines()\n",
    "\n",
    "tmp = []\n",
    "for line in lines:\n",
    "     tmp.append(line.strip('\\n'))\n",
    "\n",
    "data = []\n",
    "N = 100\n",
    "for row in tmp:\n",
    "    data.append(row * N)"
   ]
  },
  {
   "cell_type": "code",
   "execution_count": 65,
   "metadata": {},
   "outputs": [],
   "source": [
    "# Create the empty matrix"
   ]
  },
  {
   "cell_type": "code",
   "execution_count": 66,
   "metadata": {},
   "outputs": [],
   "source": [
    "n = len(data)\n",
    "m = len(data[0])\n",
    "\n",
    "M = np.zeros([n, m])"
   ]
  },
  {
   "cell_type": "code",
   "execution_count": 67,
   "metadata": {},
   "outputs": [],
   "source": [
    "# i = rows\n",
    "# j = columns\n",
    "\n",
    "for i in range(n):\n",
    "    for j in range(m):\n",
    "        if data[i][j] == '#':\n",
    "            M[i, j] = 1\n"
   ]
  },
  {
   "cell_type": "code",
   "execution_count": 70,
   "metadata": {},
   "outputs": [],
   "source": [
    "# check how many trees\n",
    "\n",
    "i = 0\n",
    "j = 0\n",
    "count = 0\n",
    "\n",
    "while i < n-1:\n",
    "    if M[i+1][j+3] == 1:\n",
    "        count += 1\n",
    "    i += 1\n",
    "    j += 3"
   ]
  },
  {
   "cell_type": "code",
   "execution_count": 71,
   "metadata": {},
   "outputs": [
    {
     "data": {
      "text/plain": [
       "247"
      ]
     },
     "execution_count": 71,
     "metadata": {},
     "output_type": "execute_result"
    }
   ],
   "source": [
    "count"
   ]
  },
  {
   "cell_type": "code",
   "execution_count": null,
   "metadata": {},
   "outputs": [],
   "source": []
  },
  {
   "cell_type": "markdown",
   "metadata": {},
   "source": [
    "# Ex2"
   ]
  },
  {
   "cell_type": "code",
   "execution_count": 72,
   "metadata": {},
   "outputs": [],
   "source": [
    "def check_trees(row, col):\n",
    "    i = 0\n",
    "    j = 0\n",
    "    count = 0\n",
    "\n",
    "    while i < n-1:\n",
    "        if M[i+row][j+col] == 1:\n",
    "            count += 1\n",
    "        i += row\n",
    "        j += col\n",
    "        \n",
    "    return count"
   ]
  },
  {
   "cell_type": "code",
   "execution_count": 74,
   "metadata": {},
   "outputs": [],
   "source": [
    "count_1_1 = check_trees(1, 1)\n",
    "count_3_1 = check_trees(1, 3)\n",
    "count_5_1 = check_trees(1, 5)\n",
    "count_7_1 = check_trees(1, 7)\n",
    "count_1_2 = check_trees(2, 1)"
   ]
  },
  {
   "cell_type": "code",
   "execution_count": 75,
   "metadata": {},
   "outputs": [
    {
     "data": {
      "text/plain": [
       "2983070376"
      ]
     },
     "execution_count": 75,
     "metadata": {},
     "output_type": "execute_result"
    }
   ],
   "source": [
    "count_1_1 * count_3_1 * count_5_1 * count_7_1 * count_1_2"
   ]
  },
  {
   "cell_type": "code",
   "execution_count": null,
   "metadata": {},
   "outputs": [],
   "source": []
  }
 ],
 "metadata": {
  "kernelspec": {
   "display_name": "Python 3",
   "language": "python",
   "name": "python3"
  },
  "language_info": {
   "codemirror_mode": {
    "name": "ipython",
    "version": 3
   },
   "file_extension": ".py",
   "mimetype": "text/x-python",
   "name": "python",
   "nbconvert_exporter": "python",
   "pygments_lexer": "ipython3",
   "version": "3.8.6"
  }
 },
 "nbformat": 4,
 "nbformat_minor": 4
}
